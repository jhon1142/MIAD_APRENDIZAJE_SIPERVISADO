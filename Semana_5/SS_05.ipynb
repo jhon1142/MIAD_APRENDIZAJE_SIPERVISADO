{
 "cells": [
  {
   "cell_type": "markdown",
   "metadata": {},
   "source": [
    "<div >\n",
    "<img src = \"figs/ans_banner_1920x200.png\" />\n",
    "</div>"
   ]
  },
  {
   "cell_type": "markdown",
   "metadata": {},
   "source": [
    "# Semana 5. Sesión Sincrónica.\n",
    "\n",
    "El  *cuaderno* tiene como objetivo hacer una introducción a los sistemas de recomendación.\n",
    "\n",
    "**NO** es necesario editar el archivo o hacer una entrega. Los ejemplos contienen celdas con código ejecutable (`en gris`), que podrá modificar libremente. Esta puede ser una buena forma de aprender nuevas funcionalidades del *cuaderno*, o experimentar variaciones en los códigos de ejemplo.\n",
    "\n"
   ]
  },
  {
   "cell_type": "markdown",
   "metadata": {},
   "source": [
    "# Sistemas de Recomendación\n",
    "\n",
    "## ¿Qué son los sistemas de recomendaciones?\n",
    "\n",
    "\n",
    "Las preferencias de los individuos suelen seguir patrones que los sistemas de recomendación pueden aprovechar, por ejemplo,\n",
    "\n",
    "- Si te interesó:  <div style=\"max-width:200px\">\n",
    "<img src = \"figs/iron_man.jpg\" />\n",
    "</div>\n",
    "\n",
    "\n",
    "- También te puede interesar: <div style=\"max-width:200px\">\n",
    "<img src = \"figs/thor.jpg\" />\n",
    "</div> \n",
    "\n",
    "\n",
    "\n",
    "\n",
    "- Los sistemas de recomendación entonces encuentran patrones que son utilizados para predecir qué otros productos podrían gustarnos y generar sugerencias, de forma tal que  los usuarios encuentren contenido atractivo en un gran corpus. \n",
    "\n",
    "- Estos sistemas son muy exitosos, por ejemplo según un estudio del 2013 de [McKinsey](https://www.mckinsey.com/industries/retail/our-insights/how-retailers-can-keep-up-with-consumers), el 35% de los artículos comprados en Amazon surgen de estos sistemas de recomendación, y por lo tanto vale la pena estudiarlos cuidadosamente."
   ]
  },
  {
   "cell_type": "markdown",
   "metadata": {},
   "source": [
    "# Filtrado Colaborativo Basado en Items: Análisis de Canasta de Compra. \n",
    "\n",
    "\n",
    "## ¿Qué es el algoritmo A Priori?\n",
    "\n",
    "El algoritmo A Priori se usa para encontrar patrones frecuentes en conjuntos de datos, especialmente para descubrir qué elementos aparecen juntos con frecuencia. Es muy usado en análisis de cestas de compra.\n",
    "\n",
    "### Principio clave del A Priori\n",
    "\n",
    "**Si un conjunto no es frecuente, ninguno de sus superconjuntos puede ser frecuente.** Esto permite podar eficientemente el espacio de búsqueda.\n",
    "\n",
    "## Ejemplo práctico: Supermercado\n",
    "\n",
    "Imaginemos que tenemos estas 5 transacciones de un supermercado:\n",
    "\n",
    "**Transacciones:**\n",
    "1. {Pan, Leche, Huevos}\n",
    "2. {Pan, Mantequilla}\n",
    "3. {Pan, Leche, Mantequilla, Huevos}\n",
    "4. {Leche, Mantequilla}\n",
    "5. {Pan, Leche}"
   ]
  },
  {
   "cell_type": "markdown",
   "metadata": {},
   "source": [
    "## Ejemplo en Python"
   ]
  },
  {
   "cell_type": "code",
   "execution_count": null,
   "metadata": {},
   "outputs": [],
   "source": [
    "import pandas as pd\n",
    "\n",
    "df = pd.read_csv('data/Groceries_dataset.csv')\n",
    "df.head()"
   ]
  },
  {
   "cell_type": "code",
   "execution_count": null,
   "metadata": {},
   "outputs": [],
   "source": [
    "df['single_transaction'] = df['Member_number'].astype(str)+'_'+df['Date'].astype(str)\n",
    "\n",
    "df.head()"
   ]
  },
  {
   "cell_type": "code",
   "execution_count": null,
   "metadata": {},
   "outputs": [],
   "source": [
    "df2 = pd.crosstab(df['single_transaction'], df['itemDescription'])\n",
    "\n",
    "# El último paso de preprocesamiento de datos consiste en codificar todos los valores del data frame anterior a booleanos (True/False). Esto significa que, aunque haya múltiples unidades del mismo artículo en una misma transacción, el valor se codificará como True, ya que el análisis de canasta de mercado no toma en cuenta la frecuencia de compra.\n",
    "basket_input = df2.applymap(lambda x: x > 0)\n",
    "\n",
    "basket_input.head()"
   ]
  },
  {
   "cell_type": "code",
   "execution_count": null,
   "metadata": {},
   "outputs": [],
   "source": [
    "!pip install mlxtend"
   ]
  },
  {
   "cell_type": "code",
   "execution_count": null,
   "metadata": {},
   "outputs": [],
   "source": [
    "from mlxtend.frequent_patterns import apriori\n",
    "from mlxtend.frequent_patterns import association_rules\n",
    "\n",
    "frequent_itemsets = apriori(basket_input, min_support=0.001, use_colnames=True)\n",
    "\n",
    "rules = association_rules(frequent_itemsets, metric=\"lift\")\n",
    "\n",
    "rules.head()"
   ]
  },
  {
   "cell_type": "markdown",
   "metadata": {},
   "source": [
    "# Filtrado colaborativo basado en embeddings"
   ]
  },
  {
   "cell_type": "markdown",
   "metadata": {},
   "source": [
    "\n",
    "Estudiemos un ejemplo en el que queremos generar recomendaciones de películas a partir de *embeddings*. Supondremos que nuestra plataforma de streaming: **\"SlowFlow\"** tiene 4 usuarios y 5 películas: [Batman: El caballero de la noche asciende](https://es.wikipedia.org/wiki/The_Dark_Knight_Rises), [Harry Potter y la Piedra Filosofal](https://es.wikipedia.org/wiki/Harry_Potter_y_la_piedra_filosofal), [Shrek](https://es.wikipedia.org/wiki/Shrek), [Las trillizas de Belleville](https://es.wikipedia.org/wiki/Les_Triplettes_de_Belleville) y [Memento](https://es.wikipedia.org/wiki/Memento). \n",
    "\n",
    "La siguiente matriz que llamaremos $A$, donde $A\\in\\mathbb{R}^{ m\\times n}$, es decir, las filas son los $m$ usuarios y las columnas las $n$ películas, muestra con un $\\checkmark$ las películas que cada usuario vió:\n",
    "\n",
    "\n",
    "<center>\n",
    "<img src = \"figs/colab0.png\" alt = \"embedding1D\" style = \"width: 500px;\"/>\n",
    "</center>\n",
    "\n",
    "\n",
    "#### Embedding en una sola dimensión \n",
    "\n",
    "Comencemos representando las películas y los usuarios a un *embedding space*  de una sola dimensión. Por ejemplo, a lo largo del segmento $[-1,1]$ de forma tal que películas e individuos similares estén más cerca.\n",
    "\n",
    "\n",
    "\n",
    "<center>\n",
    "<img src = \"figs/colab1.png\" alt = \"embedding1D\" style = \"width: 500px;\"/>\n",
    "</center>\n",
    "\n",
    "<center>\n",
    "<img src = \"figs/colab2b.png\" alt = \"embedding1D\" style = \"width: 500px;\"/>\n",
    "</center>\n",
    "\n",
    "#### Embeddings en dos dimensiones\n",
    "\n",
    "<center>\n",
    "<img src = \"figs/colab4.png\" alt = \"embedding2D\" style = \"width: 500px;\"/>\n",
    "</center>\n",
    "\n",
    "<center>\n",
    "<img src = \"figs/colab5.png\" alt = \"embedding2D\" style = \"width: 500px;\"/>\n",
    "</center>\n",
    "\n",
    "\n",
    "Finalmente\n",
    "\n",
    "<center>\n",
    "<img src = \"figs/colab3b.png\" alt = \"embedding2D\" style = \"width: 500px;\"/>\n",
    "</center>\n"
   ]
  },
  {
   "cell_type": "markdown",
   "metadata": {},
   "source": [
    "#### Como obtenemos los embeddings?\n",
    "\n",
    "Una forma de obtener embeddings es mediante la Descomposición en Valores Singulares (SVD):\n",
    "\n",
    "$$ A = U\\Sigma V' $$\n",
    "\n",
    "En el contexto tradicional de SVD, \n",
    "    \n",
    " - $U$ es una matriz ortogonal cuyas columnas son los vectores singulares de la matriz original $A$, que están relacionados con los **vectores propios (característicos)** de $AA'$. Estos vectores también tienen una estrecha relación con las **componentes principales** en Análisis de Componentes Principales (PCA), ya que representan las direcciones principales de variabilidad en los datos para las filas de $A$. \n",
    " - Por otro lado, $V$ es otra matriz ortogonal cuyas columnas son los vectores singulares de $A$, pero asociados con las columnas de la matriz original, representando las direcciones principales de variabilidad en las columnas de $A$. En otras palabras, $U$ y $V$ son matrices que describen cómo las filas y las columnas de $A$ se pueden proyectar en espacios de características latentes.\n",
    "\n",
    "En el **contexto de embeddings**, $U$ y $V$ tienen una interpretación más específica.\n",
    "    \n",
    " - $U$ representa la matriz de **embeddings de los usuarios**, es decir, cada fila de $U$ es una representación latente de un usuario en un espacio de características, capturando sus preferencias a lo largo de diferentes dimensiones latentes. \n",
    " - Similarmente, $V$ es la matriz de **embeddings de los ítems**, donde cada columna de $V$ describe un ítem en ese mismo espacio latente, permitiendo modelar cómo los ítems están relacionados con esas características latentes identificadas.\n",
    "\n",
    "Este **espacio de características latentes** es comparable a lo que ocurre en el contexto de reconocimiento facial con las **Eigenfaces**. En Eigenfaces, las imágenes de rostros se proyectan en un espacio de características latentes donde cada dimensión captura un patrón característico de los rostros, como la forma general o las características distintivas. De manera similar, en el caso de embeddings obtenidos a partir de SVD, tanto los usuarios como los ítems se proyectan en un espacio de características latentes que captura los patrones más representativos de sus interacciones, como preferencias o similitudes. En ambos casos, el objetivo es reducir la dimensionalidad mientras se preserva la información más relevante.\n",
    "\n",
    "La matriz $\\Sigma$ sigue conteniendo los valores singulares, que actúan como ponderadores, indicando qué tan importantes son estas características latentes para describir las interacciones entre usuarios e ítems.\n",
    "\n",
    "Para reducir la dimensionalidad y obtener una representación de rango inferior, seleccionamos solamente las primeras $k$ características de estas matrices, que consideramos capturan de manera más efectiva las preferencias y los gustos de los usuarios."
   ]
  },
  {
   "cell_type": "markdown",
   "metadata": {},
   "source": [
    "####  Interpretación de Embeddings\n",
    "\n",
    "##### Ejemplo 1:"
   ]
  },
  {
   "cell_type": "code",
   "execution_count": null,
   "metadata": {},
   "outputs": [],
   "source": [
    "import pandas as pd\n",
    "import numpy as np\n",
    "\n",
    "# Cargamos y visualizamos  los datos\n",
    "pelis = pd.read_csv('data/pelis.csv')\n",
    "pelis = pelis.set_index(\"Usuarios\")\n",
    "pelis"
   ]
  },
  {
   "cell_type": "code",
   "execution_count": null,
   "metadata": {},
   "outputs": [],
   "source": [
    "np.linalg.matrix_rank(pelis.to_numpy())"
   ]
  },
  {
   "cell_type": "code",
   "execution_count": null,
   "metadata": {},
   "outputs": [],
   "source": [
    "U, S, Vt = np.linalg.svd(pelis, full_matrices=False)"
   ]
  },
  {
   "cell_type": "code",
   "execution_count": null,
   "metadata": {},
   "outputs": [],
   "source": [
    "print(U[:,0:2])"
   ]
  },
  {
   "cell_type": "code",
   "execution_count": null,
   "metadata": {},
   "outputs": [],
   "source": [
    "print(Vt[0:2,:])"
   ]
  },
  {
   "cell_type": "code",
   "execution_count": null,
   "metadata": {},
   "outputs": [],
   "source": [
    "n=2\n",
    "k=2\n",
    "S2= np.resize(S,[n,1])*np.eye(n,k) #ponemos los valores singulares en una matriz diagonal\n",
    "\n",
    "print(S2)"
   ]
  },
  {
   "cell_type": "code",
   "execution_count": null,
   "metadata": {},
   "outputs": [],
   "source": [
    "#Reconstrucción\n",
    "l=2\n",
    "pd.DataFrame(np.dot(U[:,0:l],np.dot(S2[0:l,0:l],Vt[0:l,:]))).round()"
   ]
  },
  {
   "cell_type": "markdown",
   "metadata": {},
   "source": [
    "##### Ejemplo 2:"
   ]
  },
  {
   "cell_type": "code",
   "execution_count": null,
   "metadata": {},
   "outputs": [],
   "source": [
    "# Cargamos y visualizamos  los datos\n",
    "pelis2 = pd.read_csv('data/pelis2.csv')\n",
    "pelis2 = pelis2.set_index(\"Usuarios\")\n",
    "pelis2"
   ]
  },
  {
   "cell_type": "code",
   "execution_count": null,
   "metadata": {},
   "outputs": [],
   "source": [
    "np.linalg.matrix_rank(pelis2.to_numpy())"
   ]
  },
  {
   "cell_type": "code",
   "execution_count": null,
   "metadata": {},
   "outputs": [],
   "source": [
    "U, S, Vt = np.linalg.svd(pelis2,full_matrices=False)\n",
    "print('U, S, Vt ='), U, S, Vt"
   ]
  },
  {
   "cell_type": "code",
   "execution_count": null,
   "metadata": {},
   "outputs": [],
   "source": [
    "n=3\n",
    "k=3\n",
    "S2= np.resize(S,[n,1])*np.eye(n,k) #ponemos los valores singulares en una matriz diagonal\n",
    "l=3\n",
    "pd.DataFrame(np.dot(U[:,0:l],np.dot(S2[0:l,0:l],Vt[0:l,:]))).round()"
   ]
  },
  {
   "cell_type": "markdown",
   "metadata": {},
   "source": [
    "# Evaluación Sistemas de Recomendación\n",
    "\n",
    "\n",
    "- La evaluación de los sistemas de recomendación es otro paso importante para evaluar la efectividad del método. \n",
    "\n",
    "- En la literatura podemos ver dos tipologías principales: evaluación offline y online.\n",
    "\n",
    "\n",
    "##  Offline\n",
    " - La evaluación offline es la que estamos acostumbrados en ML supervisado donde usamos un conjunto de entrenamiento y un conjunto de prueba; y aplicamos la métrica de evaluación apropiada. \n",
    "    Por ejemplo si se trata de etiquetas numéricas, como las calificaciones de 5 estrellas, la forma más común de validar un sistema de recomendación se basa en su valor de predicción, es decir, la capacidad de predecir las calificaciones del usuario. Las funciones estándar como el error cuadrático medio (RMSE), la precisión, las curvas ROC, etc...\n",
    "\n",
    "\n",
    "##  Online    \n",
    " \n",
    " - La evaluación online es cuando utilizamos un conjunto de herramientas que nos permite observar las interacciones de los usuarios con el sistema. \n",
    " - La técnica en línea más común se llama prueba A-B y tiene la ventaja de permitir la evaluación del sistema al mismo tiempo que los usuarios aprenden, compran o juegan con el sistema de recomendación. \n",
    "\n",
    "<div style=\"max-width:500px\">\n",
    "<img src = \"figs/AB.jpg\" />\n",
    "</div>\n",
    "\n",
    "    \n",
    " - Esto acerca la evaluación al funcionamiento real del sistema y la hace realmente efectiva cuando el propósito del sistema es cambiar o influir en el comportamiento de los usuarios. \n",
    " - Para evaluar la prueba, estamos interesados en medir cómo cambia el comportamiento del usuario cuando el usuario interactúa con diferentes sistemas de recomendación. Y require estimación de parámetros causales.\n",
    "\n",
    "<div style=\"max-width:500px\">\n",
    "<img src = \"figs/BING.png\" />\n",
    "</div>\n",
    "\n",
    "\n",
    "\n",
    "    \n",
    "- En esta situación, las métricas fuera de línea como RMSE no son lo suficientemente buenas. En este caso, estamos particularmente interesados en la evaluación del objetivo global del sistema de recomendación, la retención de usuario.\n"
   ]
  }
 ],
 "metadata": {
  "kernelspec": {
   "display_name": "Python 3",
   "language": "python",
   "name": "python3"
  },
  "language_info": {
   "codemirror_mode": {
    "name": "ipython",
    "version": 3
   },
   "file_extension": ".py",
   "mimetype": "text/x-python",
   "name": "python",
   "nbconvert_exporter": "python",
   "pygments_lexer": "ipython3",
   "version": "3.7.6"
  },
  "toc": {
   "base_numbering": 1,
   "nav_menu": {},
   "number_sections": true,
   "sideBar": true,
   "skip_h1_title": false,
   "title_cell": "Table of Contents",
   "title_sidebar": "Contents",
   "toc_cell": false,
   "toc_position": {},
   "toc_section_display": true,
   "toc_window_display": false
  }
 },
 "nbformat": 4,
 "nbformat_minor": 5
}
