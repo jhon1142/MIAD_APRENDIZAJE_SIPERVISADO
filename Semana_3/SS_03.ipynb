{
 "cells": [
  {
   "cell_type": "markdown",
   "metadata": {},
   "source": [
    "<div >\n",
    "<img src = \"figs/ans_banner_1920x200.png\" />\n",
    "</div>"
   ]
  },
  {
   "cell_type": "markdown",
   "metadata": {},
   "source": [
    "# Sesión Sincrónica Semana 3\n",
    "\n",
    "\n",
    "En la tercer semana nos enfocaremos en el análisis de clusters, haciendo hicapié en K-medias y K-meoides.\n",
    "\n",
    "\n",
    "**NO** es necesario editar el archivo o hacer una entrega. Los ejemplos contienen celdas con código ejecutable (`en gris`), que podrá modificar libremente. Esta puede ser una buena forma de aprender nuevas funcionalidades del *cuaderno*, o experimentar variaciones en los códigos de ejemplo.\n",
    "\n"
   ]
  },
  {
   "cell_type": "markdown",
   "metadata": {},
   "source": [
    "# Introducción al análisis de clusters\n",
    "\n",
    "Tanto Clustering como PCA y SVD buscan simplificar los datos de forma no supervizada, pero sus mecanismos son diferentes:\n",
    "\n",
    "- PCA y SVD buscan encontrar una representación de baja dimensión de las observaciones que explique una buena fracción de la varianza;\n",
    "\n",
    "- Clustering busca encontrar subgrupos homogéneos entre las observaciones.\n",
    "\n",
    "\n",
    "## ¿Qué es el análisis de clusters? \n",
    "\n",
    "El análisis de clusters es una de las principales aplicaciones de los algoritmos de aprendizaje no supervisado. Este tipo de análisis se utiliza para juntar observaciones similares en grupos.\n",
    "\n",
    "El gráfico siguiente ilustra el resultado de un análisis de clusters basado en dos variables:\n",
    "\n",
    "\n",
    "<div style=\"max-width:500px\">\n",
    "<img src = \"figs/plot_clustering_notebook.png\" />\n",
    "</div>\n",
    "\n",
    "Se puede apreciar que las observaciones se pueden separar claramente en 3 grupos o clusters, donde las observaciones son lo mas similares dentro de los clusters y  disimilares entre ellos.\n",
    "\n",
    "\n"
   ]
  },
  {
   "cell_type": "markdown",
   "metadata": {},
   "source": [
    "## Clustering para \"Marketing Data Science\"\n",
    "\n",
    "Para que un negocio prospere, es fundamental atraer nuevos clientes, al mismo tiempo que reteniendo efectivamente los actuales. \n",
    "\n",
    "El análisis de clusters facilita identificar grupos homogéneos permitiendo realizar estrategias que permiten captar oportunidades que los análisis tradicionales a menudo no son capaces.\n",
    "\n",
    "En esta tarea es importante que los segmentos identificados mediante el análisis de clusters deben ser tanto reconocibles como accesibles. Esto permite a los gerentes de marketing personalizar productos y mensajes de manera eficaz, optimizando las campañas de marketing para alcanzar de manera efectiva a cada grupo.\n",
    "\n",
    "Para ello es crucial elegir variables que no solo segmenten efectivamente el mercado, sino que también sean fáciles de medir y estén ampliamente disponibles. \n",
    "\n"
   ]
  },
  {
   "cell_type": "markdown",
   "metadata": {},
   "source": [
    "### Caso 1:\n",
    "\n",
    "<div >\n",
    "<img src = \"figs/RethinkSegmentation.png\" />\n",
    "</div>"
   ]
  },
  {
   "cell_type": "markdown",
   "metadata": {},
   "source": [
    "### Caso 2:\n",
    "\n",
    "<div >\n",
    "<img src = \"figs/Harrans.png\" />\n",
    "</div>\n",
    "\n",
    "<div >\n",
    "    <img src = \"figs/WallStreet.png\" />\n",
    "\n",
    "</div>"
   ]
  },
  {
   "cell_type": "markdown",
   "metadata": {},
   "source": [
    "### Caso 3:\n",
    "\n",
    "\n",
    "<div >\n",
    "    <img src = \"figs/Metlife.png\" />\n",
    "\n",
    "</div>\n",
    "\n",
    "\n",
    "<div >\n",
    "    <img src = \"figs/Metlife2.png\" />\n",
    "\n",
    "</div>"
   ]
  },
  {
   "cell_type": "markdown",
   "metadata": {},
   "source": [
    "\n",
    "Las etapas del análisis de clusters podemos resumirlas de la siguiente forma:\n",
    "\n",
    "1. Iniciamos con una matriz de datos\n",
    "\n",
    "    \\begin{align}\n",
    "X_{n\\times k}=\\left(\\begin{array}{cccc}\n",
    "x_{11} &  & \\dots & x_{1k}\\\\\n",
    "\\\\\n",
    "\\vdots &  & x_{ik} & \\vdots\\\\\n",
    "\\\\\n",
    "x_{n1} &  & \\dots & x_{nk} \n",
    "\\end{array}\\right)\n",
    "    \\end{align}\n",
    "\n",
    "2. Calculamos la matriz de distancia o disimilitud\n",
    "\n",
    "\\begin{align}\n",
    "D_{n\\times n}=\\left(\\begin{array}{ccccc}\n",
    "d_{11} &  & \\dots &  & d_{1n}\\\\\n",
    " & \\ddots\\\\\n",
    "\\vdots &  & d_{jj} &  & \\vdots\\\\\n",
    " &  &  & \\ddots\\\\\n",
    "d_{n1} &  & \\dots &  & d_{nn}\n",
    "\\end{array}\\right)\n",
    "\\end{align}\n",
    "\n",
    "\n",
    "3. Aplicamos el algoritmo de clustering. Existen varios tipos, en esta semana nos centramos en aquellos  **Algoritmos basados en centroides**: cada cluster está representado por un centroide. Los clusters se construyen en función de la distancia al centroide del grupo.\n",
    "\n",
    "\n"
   ]
  },
  {
   "cell_type": "markdown",
   "metadata": {},
   "source": [
    "\n",
    "\n",
    "## Clustering\n",
    "\n",
    "### K-medias\n",
    "\n",
    "- El algorito de K-medias, forma parte de los algoritmos de clustering basados en centroides y es uno de los más intutivos y utilizados. \n",
    "   \n",
    "- El algoritmo  agrupa las observaciones en un número predefinido de K clusters de forma que, la suma de las varianzas internas de los clusters, sea lo menor posible.\n",
    "   \n",
    "- En otra palabras, busca que las observaciones dentro del cluster sean los más similares entre si, y fuera de los clusters lo más disimilares entre ellas.\n",
    "\n",
    "\n",
    "### K-Medoides  \n",
    "\n",
    "-  K-medoides es un método de clustering muy similar a K-medias puesto que ambos agrupan las observaciones en K clusters. \n",
    "\n",
    "-  Sin embargo, la diferencia principal radica en que K-medoides en vez de utilizar centroides, emplea medoides.\n",
    "\n",
    "- Un medoide es un elemento del cluster cuya distancia promedio entre él y todos los demás elementos del cluster es la menor posible. \n",
    "\n",
    "- Este elemento es el elemento más central del cluster. La idea es que al ser el más central puede ser considerado como el más representativo. \n",
    "\n",
    "- Inicialmente este algoritmo se implementó usando como medida de distancia  la distancia de Manhattan, sin embargo el algoritmo puede ser generalizado para utilizar cualquier medida de distancia.\n",
    "\n",
    "-  El hecho de utilizar medoides en lugar de centroides hace de K-medoides un método más robusto que K-medias, ya que es menos sensible a *outliers* o valores atípicos. La siguiente figura ilustra la diferencia y muestra como la presencia de un *outlier* posiciona al centroide, denotado con $x$, fuera de la región más densa:\n",
    "\n",
    "\n",
    "<center>\n",
    "<img src = \"figs/media_vs_medoide.png\" alt=\"centroides\">\n",
    "</center>\n",
    "\n",
    "\n",
    "### Evaluación de los clusters\n",
    "\n",
    "\n",
    "Este es un procedimiento algo arbitrario; uno de los aspectos más débiles de realizar un análisis de clusters.  Existen diferentes métodos (reglas de detención) para hacer esto, generalmente involucrando alguna medida de dis/similitud (distancia) entre grupos. Dos de las más usadas son:\n",
    "\n",
    "#### Método del codo\n",
    "\n",
    "El  método de codo, o Elbow (en inglés), consiste en graficar la varianza intra cluster en función del número de clusters y encontrar el punto de la curva, codo, a partir del cual la mejora deja de ser notable.\n",
    "\n",
    "La desventaja de este método para seleccionar $K$ es que no existen criterios claros para saber hasta que punto una disminución marginal es razonable o no, y esto lleva a diferencias entre investigadores.\n",
    "\n",
    "#### Coeficiente de Silhouette\n",
    "\n",
    "Otro criterio, es el coeficiente de Silhouette pues este nos indica la calidad de los clusters en donde números más grandes corresponden con mejores divisiones. \n",
    "\n",
    "Cuantifica cuán buena es la asignación que se ha hecho de una observación comparando su similitud con el resto de observaciones de su cluster frente a las de los otros clusters. Su valor puede estar entre -1 y 1, siendo valores próximos a 1 un indicativo de que la observación se ha asignado al cluster correcto.\n",
    "\n",
    "\n",
    "## Caveat\n",
    "\n",
    "Los métodos de clustering son exploratorios: se pueden utilizar para evaluar la calidad de los datos y generar hipótesis. \n",
    "\n",
    "Pero no importa lo que entre en el algoritmo de agrupamiento, los clusters salen. Esta es una situación clásica de \"basura que entra, basura que sale\". \n",
    "\n",
    "Obviamente, esperamos que lo que se está metiendo en el análisis no sea basura, pero eso no garantiza que vayan saliendo perlas de sabiduría.\n",
    "\n",
    "La conclusión es que la agrupación es buena si es útil para responder el problema en particular. Pero, esto es difícil de evaluar.\n",
    "\n",
    "Las medidas arriba definidas son una verificación interna de la \"estrechez\" de los grupos, pero no garantiza que los grupos sean útiles y/o significativos para el problema bajo estudio. Esto requiere que el usuario utilice su capacidad y discernimiento."
   ]
  },
  {
   "cell_type": "markdown",
   "metadata": {},
   "source": [
    "## Ejemplo: Profesionalismo legislativo"
   ]
  },
  {
   "cell_type": "code",
   "execution_count": null,
   "metadata": {},
   "outputs": [],
   "source": [
    "### Carga de datos \n",
    "\n",
    "import pandas as pd\n",
    "import numpy as np\n",
    "from sklearn.preprocessing import scale\n",
    "from matplotlib import pyplot as plt\n",
    "import seaborn as sb\n",
    "np.set_printoptions(precision=2)\n",
    "\n",
    "# Cargamos y visualizamos  los datos\n",
    "states = pd.read_csv('data/legislature.csv')\n",
    "states = states.set_index(\"state\")\n",
    "states = states.dropna()\n",
    "states.head()"
   ]
  },
  {
   "cell_type": "markdown",
   "metadata": {},
   "source": [
    "### Análisis preliminar \n"
   ]
  },
  {
   "cell_type": "code",
   "execution_count": null,
   "metadata": {},
   "outputs": [],
   "source": [
    "states.describe()"
   ]
  },
  {
   "cell_type": "code",
   "execution_count": null,
   "metadata": {},
   "outputs": [],
   "source": [
    "plt.figure(figsize=(20,20))\n",
    "dataplot = sb.heatmap(states.corr(), cmap=\"YlGnBu\", annot=True)\n",
    "plt.show()"
   ]
  },
  {
   "cell_type": "code",
   "execution_count": null,
   "metadata": {},
   "outputs": [],
   "source": [
    "states.sort_values(by=['duracion_total_sesiones'],ascending=False).head(10)"
   ]
  },
  {
   "cell_type": "code",
   "execution_count": null,
   "metadata": {},
   "outputs": [],
   "source": [
    "states.sort_values(by=['duracion_sesiones'],ascending=False).head(10)"
   ]
  },
  {
   "cell_type": "code",
   "execution_count": null,
   "metadata": {},
   "outputs": [],
   "source": [
    "states.sort_values(by=['salarios'],ascending=False).head()"
   ]
  },
  {
   "cell_type": "code",
   "execution_count": null,
   "metadata": {},
   "outputs": [],
   "source": [
    "states.sort_values(by=['gastos'],ascending=False).head()"
   ]
  },
  {
   "cell_type": "code",
   "execution_count": null,
   "metadata": {},
   "outputs": [],
   "source": [
    "from pca import pca\n",
    "\n",
    "model = pca(4,normalize=False,verbose=True)\n",
    "results = model.fit_transform(states)\n",
    "\n",
    "# Gráfica\n",
    "fig, ax = model.plot()"
   ]
  },
  {
   "cell_type": "code",
   "execution_count": null,
   "metadata": {},
   "outputs": [],
   "source": [
    "from pca import pca\n",
    "\n",
    "model = pca(4,normalize=True,verbose=True)\n",
    "results = model.fit_transform(states)\n",
    "\n",
    "# Gráfica\n",
    "fig, ax = model.plot()"
   ]
  },
  {
   "cell_type": "code",
   "execution_count": null,
   "metadata": {},
   "outputs": [],
   "source": [
    "#puedo obtener la varianza explicada\n",
    "results.get('explained_var')"
   ]
  },
  {
   "cell_type": "code",
   "execution_count": null,
   "metadata": {},
   "outputs": [],
   "source": [
    "model = pca(2,normalize=True,verbose=True)\n",
    "results = model.fit_transform(states)\n",
    "\n",
    "#ver los pesos o loadings\n",
    "loadings_pca=model.results['loadings'].transpose()\n",
    "loadings_pca"
   ]
  },
  {
   "cell_type": "code",
   "execution_count": null,
   "metadata": {},
   "outputs": [],
   "source": [
    "# Biplot\n",
    "fig, ax = model.biplot(PC=[0, 1],legend=False)"
   ]
  },
  {
   "cell_type": "code",
   "execution_count": null,
   "metadata": {},
   "outputs": [],
   "source": [
    "scores=pd.DataFrame(scale(states).dot(loadings_pca))\n",
    "scores[\"state\"]=states.index\n",
    "scores = scores.set_index(\"state\")\n",
    "scores.columns = ['PC1','PC2']\n",
    "scores.head()"
   ]
  },
  {
   "cell_type": "markdown",
   "metadata": {},
   "source": [
    "### Clustering: K-medias"
   ]
  },
  {
   "cell_type": "code",
   "execution_count": null,
   "metadata": {},
   "outputs": [],
   "source": [
    "from sklearn.cluster import KMeans\n",
    "\n",
    "\n",
    "kmeans_c = KMeans(n_clusters = 5, random_state = 1234).fit(scores)\n",
    "states['cluster'] = kmeans_c.labels_\n",
    "\n",
    "states.groupby('cluster').mean()"
   ]
  },
  {
   "cell_type": "code",
   "execution_count": null,
   "metadata": {},
   "outputs": [],
   "source": [
    "fig, ax = plt.subplots(figsize=(15,15))\n",
    "g_puntos = plt.scatter(scores.iloc[:,0], scores.iloc[:,1], c = states['cluster'], alpha = 0.8, label = \"Centroides\")\n",
    "plt.scatter(kmeans_c.cluster_centers_[:,0],kmeans_c.cluster_centers_[:,1],c=['r'],marker='*',s=80)\n",
    "for i in range(scores.shape[0]):\n",
    "  plt.text(x=scores.PC1[i]+0.1,y=scores.PC2[i]+0.1,s=scores.index[i]       )\n",
    "plt.show()"
   ]
  },
  {
   "cell_type": "code",
   "execution_count": null,
   "metadata": {},
   "outputs": [],
   "source": [
    "from sklearn.metrics import silhouette_score\n",
    "\n",
    "\n",
    "rg=5\n",
    "\n",
    "varianza_intra_cluster = []\n",
    "silhouettes = []\n",
    "\n",
    "for k in range (1, rg): # Evaluamos entre 1 a rg clusters posibles\n",
    "    kmeans = KMeans(n_clusters = k, random_state = 123).fit(scores)\n",
    "    varianza_intra_cluster.append(kmeans.inertia_)\n",
    "    try:\n",
    "        silhouette = silhouette_score(scores, kmeans.labels_)\n",
    "    except:\n",
    "        silhouette = 0 # El índice de Silhouette sólo se puede calcular cuando se tiene K>1\n",
    "    silhouettes.append(silhouette)"
   ]
  },
  {
   "cell_type": "code",
   "execution_count": null,
   "metadata": {},
   "outputs": [],
   "source": [
    "plt.plot(range(1, rg), varianza_intra_cluster, marker='o')\n",
    "plt.xlabel('Número de clústeres (K)')\n",
    "plt.ylabel('Varianza intra clúster')\n",
    "plt.show()"
   ]
  },
  {
   "cell_type": "code",
   "execution_count": null,
   "metadata": {},
   "outputs": [],
   "source": [
    "plt.plot(range(1, rg), silhouettes, marker='o')\n",
    "plt.xlabel('Número de clústeres (K)')\n",
    "plt.ylabel('Índice de Silhouette')\n",
    "plt.show()"
   ]
  },
  {
   "cell_type": "code",
   "execution_count": null,
   "metadata": {},
   "outputs": [],
   "source": [
    "kmeans = KMeans(n_clusters = 2, random_state = 1234).fit(scores)\n",
    "states['cluster'] = kmeans.labels_\n",
    "scores['cluster'] = kmeans.labels_\n",
    "states.head()"
   ]
  },
  {
   "cell_type": "code",
   "execution_count": null,
   "metadata": {},
   "outputs": [],
   "source": [
    "scores.groupby('cluster').mean()"
   ]
  },
  {
   "cell_type": "code",
   "execution_count": null,
   "metadata": {},
   "outputs": [],
   "source": [
    "states.groupby('cluster').mean()"
   ]
  },
  {
   "cell_type": "code",
   "execution_count": null,
   "metadata": {},
   "outputs": [],
   "source": [
    "fig, ax = plt.subplots(figsize=(15,15))\n",
    "g_puntos = plt.scatter(scores.iloc[:,0], scores.iloc[:,1], c = states['cluster'], alpha = 0.8, label = \"Centroides\")\n",
    "plt.scatter(kmeans.cluster_centers_[:,0],kmeans.cluster_centers_[:,1],c=['r'],marker='*',s=80)\n",
    "for i in range(scores.shape[0]):\n",
    " plt.text(x=scores.PC1[i]+0.1,y=scores.PC2[i]+0.1,s=scores.index[i]       )\n",
    "plt.show()"
   ]
  },
  {
   "cell_type": "markdown",
   "metadata": {},
   "source": [
    "### 4. K-medoides\n"
   ]
  },
  {
   "cell_type": "code",
   "execution_count": null,
   "metadata": {},
   "outputs": [],
   "source": [
    "from sklearn_extra.cluster import KMedoids \n",
    "\n",
    "\n",
    "Kmedoides_scores = KMedoids(n_clusters = 3, random_state = 321).fit(scores)\n",
    "states['cluster_medoids'] = Kmedoides_scores.labels_\n",
    "scores['cluster_medoids'] = Kmedoides_scores.labels_"
   ]
  },
  {
   "cell_type": "code",
   "execution_count": null,
   "metadata": {},
   "outputs": [],
   "source": [
    "states.groupby('cluster_medoids').mean()"
   ]
  },
  {
   "cell_type": "code",
   "execution_count": null,
   "metadata": {},
   "outputs": [],
   "source": [
    "fig, ax = plt.subplots(figsize=(15,15))\n",
    "g_puntos = plt.scatter(scores.iloc[:,0], scores.iloc[:,1], c = states['cluster_medoids'], alpha = 0.8, label = \"Centroides\")\n",
    "for i in range(scores.shape[0]):\n",
    " plt.text(x=scores.PC1[i]+0.3,y=scores.PC2[i]+0.3,s=scores.index[i])\n",
    "plt.show()"
   ]
  },
  {
   "cell_type": "code",
   "execution_count": null,
   "metadata": {},
   "outputs": [],
   "source": [
    "fig, ax = plt.subplots(figsize=(15,15))\n",
    "g_puntos = plt.scatter(states.iloc[:,0], states.iloc[:,2], c = states['cluster_medoids'], alpha = 0.8, label = \"Centroides\")\n",
    "#for i in range(states.shape[0]):\n",
    " #plt.text(x=states.iloc[i,0]+0.3,y=states.iloc[i,1]+0.3,s=states.index[i])\n",
    "plt.show()"
   ]
  },
  {
   "cell_type": "code",
   "execution_count": null,
   "metadata": {},
   "outputs": [],
   "source": [
    "fig, ax = plt.subplots(figsize=(15,15))\n",
    "g_puntos = plt.scatter(states.iloc[:,2], states.iloc[:,3], c = states['cluster_medoids'], alpha = 0.8, label = \"Centroides\")\n",
    "for i in range(states.shape[0]):\n",
    " plt.text(x=states.iloc[i,2]+0.3,y=states.iloc[i,3]+0.3,s=states.index[i])\n",
    "plt.show()"
   ]
  },
  {
   "cell_type": "code",
   "execution_count": null,
   "metadata": {},
   "outputs": [],
   "source": [
    "Kmedoides_scaled = KMedoids(n_clusters = 2, random_state = 321).fit(scale(states))\n"
   ]
  },
  {
   "cell_type": "code",
   "execution_count": null,
   "metadata": {},
   "outputs": [],
   "source": [
    "states['cluster_medoids_scaled'] = Kmedoides_scaled.labels_\n",
    "scores['cluster_medoids_scaled'] = Kmedoides_scaled.labels_"
   ]
  },
  {
   "cell_type": "code",
   "execution_count": null,
   "metadata": {},
   "outputs": [],
   "source": [
    "fig, ax = plt.subplots(figsize=(15,15))\n",
    "g_puntos = plt.scatter(scores.iloc[:,0], scores.iloc[:,1], c = states['cluster_medoids_scaled'], alpha = 0.8, label = \"Centroides\")\n",
    "for i in range(scores.shape[0]):\n",
    " plt.text(x=scores.PC1[i]+0.1,y=scores.PC2[i]+0.1,s=scores.index[i])\n",
    "plt.show()"
   ]
  },
  {
   "cell_type": "markdown",
   "metadata": {},
   "source": [
    "# Referencias\n",
    "\n",
    "- Leskovec, J., Rajaraman, A., & Ullman, J. D. (2020). Mining of massive data sets. Cambridge university press.\n",
    "- Waggoner, P. Unsupervised Machine Learning for Clustering in Political and Social Research. Mimeo"
   ]
  },
  {
   "cell_type": "markdown",
   "metadata": {},
   "source": [
    "# Información de Sesión"
   ]
  },
  {
   "cell_type": "code",
   "execution_count": null,
   "metadata": {},
   "outputs": [],
   "source": [
    "import session_info\n",
    "\n",
    "session_info.show(html=False)"
   ]
  }
 ],
 "metadata": {
  "kernelspec": {
   "display_name": "Python 3 (ipykernel)",
   "language": "python",
   "name": "python3"
  },
  "language_info": {
   "codemirror_mode": {
    "name": "ipython",
    "version": 3
   },
   "file_extension": ".py",
   "mimetype": "text/x-python",
   "name": "python",
   "nbconvert_exporter": "python",
   "pygments_lexer": "ipython3",
   "version": "3.7.6"
  },
  "toc": {
   "base_numbering": 1,
   "nav_menu": {},
   "number_sections": true,
   "sideBar": true,
   "skip_h1_title": false,
   "title_cell": "Table of Contents",
   "title_sidebar": "Contents",
   "toc_cell": false,
   "toc_position": {},
   "toc_section_display": true,
   "toc_window_display": false
  }
 },
 "nbformat": 4,
 "nbformat_minor": 5
}
