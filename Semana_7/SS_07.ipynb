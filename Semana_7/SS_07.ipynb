{
 "cells": [
  {
   "cell_type": "markdown",
   "id": "324abfa0",
   "metadata": {},
   "source": [
    "<div >\n",
    "<img src = \"figs/ans_banner_1920x200.png\" />\n",
    "</div>"
   ]
  },
  {
   "cell_type": "markdown",
   "id": "9f061327",
   "metadata": {},
   "source": [
    "# Semana 7. Sesión Sincrónica.\n",
    "\n",
    "\n",
    "El  *cuaderno* tiene como objetivo introducir a los estudiantes a estimaciones de densidad.\n",
    "\n",
    "**NO** es necesario editar el archivo o hacer una entrega. Los ejemplos contienen celdas con código ejecutable (`en gris`), que podrá modificar libremente. Esta puede ser una buena forma de aprender nuevas funcionalidades del *cuaderno*, o experimentar variaciones en los códigos de ejemplo.\n",
    "\n"
   ]
  },
  {
   "cell_type": "markdown",
   "id": "d796a717",
   "metadata": {},
   "source": [
    "# Estimacion de densidades\n",
    "\n",
    "La estimación de densidad camina la delgada linea la línea entre el aprendizaje no supervisado, la ingeniería de características (feature engineering) y el modelado de datos. \n",
    "\n",
    " \n",
    "## Para que sirve?\n",
    "\n",
    "\n",
    "$X_1, \\dots X_n \\sim_{iid} F$ con densidad $f$\n",
    "\n",
    "\n",
    "El objetivo es estimar la densidad $f$ con $\\hat{f}$\n",
    "\n",
    "Para qué?\n",
    "\n",
    "- Muchas técnicas de clustering utilizan la densidad (este curso)\n",
    "- Regresiones no paramétricas $\\hat{f}(x,y) \\rightarrow \\hat{E}(y|x)= \\int y \\hat{f}(y|x) dy$\n",
    "- Clasificación: Regla de Bayes $\\hat{p}(Y=1|X) > 0.5 \\rightarrow$ Clasificar como 1.\n",
    "\n",
    "\n",
    "\n",
    "En este curso nos centraremos en dos de las técnicas más populares: \n",
    " \n",
    " - Estimacion de densidad de Kernel (no paramétrico)\n",
    " - Modelos de Mezclas Gausianes (MMG) (paramétrico)\n",
    " \n",
    "## Métodos Paramétricos\n",
    "Asumen una forma funcional para $p$ :\n",
    "\n",
    "\n",
    "  \\begin{align}\n",
    "  f\\left(x_o\\right)=\\phi\\left(x_o\\right)=\\frac{1}{\\sigma\\sqrt{2\\ \\pi}}\\exp{\\left\\lfloor-\\ \\frac{1}{2}\\left(\\frac{x_o-\\mu}{\\sigma}\\right)^2\\right\\rfloor}\n",
    "  \\end{align}\n",
    "\n",
    "\n",
    "La ignorancia sobre $f\\left(x_o\\right)$ se limita a la ignorancia de dos parámetros $\\mu$ and $\\sigma$\n",
    " \n",
    "## Métodos no paramétricos\n",
    "\n",
    "\n",
    "- Buscan estimar $f(x)$ sin asumir una forma funcional particular, sólo suponiendo ciertas condiciones de regularidad de la densidad (suavidad, diferenciabilidad) \n",
    "\n",
    "\n",
    "-  ¿Cómo se interpreta la información muestral?\n",
    "\n",
    "\n",
    "-  Si observamos más datos “cerca” de $x$ que de $x'$ inferimos que $f(x )> f(x') $"
   ]
  },
  {
   "cell_type": "markdown",
   "id": "7dc8d0fe",
   "metadata": {},
   "source": [
    "<div >\n",
    "<img src = \"figs/nonpar1.png\" />\n",
    "</div>"
   ]
  },
  {
   "cell_type": "markdown",
   "id": "173efa5f",
   "metadata": {},
   "source": [
    "## Histogramas\n",
    "\n",
    "\n",
    "La estimación de densidad es un concepto muy simple y la mayoría de las personas ya están familiarizadas con una técnica común de estimación de densidad: el histograma.\n",
    "\n",
    "El histograma consiste en estimar la probabilidad dentro de intervalos a través de la frecuencia relativa de observaciones dentro de ese intervalo.\n",
    "\n",
    "Los intervalos se determinan a partir de un punto inicial $a$ y un ancho de banda $w$"
   ]
  },
  {
   "cell_type": "markdown",
   "id": "0aa018b3",
   "metadata": {},
   "source": [
    "<div >\n",
    "<img src = \"figs/nonpar2.png\" />\n",
    "</div>"
   ]
  },
  {
   "cell_type": "markdown",
   "id": "db3a99e7",
   "metadata": {},
   "source": [
    "El área de las barras es la frecuencia relativa: \n",
    "$$\\frac{ Número \\, de\\, obs. \\,en \\,intervalo}{n}$$\n",
    "\n",
    "La altura de las barras es un estimador de la densidad en cualquier punto del intervalo.\n",
    "\n",
    "\n",
    "\\begin{align}\n",
    "\\hat{f}\\left(x_o\\right)=\\ \\frac{Número \\, de\\, obs. \\,en \\,intervalo}{n\\ \\times\\ w}\n",
    "\\end{align}"
   ]
  },
  {
   "cell_type": "code",
   "execution_count": null,
   "id": "fcb0d312",
   "metadata": {},
   "outputs": [],
   "source": [
    "#Cargamos las librerías a utilizar\n",
    "import numpy as np\n",
    "import pandas as pd\n",
    "import matplotlib.pyplot as plt"
   ]
  },
  {
   "cell_type": "code",
   "execution_count": null,
   "id": "36021555",
   "metadata": {},
   "outputs": [],
   "source": [
    "X = np.array([3,3.8, 3.9, 4.1, 4.3,4.5,4.7, 5.1,5.5, 6, 10])\n",
    "fig, ax = plt.subplots(figsize=(12,3))\n",
    "ax.plot(X, np.full_like(X, 0.05), '|k', markeredgewidth=5)\n",
    "ax.set_ylim(-0.05,1)"
   ]
  },
  {
   "cell_type": "code",
   "execution_count": null,
   "id": "7106d77d",
   "metadata": {},
   "outputs": [],
   "source": [
    "fig, ax = plt.subplots(figsize=(12,3))\n",
    "ax.hist(X,align=\"mid\",bins=[3,4,5,6,7,8,9,10],edgecolor=\"black\")\n",
    "ax.plot(X, np.full_like(X, 0.05), '|k', markeredgewidth=5)"
   ]
  },
  {
   "cell_type": "markdown",
   "id": "724ffeb2",
   "metadata": {},
   "source": [
    "**Problemas del histograma: (1) depende del punto inicial**"
   ]
  },
  {
   "cell_type": "code",
   "execution_count": null,
   "id": "55e1ac3b",
   "metadata": {},
   "outputs": [],
   "source": [
    "fig, ax = plt.subplots(figsize=(12,3))\n",
    "ax.hist(X,align=\"mid\",bins=[2.5,3.5,4.5,5.5,6.5,7.5,8.5,9.5,10.5],edgecolor=\"black\")\n",
    "ax.plot(X, np.full_like(X, 0.05), '|k', markeredgewidth=5)"
   ]
  },
  {
   "cell_type": "markdown",
   "id": "4dd001b4",
   "metadata": {},
   "source": [
    "**Problemas del histograma: (2) depende del ancho de banda**"
   ]
  },
  {
   "cell_type": "code",
   "execution_count": null,
   "id": "c4b90a4b",
   "metadata": {},
   "outputs": [],
   "source": [
    "fig, ax = plt.subplots(figsize=(12,3))\n",
    "ax.hist(X,align=\"mid\",bins=[3,5,7,9,11],edgecolor=\"black\")\n",
    "ax.plot(X, np.full_like(X, 0.05), '|k', markeredgewidth=5)"
   ]
  },
  {
   "cell_type": "markdown",
   "id": "1e5f5db6",
   "metadata": {},
   "source": [
    "**Problemas del histograma: (3) es discontinuo en los bordes de los intervalos**"
   ]
  },
  {
   "cell_type": "markdown",
   "id": "17ff4143",
   "metadata": {},
   "source": [
    "## KDE\n",
    "\n",
    "\n",
    "\n",
    "$$\\hat{f_h}(x)=\\frac{1}{nh}\\sum_{i=1}^nK\\left(\\frac{x-x_i}{h}\\right)$$\n",
    "\n",
    "Donde $K$ es una función no negativa llamada kernel y $h > 0$ es un parámetro de suavización llamado ancho de banda. \n"
   ]
  },
  {
   "cell_type": "markdown",
   "id": "7cbad97c",
   "metadata": {},
   "source": [
    "\n",
    "Depende de dos cosas, $K$ y $h$\n",
    "\n",
    "### El Kernel ($K$)\n",
    "\n",
    "- Formalmente el kernel es una función no negativa que controla la forma de la densidad y tiene ciertas propiedades deseables: \n",
    "\n",
    "1. Simetría: $K(u)=K(-u)$.\n",
    "2. Normalizada de modo que $\\int_{-\\infty}^\\infty K(u) du = 1$.\n",
    "3. Monótona decreciente tal que $K'(u)<0$ cuando $u>0$.\n",
    "4. Valor esperado igual a 0: $E[K]=0$.\n",
    "\n",
    "\n",
    "- Intuitivamente esta función sirve como ponderador de la contribución de cada dato. A diferencia del histograma donde el estimador asigna el mismo valor de densidad a cada uno de los puntos del intervalo, KDE asigna en función del kernel.\n",
    "\n",
    "\n",
    "- Ilustremos con un ejemplo"
   ]
  },
  {
   "cell_type": "code",
   "execution_count": null,
   "id": "c7f0bb0e",
   "metadata": {},
   "outputs": [],
   "source": [
    "from scipy import stats\n",
    "\n",
    "fig, ax = plt.subplots(figsize=(6,4))\n",
    "ax.plot(X, np.full_like(X, 0), '|k', markeredgewidth=4)\n",
    "\n",
    "Xgrid = np.linspace(min(X) - 1, max(X) + 1, num=500)\n",
    "\n",
    "\n",
    "dens = stats.norm.pdf(Xgrid, loc=X[0], scale=1)\n",
    "ax.axvline(x=X[0], linestyle='--', color='black')\n",
    "ax.plot(Xgrid, dens)"
   ]
  },
  {
   "cell_type": "code",
   "execution_count": null,
   "id": "66f8dee5",
   "metadata": {},
   "outputs": [],
   "source": [
    "stats.norm.pdf(3, loc=X[0], scale=1)"
   ]
  },
  {
   "cell_type": "code",
   "execution_count": null,
   "id": "2c23477f",
   "metadata": {},
   "outputs": [],
   "source": [
    "stats.norm.pdf(10, loc=X[0], scale=1)"
   ]
  },
  {
   "cell_type": "code",
   "execution_count": null,
   "id": "f5847066",
   "metadata": {},
   "outputs": [],
   "source": [
    "fig, ax = plt.subplots(figsize=(6,4))\n",
    "ax.plot(X, np.full_like(X, 0), '|k', markeredgewidth=4)\n",
    "\n",
    "Xgrid = np.linspace(min(X) - 1, max(X) + 1, num=500)\n",
    "\n",
    "for x in X:\n",
    "    dens = stats.norm.pdf(Xgrid, loc=x, scale=1)\n",
    "    ax.axvline(x=x, linestyle='--', color='black')\n",
    "    ax.plot(Xgrid, dens)"
   ]
  },
  {
   "cell_type": "code",
   "execution_count": null,
   "id": "eeab8c3f",
   "metadata": {},
   "outputs": [],
   "source": [
    "fig, ax = plt.subplots(figsize=(6,4))\n",
    "ax.plot(X, np.full_like(X, 0), '|k', markeredgewidth=4)\n",
    "\n",
    "Xgrid = np.linspace(min(X) - 1, max(X) + 1, num=500)\n",
    "\n",
    "sum = np.full_like(Xgrid, 0)\n",
    "for x in X:\n",
    "    dens = stats.norm.pdf(Xgrid, loc=x, scale=1)\n",
    "    sum = sum + dens\n",
    "    ax.axvline(x=x, linestyle='--', color='black')\n",
    "    ax.plot(Xgrid, dens)\n",
    "    \n",
    "sum = sum / len(X)\n",
    "ax.plot(Xgrid, sum, color='b')\n",
    "ax.fill_between(Xgrid, sum, alpha=0.3, color='b');"
   ]
  },
  {
   "cell_type": "markdown",
   "id": "4b2ab9c0",
   "metadata": {},
   "source": [
    "### El ancho de Banda ($h$)\n",
    "\n",
    "- Este es el parámetro más importante en la estimación de densidad de kernel;\n",
    "\n",
    "- Si el ancho de banda es bajo, la densidad estimada tendrá un suavizado limitado, lo que quiere decir que la densidad va a capturar todo el ruido de los datos de la muestra. \n",
    "\n",
    "- Por el contrario, si el ancho de banda es alto, la densidad estimada será muy suave, omitiendo las características de la densidad real.\n",
    "\n",
    "- La métrica de evaluación es el\n",
    "\n",
    "\\begin{align}\n",
    "MSE(\\hat{f} (x_o)) = Sesgo^2(\\hat{f} (x_o)) +Var(\\hat{f} (x_o))\n",
    "\\end{align}\n",
    "\n",
    "- Formalmente, en la elección del ancho de banda entra en juego el \"dilema\" (*trade-off*) sesgo-varianza: \n",
    "\n",
    "\\begin{align}\n",
    "  Sesgo [\\hat{f} (x_o)] \\approx \\frac{h^2}{2}  f''(x_o ) \\int_{-\\infty}^\\infty K(\\phi) \\phi^2  d\\phi   \n",
    "\\end{align}\n",
    "\n",
    "\n",
    "\\begin{align}\n",
    "   Var [\\hat{f} (x_o)] \\approx \\frac{1}{n\\times h}  f(x_o ) \\int_{-\\infty}^\\infty K^2(\\phi)   d\\phi   \n",
    "\\end{align}\n",
    "\n"
   ]
  },
  {
   "cell_type": "code",
   "execution_count": null,
   "id": "9febf51a",
   "metadata": {},
   "outputs": [],
   "source": [
    "#Llamamos librerias\n",
    "import pandas as pd\n",
    "import numpy as np\n",
    "import warnings\n",
    "warnings.simplefilter(\"ignore\")\n",
    "from sklearn.datasets import make_blobs"
   ]
  },
  {
   "cell_type": "code",
   "execution_count": null,
   "id": "2c5e6154",
   "metadata": {},
   "outputs": [],
   "source": [
    "X, y_true = make_blobs(n_samples=200, centers=[(-74.06383, 4.638495), (-74.03144, 4.693142), (-74.07207, 4.596605)],\n",
    "                       cluster_std=0.01, random_state=123)"
   ]
  },
  {
   "cell_type": "code",
   "execution_count": null,
   "id": "2fd281d8",
   "metadata": {},
   "outputs": [],
   "source": [
    "df=pd.DataFrame(X)\n",
    "df=df.rename(columns={0: \"Longitud\", 1: \"Latitud\"})"
   ]
  },
  {
   "cell_type": "code",
   "execution_count": null,
   "id": "19c97864",
   "metadata": {},
   "outputs": [],
   "source": [
    "df['cluster_true']=y_true\n",
    "df.head()"
   ]
  },
  {
   "cell_type": "code",
   "execution_count": null,
   "id": "af916b23",
   "metadata": {},
   "outputs": [],
   "source": [
    "import folium\n",
    "\n",
    "map = folium.Map(location = [df['Latitud'].mean(),df['Longitud'].mean()], tiles = \"OpenStreetMap\", zoom_start = 10)\n",
    "\n",
    "\n",
    "colour = ['red',\n",
    "    'orange',\n",
    "    'green']\n",
    "\n",
    "def colorCall(val):\n",
    "  val = int(val)\n",
    "  return colour[val]\n",
    "\n",
    "#capa clusters de teatros\n",
    "for lat, lon, c in zip(df['Latitud'], df['Longitud'], df['cluster_true']):\n",
    "    folium.CircleMarker(\n",
    "        [lat, lon],\n",
    "        radius=8,\n",
    "        fill_color = colorCall(c),\n",
    "        fill=True,\n",
    "        color=colorCall(c),\n",
    "        fill_opacity=0.7\n",
    "        ).add_to(map)\n",
    "        \n",
    "\n",
    "#Display el mapa\n",
    "#map "
   ]
  },
  {
   "cell_type": "markdown",
   "id": "39c9178b",
   "metadata": {},
   "source": [
    "- Generemos como centro la [Plaza de Bolívar](https://en.wikipedia.org/wiki/Plaza_de_Bol%C3%ADvar,_Bogot%C3%A1)"
   ]
  },
  {
   "cell_type": "code",
   "execution_count": null,
   "id": "796ccaf6",
   "metadata": {},
   "outputs": [],
   "source": [
    "PB = pd.DataFrame({\n",
    "    \"lugar\": [\"Plaza de Bolívar\"],\n",
    "    \"Latitud\": [4.598128],\n",
    "    \"Longitud\": [-74.076044]\n",
    "    })\n",
    "PB"
   ]
  },
  {
   "cell_type": "code",
   "execution_count": null,
   "id": "dbe2debc",
   "metadata": {},
   "outputs": [],
   "source": [
    "folium.Marker(\n",
    "      location=[PB.iloc[0]['Latitud'], PB.iloc[0]['Longitud']]\n",
    ").add_to(map)\n",
    "map"
   ]
  },
  {
   "cell_type": "markdown",
   "id": "92b66022",
   "metadata": {},
   "source": [
    "- Calculo distancias"
   ]
  },
  {
   "cell_type": "code",
   "execution_count": null,
   "id": "00a94c99",
   "metadata": {},
   "outputs": [],
   "source": [
    "import geopandas as gpd\n",
    "df = gpd.GeoDataFrame(df, geometry = gpd.points_from_xy(df.Longitud, df.Latitud))\n",
    "df.crs = \"EPSG:4326\"\n",
    "\n",
    "df[\"coordenadas\"] = df[\"geometry\"].apply(lambda x: x.representative_point().coords[:][0])"
   ]
  },
  {
   "cell_type": "code",
   "execution_count": null,
   "id": "116c1303",
   "metadata": {},
   "outputs": [],
   "source": [
    "\n",
    "PB = gpd.GeoDataFrame(PB, geometry = gpd.points_from_xy(PB.Longitud, PB.Latitud))\n",
    "PB.crs = \"EPSG:4326\"\n",
    "PB[\"coordenadas\"] = PB[\"geometry\"].apply(lambda x: x.representative_point().coords[:][0])\n",
    "PB\n",
    "\n"
   ]
  },
  {
   "cell_type": "code",
   "execution_count": null,
   "id": "882bdb87",
   "metadata": {},
   "outputs": [],
   "source": [
    "from geopy.distance import geodesic\n",
    "\n",
    "distances = []\n",
    "\n",
    "for p in range(df.shape[0]):\n",
    "    punto = df.coordenadas[p]\n",
    "    distancia = geodesic(\n",
    "            (PB.coordenadas[:][0][1], PB.coordenadas[:][0][0]),\n",
    "            (punto[1], punto[0])).km\n",
    "    distances.append(distancia)\n",
    "    \n",
    "df['distancias'] = distances\n",
    "\n",
    "df.head()"
   ]
  },
  {
   "cell_type": "code",
   "execution_count": null,
   "id": "ee1d13d7",
   "metadata": {},
   "outputs": [],
   "source": [
    "df['distancias'].describe()"
   ]
  },
  {
   "cell_type": "markdown",
   "id": "e77bcc89",
   "metadata": {},
   "source": [
    "- Estimo densidades"
   ]
  },
  {
   "cell_type": "code",
   "execution_count": null,
   "id": "3b34ddf4",
   "metadata": {},
   "outputs": [],
   "source": [
    "import seaborn as sns\n",
    "\n",
    "#sns.histplot(df['distancias'], multiple=\"layer\", kde=True)\n",
    "sns.kdeplot(df['distancias'], shade=True, bw='scott', color=\"olive\")"
   ]
  },
  {
   "cell_type": "code",
   "execution_count": null,
   "id": "e561b1f1",
   "metadata": {},
   "outputs": [],
   "source": [
    "import matplotlib.pyplot as plt\n",
    "\n",
    "sns.kdeplot(df['distancias'], shade=True, bw='scott', color=\"olive\")\n",
    "plt.xlim(0, None)\n",
    "plt.show()"
   ]
  },
  {
   "cell_type": "code",
   "execution_count": null,
   "id": "28bd70bb",
   "metadata": {},
   "outputs": [],
   "source": [
    "sns.kdeplot(df['distancias'], shade=True, bw='silverman', color=\"orange\")\n",
    "plt.xlim(0, None)\n",
    "plt.show()"
   ]
  },
  {
   "cell_type": "code",
   "execution_count": null,
   "id": "6aa8770c",
   "metadata": {},
   "outputs": [],
   "source": [
    "import numpy as np\n",
    "from sklearn.model_selection import GridSearchCV\n",
    "from sklearn.neighbors import KernelDensity\n",
    "\n",
    "bandwidths = 10 ** np.linspace(-2, .001, 20)\n",
    "bandwidths[0:20]\n"
   ]
  },
  {
   "cell_type": "code",
   "execution_count": null,
   "id": "3792e50c",
   "metadata": {},
   "outputs": [],
   "source": [
    "grid = { \n",
    "    'bandwidth': bandwidths,\n",
    "    'kernel': ['gaussian','epanechnikov', 'tophat', 'linear']\n",
    "}\n",
    "\n",
    "gridCV = GridSearchCV(KernelDensity(),\n",
    "                    param_grid=grid,\n",
    "                    cv=5,verbose=0)\n",
    "vals=df['distancias'].to_numpy().reshape(-1, 1)\n",
    "gridCV.fit(vals)"
   ]
  },
  {
   "cell_type": "code",
   "execution_count": null,
   "id": "2e09882f",
   "metadata": {},
   "outputs": [],
   "source": [
    "gridCV.best_params_"
   ]
  },
  {
   "cell_type": "code",
   "execution_count": null,
   "id": "d1bdc4c3",
   "metadata": {},
   "outputs": [],
   "source": [
    "sns.kdeplot(df['distancias'], shade=True, bw=0.14, color=\"blue\")\n",
    "plt.xlim(0, None)\n",
    "plt.show()"
   ]
  },
  {
   "cell_type": "markdown",
   "id": "39f59c39",
   "metadata": {},
   "source": [
    "## Análisis de puntos calientes y estimación de densidades de kernel bivariadas\n",
    "\n",
    "- El análisis de puntos de puntos calientes se busca encontrar áreas donde hay más concentración de puntos de datos, \n",
    "\n",
    "\n",
    "- Es similar a DBSCAN pero vamos a usar un enfoque que viene de la estadistíca: estimación de densidades.\n",
    "\n",
    "\n",
    "- Cuando los datos son geográficos, nos encontramos en dos dimensiones. Es decir, la frecuencia está ahora determinada por dos variables: longitud y latitud. \n",
    "\n",
    "\n",
    "- Teóricamente podemos usar y extender el mismo principio de la estimación de densidad de kernel univariada estudiada anteriormente para cualquier tipo de densidades. En el caso bidimensional con datos iid, esta expresión se resume a:\n",
    "\n",
    "\\begin{align}\n",
    "    \\hat{f}(x,y) = \\frac{1}{nh_xh_y}\\sum_{i=1}^n K\\left(\\frac{X_i-x}{h_x}\\right)K\\left(\\frac{Y_i-x}{h_y}\\right)\n",
    "  \\end{align}\n",
    "\n"
   ]
  },
  {
   "cell_type": "code",
   "execution_count": null,
   "id": "c8c205c7",
   "metadata": {},
   "outputs": [],
   "source": [
    "#Cargamos la librería \n",
    "\n",
    "import statsmodels.api as sm\n",
    "db=df[['Latitud','Longitud']]\n",
    "\n"
   ]
  },
  {
   "cell_type": "code",
   "execution_count": null,
   "id": "dde67a60",
   "metadata": {},
   "outputs": [],
   "source": [
    "?sm.nonparametric.KDEMultivariate"
   ]
  },
  {
   "cell_type": "code",
   "execution_count": null,
   "id": "085cbb51",
   "metadata": {},
   "outputs": [],
   "source": [
    "dens_u = sm.nonparametric.KDEMultivariate(data=db, var_type='cc', bw='cv_ml')"
   ]
  },
  {
   "cell_type": "code",
   "execution_count": null,
   "id": "33792148",
   "metadata": {},
   "outputs": [],
   "source": [
    "dens_u.bw"
   ]
  },
  {
   "cell_type": "code",
   "execution_count": null,
   "id": "ddfb8c1e",
   "metadata": {},
   "outputs": [],
   "source": [
    "\n",
    "# Grilla de valores dentro del rango observado (2 dimensiones)\n",
    "x = np.linspace(min(db.Longitud)-.01, max(db.Longitud)+.01, 200)\n",
    "y = np.linspace(min(db.Latitud)-.01, max(db.Latitud)+.01, 200)\n",
    "xx, yy = np.meshgrid(x, y)\n",
    "grid = np.column_stack(( yy.flatten(),xx.flatten()))\n",
    "\n",
    "densidad_pred=dens_u.pdf(data_predict=grid)\n",
    "densidad_pred"
   ]
  },
  {
   "cell_type": "code",
   "execution_count": null,
   "id": "2e0e3c5b",
   "metadata": {},
   "outputs": [],
   "source": [
    "fig, ax = plt.subplots(nrows=1, ncols=1, figsize=(10, 6))\n",
    "\n",
    "\n",
    "ax.scatter(db.Longitud, db.Latitud, alpha=0.4)\n",
    "ax.contour(\n",
    "    xx, yy, densidad_pred.reshape(xx.shape),\n",
    "    alpha =0.9\n",
    ")\n"
   ]
  },
  {
   "cell_type": "markdown",
   "id": "6ddfc542-ac7a-42a9-ba66-a61dd7ac7d17",
   "metadata": {},
   "source": [
    "## Adquiriendo datos espaciales abiertos: [OpenStreetMap](https://www.openstreetmap.org/)"
   ]
  },
  {
   "cell_type": "code",
   "execution_count": null,
   "id": "ace2c694-8b47-495c-aa0f-377ab542586f",
   "metadata": {},
   "outputs": [],
   "source": [
    "from pyrosm import OSM, get_data\n",
    "\n",
    "# Bajamos los datos para  Bogotá \n",
    "fp = get_data(\"Bogota\")\n",
    "\n",
    "# Inicializamos el lector para Bogotá\n",
    "osm = OSM(fp)"
   ]
  },
  {
   "cell_type": "code",
   "execution_count": null,
   "id": "a60510bd-51bc-4183-b5ed-327ec6b139e2",
   "metadata": {},
   "outputs": [],
   "source": [
    "# Obtenenemos los retail\n",
    "landuse0 = osm.get_landuse(custom_filter={'landuse': ['retail',\"commercial\"]})"
   ]
  },
  {
   "cell_type": "code",
   "execution_count": null,
   "id": "5a29728e-5aa1-4d50-ad9a-0b098829ce67",
   "metadata": {},
   "outputs": [],
   "source": [
    "landuse = landuse0.copy()\n",
    "landuse"
   ]
  },
  {
   "cell_type": "markdown",
   "id": "8d94ac11-2bf7-41f8-b9b8-016cf27ee3c9",
   "metadata": {},
   "source": [
    "- Bajando datos de a poco"
   ]
  },
  {
   "cell_type": "markdown",
   "id": "a37a5641-756a-4268-972e-46493052c12b",
   "metadata": {},
   "source": [
    "![elephant.webp](data:image/webp;base64,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)"
   ]
  },
  {
   "cell_type": "code",
   "execution_count": null,
   "id": "80c9e9d9-1726-4f5a-8cf2-301f864b0919",
   "metadata": {},
   "outputs": [],
   "source": [
    "# solo para la candelaria\n",
    "bb_loop = osm.get_boundaries(name=\"La Candelaria\")\n",
    "bb_loop.plot()"
   ]
  },
  {
   "cell_type": "code",
   "execution_count": null,
   "id": "70a0c21f-6b8e-4fed-b4fa-c0ed7ec12aa4",
   "metadata": {},
   "outputs": [],
   "source": [
    "# Convertir geometry a bbox \n",
    "bbox_geom = bb_loop.bounds\n",
    "bbox = [bbox_geom.minx.iloc[0], bbox_geom.miny.iloc[0], \n",
    "        bbox_geom.maxx.iloc[0], bbox_geom.maxy.iloc[0]]\n",
    "\n",
    "\n",
    "osm_loop = OSM(fp, bounding_box=bbox)\n",
    "\n",
    "# Primero ver todos los landuse disponibles\n",
    "all_landuse = osm_loop.get_landuse()\n",
    "if all_landuse is not None:\n",
    "    print(\"Tipos de landuse encontrados:\")\n",
    "    print(all_landuse['landuse'].value_counts())\n",
    "else:\n",
    "    print(\"No se encontraron datos de landuse\")"
   ]
  },
  {
   "cell_type": "code",
   "execution_count": null,
   "id": "b508d1b9-63a9-4e86-b196-4a50657b2d3b",
   "metadata": {},
   "outputs": [],
   "source": [
    "landuse_cande = osm_loop.get_landuse(custom_filter={'landuse': ['residential']})"
   ]
  },
  {
   "cell_type": "code",
   "execution_count": null,
   "id": "dd4ad52c-086f-44cb-9872-9ba6f5f27260",
   "metadata": {},
   "outputs": [],
   "source": [
    "landuse_cande"
   ]
  },
  {
   "cell_type": "markdown",
   "id": "b15fba12",
   "metadata": {},
   "source": [
    "# Referencias\n",
    "\n",
    "- Banik, R. (2018). Hands-on recommendation systems with Python: start building powerful and personalized, recommendation engines with Python. Packt Publishing Ltd.\n",
    "\n",
    "- Google developers. (n.d.). Recommendation systems. Google. Consultado en Abril 3, 2022. Disponible en https://developers.google.com/machine-learning/recommendation/overview \n",
    "\n",
    "- Google developers. (n.d.). Embeddings: Motivation From Collaborative Filtering. Consultado en Mayo 13, 2022. Disponible en  https://developers.google.com/machine-learning/crash-course/embeddings/motivation-from-collaborative-filtering\n",
    "\n",
    "- Igual, L., & Seguí, S. (2017). Introduction to data science. In Introduction to data science (pp. 1-4). Springer, Cham.\n",
    "\n",
    "- Leskovec, J., Rajaraman, A., & Ullman, J. D. (2020). Mining of massive data sets. Cambridge university press."
   ]
  },
  {
   "cell_type": "markdown",
   "id": "5dbf6bb3",
   "metadata": {},
   "source": [
    "# Información de Sesión"
   ]
  },
  {
   "cell_type": "code",
   "execution_count": null,
   "id": "4ca5d6e2",
   "metadata": {},
   "outputs": [],
   "source": [
    "import session_info\n",
    "\n",
    "session_info.show(html=False)"
   ]
  }
 ],
 "metadata": {
  "kernelspec": {
   "display_name": "Python 3 (ipykernel)",
   "language": "python",
   "name": "python3"
  },
  "language_info": {
   "codemirror_mode": {
    "name": "ipython",
    "version": 3
   },
   "file_extension": ".py",
   "mimetype": "text/x-python",
   "name": "python",
   "nbconvert_exporter": "python",
   "pygments_lexer": "ipython3",
   "version": "3.10.6"
  },
  "toc": {
   "base_numbering": 1,
   "nav_menu": {},
   "number_sections": true,
   "sideBar": true,
   "skip_h1_title": false,
   "title_cell": "Table of Contents",
   "title_sidebar": "Contents",
   "toc_cell": false,
   "toc_position": {
    "height": "calc(100% - 180px)",
    "left": "10px",
    "top": "150px",
    "width": "365.4px"
   },
   "toc_section_display": true,
   "toc_window_display": false
  }
 },
 "nbformat": 4,
 "nbformat_minor": 5
}
