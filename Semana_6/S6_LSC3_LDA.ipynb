{
 "cells": [
  {
   "cell_type": "markdown",
   "metadata": {},
   "source": [
    "<div >\n",
    "<img src = \"figs/ans_banner_1920x200.png\" />\n",
    "</div>"
   ]
  },
  {
   "cell_type": "markdown",
   "metadata": {},
   "source": [
    "# Modelado de Temas\n",
    "\n",
    "Este *cuaderno* trata sobre modelado de temas o tópicos a partir de datos de texto. El objetivo del *cuaderno* es que usted obtenga una visión general del modelo de asignación latente de Dirichlet (LDA, por sus siglas en inglés). Busca también que sea capaz de crear e implementar este modelo en `Python` y que sea  capaz de evaluar e interpretar los resultados, y de identificar el mejor modelo de temas para un determinado problema. \n",
    "\n",
    "**NO** es necesario editar el archivo o hacer una entrega. Sin embargo, los ejemplos contienen celdas con código ejecutable (`en gris`), que podrá modificar  libremente. Esta puede ser una buena forma de aprender nuevas funcionalidades del *cuaderno*, o experimentar variaciones en los códigos de ejemplo."
   ]
  },
  {
   "cell_type": "markdown",
   "metadata": {},
   "source": [
    "## Introducción\n",
    "\n",
    "Todo texto presenta una variedad de temas o tópicos que se expresan a través  de palabras. El modelado de temas es una faceta del procesamiento del lenguaje natural (NLP, por sus siglas en inglés). Como vimos anteriormente, utilizar el lenguaje, textos, como datos puede ser extremadamente poderoso. \n",
    "\n",
    "En este *cuaderno* nos centraremos sobre el modelado de temas. Inmediatamente nos surge la pregunta ¿qué son los temas? Responderemos esa pregunta con un ejemplo. Habremos notado que en los días en que se llevan a cabo eventos importantes (como elecciones nacionales, desastres naturales o eventos deportivos), las publicaciones de las redes sociales tienden a centrarse en esos eventos. Las publicaciones de alguna manera reflejan los eventos del día, y lo hacen de diferentes formas. Las publicaciones pueden tener, puntos de vista divergentes que permiten que las agrupemos en grupos o clústeres de temas. Por ejemplo, la siguiente figura con un breve texto sobre ciencia de datos muestra cómo se pueden identificar palabras y asignarlas a temas."
   ]
  },
  {
   "cell_type": "markdown",
   "metadata": {},
   "source": [
    "<center>\n",
    "<img src = \"figs/topicos1.jpeg\" alt = \"topicos\" style = \"width: 500px;\"/>\n",
    "</center>\n"
   ]
  },
  {
   "cell_type": "markdown",
   "metadata": {},
   "source": [
    "En  la figura se muestra cómo palabras como *información*, *predicción*, y *estadística*, son asignadas al tema modelado; mientras que *computacional*, *producción* y *escala* son asignadas al tema ingeniería. Los modelos de temas son importantes porque ofrecen la misma función para los datos textuales que las estadísticas clásicas para los datos numéricos. Es decir, proporcionan un resumen significativo de los datos. \n",
    "\n",
    "Los modelos de temas entran en la categoría de aprendizaje no supervisado porque, casi siempre, no se conocen de antemano los temas subyacentes de los documentos. Por lo tanto, no existe una variable que guíe el aprendizaje. En términos de aprendizaje no supervisado, los modelos de temas se pueden pensar como parte del análisis de clusters, más específicamente a K-medias. Recordemos que con K-medias, primero se establece el número de clusters y luego el modelo asigna cada uno de los datos a uno de los clústers predeterminados. Lo mismo ocurre generalmente con los modelos de temas. Seleccionamos el número de temas al inicio y luego el modelo aísla las palabras que forman esa cantidad de temas. \n",
    "\n",
    "Los modelos de temas buscan entonces identificar los temas subyacentes en una colección de documentos (también referidos como corpus), utilizando las palabras contenidas en los mismos.  Para ello asumen que las palabras en el mismo documento están relacionadas y usan esa suposición para definir temas abstractos al encontrar grupos de palabras que aparecen con frecuencia una cerca de otra.  Por ejemplo, si una oración contiene las palabras *salario*, *empleado*, y *reunión*, podemos asumir que esa oración trata sobre trabajo.\n",
    "\n",
    "Este tipo de algoritmos por lo general pretenden primero determinar el número de temas, luego identificar palabras o frases concurrentes en los documentos; y a partir de esto, buscar clusters de palabras que caracterizan el documento y finalmente retornar un conjunto de temas abstractos que caracterizan el corpus.\n",
    "\n",
    "Un aspecto clave de los modelos de temas es que no producen tópicos específicos de una palabra o una frase, sino un conjunto de palabras, cada una de las cuales representa un tema abstracto. Esto se debe a que los modelos de temas entienden la proximidad de las palabras, no el contexto. Por ejemplo, en la figura siguiente, el modelo no tiene idea de lo que significan *ala*, *elevar*, *piloto*, *equipaje*, *pasajero*, o *mosca*; sólo sabe que estas palabras, generalmente, siempre que aparecen, aparecen muy próximas entre sí. Será nuestra tarea darle una interpretación (o no) a este tópico."
   ]
  },
  {
   "cell_type": "markdown",
   "metadata": {},
   "source": [
    "<center>\n",
    "<img src = \"figs/topicos3.jpeg\" alt = \"topicos3\" style = \"width: 500px;\"/>\n",
    "</center>"
   ]
  },
  {
   "cell_type": "markdown",
   "metadata": {},
   "source": [
    "Existen varios algoritmos de modelado de temas, pero quizás el más conocidos es el de asignación latente de Dirichlet, o Latent Dirichlet Allocation (LDA) en inglés. En este *cuaderno* nos centraremos en este."
   ]
  },
  {
   "cell_type": "markdown",
   "metadata": {},
   "source": [
    "## Asignación Latente de Dirichlet (LDA)\n",
    "\n",
    "En 2003, David Blei, Andrew Ng, y Michael Jordan publicaron un artículo sobre el algoritmo del modelado de temas conocido como Latent Dirichlet Allocation (LDA). LDA es un modelo probabilístico generativo, esto significa que el proceso de modelado comienza con el texto y funciona como ingeniería reversa a través del proceso que suponemos que lo generó, con el fin de identificar los parámetros de interés. En este caso, son los temas que generaron los datos que son de interés. \n",
    "\n",
    "Esencialmente LDA es una técnica de clustering que puede ser aplicada a colecciones de datos discretos como los son los documentos de texto. LDA es un modelo bayesiano jerárquico de 3 niveles en donde cada elemento o palabra de un texto se modela como una mezcla finita de temas. A su vez, cada tópico se modela como una combinación infinita de palabras. \n",
    "\n",
    "Esta técnica de aprendizaje no supervisado se diferencia de las técnicas de clustering estudiadas anteriormente porque en este caso cada observación pertenece a más de un grupo, donde la pertenencia de un elemento a un grupo se modela como una distribución de probabilidades."
   ]
  },
  {
   "cell_type": "markdown",
   "metadata": {},
   "source": [
    "### Set-up del modelo\n",
    "\n",
    "LDA representa los documentos como una mezcla de temas que generan palabras con ciertas probabilidades. Asume  que los documentos se generan siguiendo un proceso definido. Al empezar a escribir un documento:\n",
    "\n",
    "1. Decidimos el número de palabras que el documento tendrá, que surge de una distribución de Poisson.\n",
    "2. Elegimos la mezcla de temas del documento, esta mezcla surge de una distribución de Dirichlet sobre un conjunto fijo de K temas. Usando el ejemplo anterior, podríamos elegir que el documento consista 1/3 sobre aviones y 2/3 sobre automóviles. Intuitivamente, cuando utilizamos la distribución de Dirichlet estamos suponiendo que los documentos dentro del corpus se distribuirían a lo largo del simplex en donde cada vértice se representa un tema. Luego, cada documento se ubicaría más cercano a los vértices que representan los temas contenidos en él. Por ejemplo, supongamos que tenemos 7 documentos y 3 temas posibles (aviones, automóviles y barcos), podríamos representar los documentos dentro del simplex  de la siguiente manera:\n",
    "\n",
    "<center>\n",
    "<img src = \"figs/Triangulo.png\" alt = \"LDA\" style = \"width: 500px;\"/>\n",
    "</center>\n",
    "\n",
    "   De esta manera podríamos ver que cada documento es una combinación de temas. El documento 1 sería 100% sobre aviones, el documento 2 sería 50% sobre aviones y 50% sobre automóviles, el documento 5 sería 100% sobre barcos, etc.\n",
    "\n",
    "\n",
    "3. Generamos cada palabra en el documento siguiendo el siguiente esquema:\n",
    "    \n",
    "    3.1. Elegimos un tema, de acuerdo con la distribución multinomial que obtuvimos en el paso anterior, por ejemplo, podemos elegir el tópico de aviones con probabilidad 1/3 y el tópico de automóviles con 2/3.\n",
    "    \n",
    "    3.2 Usando el tópico generamos la palabra (de acuerdo con la distribución multinomial). Por ejemplo, si seleccionamos el tema de aviones, podríamos generar la palabra “piloto” con probabilidad del 20%, y “equipaje” con probabilidad del 10%, y así sucesivamente.\n",
    "\n",
    "Formalmente, definimos una palabra como un ítem de un vocabulario indexado por $\\{1, \\cdots, V\\}$. Las palabras se representan  mediante vectores de base uno, es decir, un vector donde sólo un elemento es 1 y el resto son 0. Así, usando superíndices para denotar componentes, la v-ésima palabra en el vocabulario se representa mediante un V-vector $w$ tal que $w^v = 1$ y $w^u = 0$ para $u\\neq v$. Un *documento* es una secuencia de $N$ palabras denotadas por $\\mathbf{w}=(w_1,w_2,\\cdots,w_N)$, en donde $w_n$ es la n-ésima palabra de la secuencia. Un *corpus* es una colección de $M$ documentos denotados por $\\mathbf{D}=(\\mathbf{w_1},\\mathbf{w_2},\\cdots,\\mathbf{w_m})$.\n",
    "\n",
    "Así, para cada documento del corpus $D$, LDA supone los siguientes pasos que generan cada documento:\n",
    "\n",
    "1. Decidimos $N\\sim Poisson(\\xi)$, donde $N$ son palabras del documento que surgen de un proceso de Poisson  con parámetro $\\xi$\n",
    "2. Elegimos  $\\theta\\sim Dir(\\alpha)$ donde $\\theta$  es la distribución de temas que asumimos surgen de una distribución Dirichlet con $K$ categorías.\n",
    "3. Generamos $N$ palabras, $w_n$:\n",
    "\n",
    "    3.1. Elegimos un tópico $z_n\\sim Multinomial(\\theta)$, de una distribución multinomial con parámetro $\\theta$\n",
    "  \n",
    "    3.2 Usando el tópico generamos $w_n$ de $p(w_n|z_n, \\beta)$\n",
    "\n",
    "\n",
    "Estos 3 pasos se repiten para cada documento en el corpus.\n",
    "\n",
    "Es importante que notemos que este modelo inicial cuenta con algunas simplificaciones:   \n",
    "\n",
    "  - En primer lugar, la dimensionalidad $K$ de la distribución Dirichlet (y por consiguiente la dimensionalidad de la variable de los temas $z$) se supone fija y conocida. \n",
    "  - Segundo, las probabilidades de cada palabra son parametrizadas por una matriz $\\beta$ de tamaño $K \\times V$ en donde $\\beta_{ij}=p(w^j = 1|z^i = 1)$, que trataremos como una cantidad fija que será estimada. \n",
    "\n",
    "Tomando como dados los parámetros $\\alpha$ y $\\beta$, la distribución de probabilidad conjunta de una mezcla de temas $\\theta$, un conjunto de $N$ temas $\\mathbf{z}$ y un conjunto de $N$ palabras $\\mathbf{w}$ esta dada por:\n",
    "\n",
    "$$p(\\theta, \\mathbf{z}, \\mathbf{w}|\\alpha, \\beta) = p(\\theta|\\alpha)\\prod_{n=1}^N p(z_n|\\theta)p(w_n|z_n, \\beta)$$\n",
    "\n",
    "Notemos que el lado izquierdo de esta ecuación ($p(\\theta, \\mathbf{z}, \\mathbf{w}|\\alpha, \\beta)$) corresponde a la probabilidad de que un documento $x$ aparezca en nuestro corpus. De este modo, nuestro objetivo será estimar $\\alpha$ y $\\beta$ de modo que se maximice la probabilidad de encontrar nuestra muestra de documentos.\n",
    "\n",
    "Podemos representar la solución LDA a través de una gráfica, que nos permitirá entender un poco mejor la intuición detrás del problema: \n",
    "\n",
    "<center>\n",
    "<img src = \"figs/topicos4.jpeg\" alt = \"LDA1\" style = \"width: 500px;\"/>\n",
    "</center>\n",
    "\n",
    "\n",
    "Las cajas son \"placas\" que utilizamos  para representar los 2 pasos iterativos del proceso. Dado que el proceso lo ejecutamos para cada documento del corpus, la placa externa (etiquetada como M) representa la iteración sobre cada documento. Mientras que, la iteración sobre palabras en el Paso 3 está representada por la placa  interna del diagrama, etiquetada como N. Los círculos representan los parámetros, las distribuciones y los resultados. El círculo etiquetado como W es la palabra seleccionada, que es el único dato conocido y, como tal, se utiliza para realizar \"ingeniería inversa\" en el proceso. Además de W, las otras 4 variables en el diagrama se definen de la siguiente manera:\n",
    "\n",
    "- $\\alpha$: hiperparámetro del documento del tópico para la distribución de Dirichlet.\n",
    "- $\\beta$: distribución de palabras para cada tópico.\n",
    "- $z$: variable latente del tópico.\n",
    "- $\\theta$: variable latente para la distribución de temas de cada documento.\n",
    "\n",
    "$\\alpha$ y $\\beta$ controlan la frecuencia de temas de los documentos y la frecuencia de palabra en los temas. Si $\\alpha$ aumenta, los documentos se vuelven cada vez más similares a medida que aumenta el número de temas en cada documento. Por otro lado, si $\\alpha$ disminuye, los documentos se vuelven cada vez más disímiles a medida que disminuye el número de temas en cada documento. \n",
    "\n",
    "El parámetro $\\beta$  se comporta de manera similar. Si $\\beta$ aumenta, se usan más palabras del documento para modelar un tema, mientras que un valor más bajo hace que se use una cantidad menor de palabras para un temas. Dada la complejidad de las distribuciones en LDA, no existe una solución directa, por lo que se requiere algún tipo de algoritmo de aproximación para generar los resultados. "
   ]
  },
  {
   "cell_type": "markdown",
   "metadata": {},
   "source": [
    "### Inferencia variacional\n",
    "\n",
    "El principal desafío  de este modelo es el cálculo de la distribución posterior:\n",
    "\n",
    "$$p(\\theta, \\mathbf{z}|\\mathbf{w},\\alpha, \\beta)=\\frac{p(\\theta, \\mathbf{z}, \\mathbf{w}|\\alpha, \\beta)}{p(\\mathbf{w}|\\alpha, \\beta)}$$\n",
    "\n",
    "Desafortunadamente, esta distribución no se puede calcular directamente, por ende se debe aproximar numéricamente. La inferencia variacional es uno de los algoritmos de aproximación más simples, pero tiene una derivación extensa que requiere un conocimiento significativo de la probabilidad y es material para cursos más avanzados.\n",
    "\n",
    "Sin embargo, en este *cuaderno* describiremos la intuición detrás de un algoritmo variacional simple basado en la convexidad. \n",
    "\n",
    "#### Intuición\n",
    "\n",
    "\n",
    "La intuición detrás de la inferencia variacional es que, si la distribución real es intratable, entonces se debe encontrar una distribución más simple, muy cercana a la distribución verdadera, que es manejable, para que la inferencia sea posible. En otras palabras, dado que es imposible inferir la distribución real debido a su  complejidad, buscamos encontrar una distribución más simple que sea una buena aproximación de la distribución real.\n"
   ]
  },
  {
   "cell_type": "markdown",
   "metadata": {},
   "source": [
    "<center>\n",
    "<img src = \"figs/topicos5.jpeg\" alt = \"LDA1\" style = \"width: 500px;\"/>\n",
    "</center>\n",
    "\n"
   ]
  },
  {
   "cell_type": "markdown",
   "metadata": {},
   "source": [
    "La inferencia variacional es como tratar de ver animales en un zoológico lleno de gente. Los animales del zoológico están en un hábitat cerrado que, en este ejemplo, es la distribución posterior. Los visitantes en realidad no pueden ingresar al hábitat, por lo que los visitantes deben conformarse con ver el hábitat desde la posición más cercana posible, que es la aproximación posterior (es decir, la mejor aproximación del hábitat). Si hay mucha gente en el zoológico, puede ser difícil llegar a ese punto de vista óptimo. La gente generalmente comienza en la parte de atrás de la multitud y avanza estratégicamente hacia ese punto de vista óptimo. El paso de los visitantes desde la parte trasera de la multitud al punto de vista óptimo es el camino de optimización. La inferencia variacional es simplemente el proceso de acercarse lo mejor posible al punto deseado sabiendo que en realidad no se puede alcanzar el punto deseado.\n",
    "\n",
    "Con la intuición  desarrollada veamos una aplicación en `Python`."
   ]
  },
  {
   "cell_type": "markdown",
   "metadata": {},
   "source": [
    "## LDA en `Python`\n",
    "\n",
    "\n",
    "Ilustremos ahora la implementación de LDA en `Phyton`. Para ello vamos a usar textos que contienen  páginas sobre distintos ensayos. Por la frecuencia de palabras tenemos la sospecha de que estas páginas se refieren a [Chomsky](https://en.wikipedia.org/wiki/Noam_Chomsky), [Freud](https://en.wikipedia.org/wiki/Sigmund_Freud), y [Voltaire](https://en.wikipedia.org/wiki/Voltaire). El objetivo será entonces ver si podemos encontrar de forma no supervisada estas páginas."
   ]
  },
  {
   "cell_type": "code",
   "execution_count": 1,
   "metadata": {},
   "outputs": [
    {
     "data": {
      "text/html": [
       "<div>\n",
       "<style scoped>\n",
       "    .dataframe tbody tr th:only-of-type {\n",
       "        vertical-align: middle;\n",
       "    }\n",
       "\n",
       "    .dataframe tbody tr th {\n",
       "        vertical-align: top;\n",
       "    }\n",
       "\n",
       "    .dataframe thead th {\n",
       "        text-align: right;\n",
       "    }\n",
       "</style>\n",
       "<table border=\"1\" class=\"dataframe\">\n",
       "  <thead>\n",
       "    <tr style=\"text-align: right;\">\n",
       "      <th></th>\n",
       "      <th>texto</th>\n",
       "      <th>titulo</th>\n",
       "      <th>pagina</th>\n",
       "    </tr>\n",
       "  </thead>\n",
       "  <tbody>\n",
       "    <tr>\n",
       "      <th>0</th>\n",
       "      <td>Introducción Noam Chomsky. Avram Noam Chomsky ...</td>\n",
       "      <td>Chomsky</td>\n",
       "      <td>1</td>\n",
       "    </tr>\n",
       "    <tr>\n",
       "      <th>1</th>\n",
       "      <td>toda su construcción intelectual. Si de algo n...</td>\n",
       "      <td>Chomsky</td>\n",
       "      <td>2</td>\n",
       "    </tr>\n",
       "    <tr>\n",
       "      <th>2</th>\n",
       "      <td>tales como la ya lejana Guerra de Vietnam (la ...</td>\n",
       "      <td>Chomsky</td>\n",
       "      <td>3</td>\n",
       "    </tr>\n",
       "    <tr>\n",
       "      <th>3</th>\n",
       "      <td>un sistema de financiación sin parangón, que d...</td>\n",
       "      <td>Chomsky</td>\n",
       "      <td>4</td>\n",
       "    </tr>\n",
       "    <tr>\n",
       "      <th>4</th>\n",
       "      <td>de la lingüística y de las ciencias cognitivas...</td>\n",
       "      <td>Chomsky</td>\n",
       "      <td>5</td>\n",
       "    </tr>\n",
       "  </tbody>\n",
       "</table>\n",
       "</div>"
      ],
      "text/plain": [
       "                                               texto   titulo  pagina\n",
       "0  Introducción Noam Chomsky. Avram Noam Chomsky ...  Chomsky       1\n",
       "1  toda su construcción intelectual. Si de algo n...  Chomsky       2\n",
       "2  tales como la ya lejana Guerra de Vietnam (la ...  Chomsky       3\n",
       "3  un sistema de financiación sin parangón, que d...  Chomsky       4\n",
       "4  de la lingüística y de las ciencias cognitivas...  Chomsky       5"
      ]
     },
     "execution_count": 1,
     "metadata": {},
     "output_type": "execute_result"
    }
   ],
   "source": [
    "# Cargamos las librerías a utilizar\n",
    "import pandas as pd\n",
    "import numpy as np\n",
    "\n",
    "# Cargamos los datos \n",
    "ensayos= pd.read_csv('data/ensayos.csv', sep=',')\n",
    "ensayos.head()"
   ]
  },
  {
   "cell_type": "code",
   "execution_count": 2,
   "metadata": {},
   "outputs": [
    {
     "data": {
      "text/plain": [
       "(269, 3)"
      ]
     },
     "execution_count": 2,
     "metadata": {},
     "output_type": "execute_result"
    }
   ],
   "source": [
    "ensayos.shape"
   ]
  },
  {
   "cell_type": "markdown",
   "metadata": {},
   "source": [
    "Los datos entonces contienen 269 entradas donde fueron catalogadas como pertenecientes a alguno de estos 3 autores. De estas, 101 páginas se refieren a Voltaire, 85 a Freud, y 83 a Chomsky. En nuestra tarea no supervisada ignoraremos por ahora esta información."
   ]
  },
  {
   "cell_type": "code",
   "execution_count": 3,
   "metadata": {},
   "outputs": [
    {
     "data": {
      "text/plain": [
       "titulo\n",
       "Voltaire    101\n",
       "Freud        85\n",
       "Chomsky      83\n",
       "Name: count, dtype: int64"
      ]
     },
     "execution_count": 3,
     "metadata": {},
     "output_type": "execute_result"
    }
   ],
   "source": [
    "ensayos.titulo.value_counts()"
   ]
  },
  {
   "cell_type": "markdown",
   "metadata": {},
   "source": [
    "Antes de proceder con el análisis de datos tenemos que normalizar, para ello cargaremos las librerías y utilizaremos la función que creamos en el *cuaderno: Sistemas de Recomendación basado en Contenidos* "
   ]
  },
  {
   "cell_type": "code",
   "execution_count": 4,
   "metadata": {},
   "outputs": [],
   "source": [
    "# Cargamos las librerías a utilizar\n",
    "import unidecode\n",
    "import re\n",
    "import spacy\n",
    "\n",
    "# Cargamos el modelo para el idioma deseado (por ejemplo, español)\n",
    "nlp = spacy.load(\"es_core_news_sm\")\n",
    "\n",
    "\n",
    "# Cargamos las stopwords extra\n",
    "extra_stopwords = pd.read_csv('data/extra_stopwords.csv', sep=',',header=None)\n",
    "extra_stopwords.columns = ['stopwords']\n",
    "extra_stopwords=set(extra_stopwords['stopwords'].to_list())\n",
    "\n",
    "# Agregamos a nuestro modelo de SpaCy\n",
    "nlp.Defaults.stop_words |= extra_stopwords\n",
    "\n",
    "\n",
    "# Definimos nuestra función limpiadora\n",
    "def text_cleaning(txt):\n",
    "    \n",
    "    # Eliminar caracteres especiales\n",
    "    out = unidecode.unidecode(txt)\n",
    "    out = re.sub(\"[^\\\\w\\\\s]|\\n\", ' ', out)\n",
    "    out = re.sub(\"\\d+\", \"\", out)\n",
    "    # Poner en minúsculas\n",
    "    out = out.lower()\n",
    "    # Reemplazar palabras\n",
    "    out = re.sub('tv', ' ', out)\n",
    "    out = re.sub('miniserie', 'miniseriedetv', out)\n",
    "    out = re.sub('\\s+', ' ', out)\n",
    "    #NLP object\n",
    "    out = nlp(out)\n",
    "    # Eliminar Stopwords\n",
    "    out = [token.text for token in out if not token.is_stop]\n",
    "    out = \" \".join(out)\n",
    "    # Obtener los lemas de cada palabra\n",
    "    lemmas =[token.lemma_ for token in nlp(out)]\n",
    "    # Convertir la lista de lemmas nuevamente a texto\n",
    "    out = \" \".join(lemmas)\n",
    "    # Remover palabras muy cortas\n",
    "    out = [token.text for token in nlp(out) if len(token) > 2]\n",
    "    \n",
    "    return out"
   ]
  },
  {
   "cell_type": "markdown",
   "metadata": {},
   "source": [
    "Aplicamos esta función sobre las filas que contienen el texto:"
   ]
  },
  {
   "cell_type": "code",
   "execution_count": 5,
   "metadata": {},
   "outputs": [],
   "source": [
    "clean = list(map(text_cleaning, ensayos['texto']))"
   ]
  },
  {
   "cell_type": "markdown",
   "metadata": {},
   "source": [
    "Así la fila 100 lucirá de la siguiente manera y podemos ver que se refiere a Freud:"
   ]
  },
  {
   "cell_type": "code",
   "execution_count": 6,
   "metadata": {},
   "outputs": [
    {
     "name": "stdout",
     "output_type": "stream",
     "text": [
      "['serio', 'candidatura', 'premio', 'nobel', 'freud', 'escribio', 'publico', 'magistral', 'libro', 'malestar', 'cultura', 'contribución', 'significativo', 'autor', 'pensamiento', 'contemporaneo', 'obstante', 'progresion', 'cancer', 'consecuent', 'dolor', 'seriar', 'unico', 'motivo', 'preocupacion', 'freud', 'ano', 'venidero', 'fruto', 'persecucion', 'nazi', 'freud', 'ver', 'obligado', 'abandonar', 'viena', 'refugiar', 'amado', 'londr', 'freud', 'llego', 'londres', 'recuperar', 'viaje', 'animo', 'reemprender', 'escrito', 'epocar', 'termino', 'ultima', 'obra', 'moises', 'religion', 'monoteista', 'labor', 'terapeutar', 'paciente', 'obstante', 'cancer', 'progreso', 'devino', 'inoperable', 'largo', 'agonia', 'soporto', 'estoicamente', 'murio', 'noche', 'septiembre', 'ceniza', 'reposar', 'golders', 'green', 'londres', 'freud', 'gestapo', 'estallido', 'guerra', 'mundial', 'adolf', 'hitler', 'promover', 'durisima', 'represalia', 'comunidad', 'judia', 'alemán', 'judio', 'austriaco', 'temiar', 'medida', 'extender', 'territorio', 'principio', 'freud', 'encontrar', 'respondio', 'ironia', 'noticia', 'libro', 'psicoanalista', 'habiar', 'quemado', 'publicamente', 'berlin', 'progresamos', 'exclamo', 'edad', 'medio', 'quemado', 'conformar', 'quemar', 'libro', 'dejar', 'oportuno', 'mentar', 'palabra', 'premonitoria', 'heinrich', 'heinar', 'poeta', 'romantico', 'origen', 'judio', 'dejar', 'escrita', 'quemar', 'libro', 'acabar', 'quemar', 'ser', 'humano', 'efecto', 'nacionalismo', 'antisemitar', 'violento', 'extremo', 'extendio', 'polvoro', 'austria', 'freud', 'termino', 'aceptar', 'necesidad', 'abandonar', 'viena', 'movio', 'cielo', 'tierra', 'salvoconducto', 'allegado', 'presidente', 'roosevelt', 'intercedio', 'favor', 'finalmente', 'nazi', 'acceder', 'reganadient', 'freud', 'obligado', 'firmar', 'carta', 'dejar', 'constancia', 'persona', 'excelente', 'trato', 'recibido', 'autoridad', 'nazi', 'circunstancia', 'luctuoso', 'freud', 'respondio', 'sarcasmo', 'pedir', 'anadir', 'ultima', 'line']\n"
     ]
    }
   ],
   "source": [
    "print(clean[100])"
   ]
  },
  {
   "cell_type": "markdown",
   "metadata": {},
   "source": [
    "### Modelado de temas con [Gensim](https://radimrehurek.com)\n",
    "\n",
    "Con los datos tokenizados vamos a cargar la primero utilizaremos la librería  [gensim](https://radimrehurek.com/gensim/index.html) que contiene múltiples  funciones que facilitan el modelado de temas. \n",
    "\n",
    "El primer paso es generar una representación de diccionario del documento, esto en términos de [gensim](https://radimrehurek.com/gensim/index.html), implica crear un mapeo entre palabras y un identificador."
   ]
  },
  {
   "cell_type": "code",
   "execution_count": 7,
   "metadata": {},
   "outputs": [
    {
     "data": {
      "text/plain": [
       "<gensim.corpora.dictionary.Dictionary at 0x74e4c1bbdfc0>"
      ]
     },
     "execution_count": 7,
     "metadata": {},
     "output_type": "execute_result"
    }
   ],
   "source": [
    "# Cargamos la función \n",
    "from gensim.corpora import Dictionary\n",
    "\n",
    "# Creamos la representación de diccionario del documento\n",
    "dictionary = Dictionary(clean)\n",
    "dictionary"
   ]
  },
  {
   "cell_type": "markdown",
   "metadata": {},
   "source": [
    "Ahora haremos un paso opcional, y es el uso de la función `filter_extremes` para remover palabras que aparecen en menos de 20 páginas o en más de 50% de las páginas: "
   ]
  },
  {
   "cell_type": "code",
   "execution_count": 8,
   "metadata": {},
   "outputs": [],
   "source": [
    "dictionary.filter_extremes(no_below=20, no_above=0.5)"
   ]
  },
  {
   "cell_type": "markdown",
   "metadata": {},
   "source": [
    "Estamos en condiciones de vectorizar el documento usando la función `doc2bow` que va a crear el corpus con la matriz de frecuencia de los documentos:"
   ]
  },
  {
   "cell_type": "code",
   "execution_count": 9,
   "metadata": {},
   "outputs": [],
   "source": [
    "corpus = [dictionary.doc2bow(doc) for doc in clean]"
   ]
  },
  {
   "cell_type": "markdown",
   "metadata": {},
   "source": [
    "Con esto podemos ver el número de palabras únicas con el que vamos a estimar LDA:"
   ]
  },
  {
   "cell_type": "code",
   "execution_count": 10,
   "metadata": {},
   "outputs": [
    {
     "name": "stdout",
     "output_type": "stream",
     "text": [
      "Numero de palabras únicas: 295\n"
     ]
    }
   ],
   "source": [
    "print('Numero de palabras únicas: %d' % len(dictionary))"
   ]
  },
  {
   "cell_type": "markdown",
   "metadata": {},
   "source": [
    "Estamos listos para estimar LDA utilizando la función [LDAModel](https://radimrehurek.com/gensim/models/ldamodel.html?highlight=ldamodel#module-gensim.models.ldamode) disponible en [gensim](https://radimrehurek.com/gensim/index.html). Carguemos entonces esta función:"
   ]
  },
  {
   "cell_type": "code",
   "execution_count": 11,
   "metadata": {},
   "outputs": [],
   "source": [
    "from gensim.models import LdaModel"
   ]
  },
  {
   "cell_type": "markdown",
   "metadata": {},
   "source": [
    "Antes de apicarla, discutiremos algunos de los parámetros:\n",
    "\n",
    "   - `corpus` es donde especificamos la matriz de frecuencia de los documentos.\n",
    "   \n",
    "   - `id2word` es donde especificamos el diccionario que mapea palabras con identificadores, este sirve para determinar el tamaño del vocabulario y para mostrar luego los temas con las palabras encontradas.\n",
    "   \n",
    "   - `num_topics` donde especificamos el número de temas a buscar.  \n",
    "   \n",
    "   - `chunksize` controla cuántos documentos se procesan a la vez en el entrenamiento. Aumentar el tamaño de los fragmentos acelerará el entrenamiento, siempre y cuando el fragmento de documentos entre fácilmente en la memoria.  \n",
    "   \n",
    "   - `passes` controla la frecuencia con la que entrenamos el modelo en todo el corpus.\n",
    "   \n",
    "   - `iterations` controla la frecuencia con la que repetimos un bucle particular sobre cada documento. Cuando entrenamos  es importante establecer el número de \"passes\" e \"iterations\" lo suficientemente alto.\n",
    "   \n",
    "   - `alpha` es el parámetro que controla el \"prior\" de la distribución de temas. \n",
    "   \n",
    "   - `eta` es el parámetro que controla el \"prior\" de la distribución de palabras-temas.\n",
    "   \n",
    "Estimemos el modelo:"
   ]
  },
  {
   "cell_type": "code",
   "execution_count": 12,
   "metadata": {},
   "outputs": [],
   "source": [
    "Estimacion = LdaModel(\n",
    "    corpus=corpus,\n",
    "    id2word=dictionary,\n",
    "    num_topics=3,\n",
    "    chunksize=1000,\n",
    "    passes=20,\n",
    "    iterations=400,\n",
    "    alpha='auto',\n",
    "    eta='auto',\n",
    "    random_state=123,\n",
    "    eval_every=None\n",
    ")"
   ]
  },
  {
   "cell_type": "markdown",
   "metadata": {},
   "source": [
    "Notemos que elegimos 3 temas ya que tenemos la sospecha de que los textos se refieren a 3 escritores distintos. Vamos a fijar `chunksize = 1000`, que es más que la cantidad de documentos, así procesamos todos los datos de una sola vez. No obstante, el tamaño de los fragmentos puede influir en la calidad del modelo (Hoffman et al., 2010). Por eso, los invito a que prueben con distintos tamaños. Especificamos también 20 passes y 400 iteraciones. Es importante asignar estos parámetros lo suficientemente altos de forma tal que haya convergencia en la estimación. Nuevamente los invito a que prueben con distintos valores. Fijamos `alpha = 'auto'` y `eta = 'auto'` de forma que el modelo \"aprenda\" automáticamente estos 2 parámetros. Luego, establecemos el `random_state` para lograr reproducibilidad y finalmente fijamos `eval_every=None`. Esto evitará el cálculo de la perplejidad, que discutiremos más adelante, haciendo que el proceso sea más rápido."
   ]
  },
  {
   "cell_type": "markdown",
   "metadata": {},
   "source": [
    "Con el modelo estimado podemos utilizar `pprint` para ver los temas con las palabras asociadas y su peso dentro del tema."
   ]
  },
  {
   "cell_type": "code",
   "execution_count": 13,
   "metadata": {},
   "outputs": [
    {
     "name": "stdout",
     "output_type": "stream",
     "text": [
      "[(0,\n",
      "  '0.079*\"freud\" + 0.024*\"hombre\" + 0.022*\"humano\" + 0.014*\"psicoanalisis\" + '\n",
      "  '0.012*\"sexual\" + 0.012*\"caso\" + 0.012*\"deseo\" + 0.011*\"sociedad\" + '\n",
      "  '0.010*\"inconsciente\" + 0.010*\"mente\"'),\n",
      " (1,\n",
      "  '0.047*\"chomsky\" + 0.040*\"lenguaje\" + 0.033*\"linguistico\" + 0.020*\"humano\" + '\n",
      "  '0.020*\"teoria\" + 0.020*\"generativo\" + 0.018*\"mente\" + 0.018*\"frase\" + '\n",
      "  '0.017*\"ejemplo\" + 0.017*\"estructura\"'),\n",
      " (2,\n",
      "  '0.074*\"voltaire\" + 0.024*\"hombre\" + 0.017*\"diccionario\" + 0.014*\"obra\" + '\n",
      "  '0.014*\"ano\" + 0.013*\"mundo\" + 0.013*\"historia\" + 0.013*\"filosofico\" + '\n",
      "  '0.012*\"filosofo\" + 0.012*\"rousseau\"')]\n"
     ]
    }
   ],
   "source": [
    "from pprint import pprint\n",
    "\n",
    "pprint(Estimacion.print_topics())"
   ]
  },
  {
   "cell_type": "markdown",
   "metadata": {},
   "source": [
    "Vemos entonces que Freud tiene el mayor peso en el primer tema, Chomsky en el segundo, y Voltaire en el tercero. El modelo parece haber hecho un gran trabajo encontrando los 3 autores."
   ]
  },
  {
   "cell_type": "markdown",
   "metadata": {},
   "source": [
    "Podemos también generar una visualización interactiva de los resultados utilizando [pyLDAvis](https://pyldavis.readthedocs.io/en/latest/readme.html) que permite ayudar a la interpretación de los temas:"
   ]
  },
  {
   "cell_type": "code",
   "execution_count": 14,
   "metadata": {},
   "outputs": [
    {
     "name": "stderr",
     "output_type": "stream",
     "text": [
      "/opt/conda/lib/python3.10/site-packages/scipy/sparse/_sputils.py:44: DeprecationWarning: np.find_common_type is deprecated.  Please use `np.result_type` or `np.promote_types`.\n",
      "See https://numpy.org/devdocs/release/1.25.0-notes.html and the docs for more information.  (Deprecated NumPy 1.25)\n",
      "  upcast = np.find_common_type(args, [])\n"
     ]
    },
    {
     "data": {
      "text/html": [
       "\n",
       "<link rel=\"stylesheet\" type=\"text/css\" href=\"https://cdn.jsdelivr.net/gh/bmabey/pyLDAvis@3.4.0/pyLDAvis/js/ldavis.v1.0.0.css\">\n",
       "\n",
       "\n",
       "<div id=\"ldavis_el48641285213242029124974156601\" style=\"background-color:white;\"></div>\n",
       "<script type=\"text/javascript\">\n",
       "\n",
       "var ldavis_el48641285213242029124974156601_data = {\"mdsDat\": {\"x\": [-0.17972010037671632, 0.138161887105332, 0.04155821327138433], \"y\": [-0.035876884567093564, -0.08217882613450106, 0.1180557107015946], \"topics\": [1, 2, 3], \"cluster\": [1, 1, 1], \"Freq\": [37.23311297180863, 31.464054128955866, 31.302832899235504]}, \"tinfo\": {\"Term\": [\"freud\", \"voltaire\", \"chomsky\", \"lenguaje\", \"linguistico\", \"generativo\", \"frase\", \"diccionario\", \"gramatico\", \"hombre\", \"psicoanalisis\", \"sexual\", \"rousseau\", \"regla\", \"deseo\", \"gramatica\", \"rey\", \"mente\", \"inconsciente\", \"estructura\", \"sexualidad\", \"teoria\", \"lengua\", \"tolerancia\", \"fanatismo\", \"sociedad\", \"escribir\", \"cognitiva\", \"historia\", \"ley\", \"linguistico\", \"chomsky\", \"generativo\", \"gramatico\", \"frase\", \"gramatica\", \"lenguaje\", \"cognitiva\", \"sintaxis\", \"cognitivo\", \"especifico\", \"regla\", \"concepto\", \"lengua\", \"estructura\", \"simple\", \"formal\", \"hipotesis\", \"aprender\", \"desarrollar\", \"fundamental\", \"representacion\", \"base\", \"nivel\", \"disciplina\", \"consistir\", \"sistema\", \"explicar\", \"facultad\", \"fenomeno\", \"mental\", \"ciencia\", \"teoria\", \"estudio\", \"mente\", \"forma\", \"luis\", \"ejemplo\", \"pensamiento\", \"proceso\", \"humano\", \"idea\", \"aspecto\", \"politico\", \"palabra\", \"punto\", \"filosofia\", \"visto\", \"voltaire\", \"diccionario\", \"rousseau\", \"tolerancia\", \"fanatismo\", \"voltairar\", \"rey\", \"mil\", \"ley\", \"hacer\", \"hijo\", \"carta\", \"escribir\", \"pueblo\", \"habrio\", \"espiritu\", \"mano\", \"tratado\", \"comun\", \"joven\", \"decidir\", \"casa\", \"tierra\", \"vivir\", \"libertad\", \"celebrar\", \"servir\", \"dejar\", \"dio\", \"publicar\", \"historia\", \"articulo\", \"guerra\", \"antiguo\", \"moral\", \"filosofo\", \"libro\", \"hombre\", \"filosofico\", \"obra\", \"mundo\", \"ano\", \"cosa\", \"religion\", \"escrito\", \"vida\", \"tiempo\", \"razon\", \"sociedad\", \"politico\", \"caso\", \"idea\", \"freud\", \"psicoanalisis\", \"sexual\", \"deseo\", \"inconsciente\", \"sexualidad\", \"psique\", \"impulso\", \"sentimiento\", \"cultura\", \"medico\", \"caracter\", \"racional\", \"consciente\", \"afirmar\", \"podiar\", \"mayorio\", \"tenia\", \"arte\", \"sujeto\", \"fuerza\", \"oscuro\", \"origen\", \"desear\", \"amor\", \"madre\", \"placer\", \"necesidad\", \"serie\", \"cultural\", \"camino\", \"termino\", \"sociedad\", \"hombre\", \"humano\", \"caso\", \"naturaleza\", \"nino\", \"vida\", \"padre\", \"religioso\", \"momento\", \"mente\", \"considerar\", \"realidad\", \"ejemplo\", \"resultar\"], \"Freq\": [367.0, 346.0, 260.0, 221.0, 182.0, 108.0, 99.0, 77.0, 90.0, 228.0, 66.0, 57.0, 56.0, 77.0, 54.0, 64.0, 58.0, 149.0, 48.0, 107.0, 45.0, 144.0, 82.0, 42.0, 41.0, 93.0, 49.0, 44.0, 77.0, 42.0, 181.3940818807937, 259.28794480731506, 107.6150560163956, 89.90127583302937, 98.61930058160645, 64.30682605596895, 218.65232034984356, 43.63310489872888, 37.728044391918196, 33.784247167357385, 34.71029570689499, 74.38965593364331, 30.83108273221423, 72.36833973231745, 92.47332261559006, 27.8270507844557, 20.992187791369055, 21.52414608172768, 27.822496438991795, 27.69593882453133, 27.624355560875475, 35.1411557109451, 18.9911104261881, 25.247184131918246, 21.93676057489348, 17.961958767751472, 32.01146116327544, 40.50821530059694, 27.87107271436087, 16.659715155652744, 45.89907716289224, 61.5240263616996, 108.09178679469137, 53.275009694449736, 100.445334837005, 84.68676763753514, 39.119278022065146, 93.93161329295765, 58.765658007442674, 50.41849660189711, 109.55372913142025, 76.19365748802166, 35.49888024039237, 49.294225354341535, 40.67076528586282, 40.34036938638341, 39.259981980773965, 37.69836570946223, 345.60164416574554, 76.66689659575164, 55.956319786302664, 41.43498810569381, 40.44835710969486, 26.731409427519278, 55.77056338440138, 26.672138527201124, 39.455895834818186, 24.57795551401674, 33.03607808701033, 41.90420670237173, 45.135512354002806, 29.55288191384341, 33.445375333428586, 23.80067431680086, 20.85291945944011, 23.762256711949753, 18.828989361865435, 23.671539474259944, 17.89750938972786, 20.929039390302986, 19.633315014290652, 29.065785668108617, 24.237914979144954, 16.40919132405696, 21.06426598827619, 45.139475560623175, 33.39225669551402, 20.156557692489418, 60.88996746592088, 38.922535526632196, 29.030306973292245, 27.38579232216501, 36.13576378835053, 56.91859240442549, 43.19608672474304, 110.91879528124171, 59.19830059644225, 65.39153486346189, 61.072028620646144, 65.08123782691221, 45.69347306795013, 42.07092933987159, 39.717718143500825, 47.76303622670383, 41.1346747194092, 38.93941697162583, 41.73319239183586, 34.704086730709356, 35.137040041943955, 33.70923326950293, 366.64594197853927, 65.7752771493176, 56.97155714458725, 54.01399144714062, 48.193313342580154, 45.25587492023016, 24.748251941330114, 34.39185677818541, 39.168468497773986, 42.075623562186436, 30.463630557858284, 39.24654392208605, 24.101977650339872, 35.27046113866865, 19.09267037986902, 35.5155228598517, 17.77321914280182, 24.10704924208875, 22.604323062586616, 41.356330389399325, 31.050301283928718, 20.08947787131662, 29.20733128002269, 29.0422325870328, 25.258223173024593, 34.37279799867978, 23.63845050366064, 16.8641830819348, 14.813680920798344, 15.293094683513319, 19.65195150064879, 34.278297410755414, 51.615345688865524, 109.73907216370178, 102.89364874031912, 55.138362692899165, 44.64052465455396, 32.87612376100599, 44.38171223357192, 34.5880299888261, 34.52889295015025, 34.07936804046145, 48.07854788656554, 35.42087822926215, 36.97308198931054, 37.70692132139095, 33.13743220488776], \"Total\": [367.0, 346.0, 260.0, 221.0, 182.0, 108.0, 99.0, 77.0, 90.0, 228.0, 66.0, 57.0, 56.0, 77.0, 54.0, 64.0, 58.0, 149.0, 48.0, 107.0, 45.0, 144.0, 82.0, 42.0, 41.0, 93.0, 49.0, 44.0, 77.0, 42.0, 182.14072777457986, 260.90160497921477, 108.29800890331252, 90.57571487749183, 99.43592685234132, 64.97677236163624, 221.51090476823504, 44.300700301344854, 38.39328322190052, 34.45493744704036, 35.43905620011125, 77.76011855173473, 34.43301919975937, 82.64153473468149, 107.20987249921524, 32.457954025413486, 24.585905702964606, 25.57207444172252, 33.438746049878205, 33.432299088701114, 33.43701555554032, 43.259358832847354, 23.594990042138907, 31.459691553935848, 27.5275381586166, 22.613669404038127, 40.3115899179752, 51.122720024245204, 35.389287893313615, 21.62380998597208, 59.94988276499967, 80.60981504397863, 144.45835424676923, 72.71569003366622, 149.27786630575096, 126.702036275366, 52.10569549606395, 152.19722812100986, 88.39788281147082, 75.62680160584586, 235.3684645076667, 140.3624752214145, 47.17219939503208, 85.44479726278273, 80.45449524531449, 81.42145131693388, 73.62681836232431, 63.818626568133716, 346.5410122505091, 77.33596915575971, 56.77814249664194, 42.094566069151476, 41.115656613879736, 27.410622295966764, 58.731475779538215, 28.387099680816362, 42.10529834756019, 26.43768547906149, 36.215564768067544, 46.00306434209128, 49.94903344944704, 33.27838330751673, 38.185718730148096, 27.404373885090223, 24.471455291088596, 28.411739748254842, 22.5164301098447, 28.38105104657993, 21.537648435658873, 25.444722538206236, 24.465116672601127, 36.23031822231796, 30.338479755967715, 20.550744206483895, 26.450056179000818, 56.763582665096564, 42.07835051520687, 25.453013658491198, 77.37958034837354, 49.96175539410171, 37.23794624139368, 35.23428772929351, 50.87686197249965, 92.08290936412692, 64.68792912443703, 228.90034667020655, 101.82685788691114, 118.52463370505242, 110.69052492676084, 124.43264458585251, 75.46305640215508, 67.49780060640083, 64.57916855644213, 94.88328584930383, 78.36773914962168, 74.37070669638653, 93.87790058913089, 85.44479726278273, 119.48733254614548, 140.3624752214145, 367.3625682102415, 66.4400502950145, 57.64688653911825, 54.71573404345861, 48.85364299162902, 45.92262171208352, 25.405140812314837, 39.11380926516256, 44.95496827866528, 49.84900384821579, 36.161603223557925, 46.92328480218635, 29.34185413007214, 43.03936814845269, 24.456920147358513, 45.94103344248417, 23.463122052159875, 32.258134180644795, 30.308316250062965, 55.785992944067374, 42.048606676312495, 27.37152090577944, 40.100920324048296, 40.11664253196733, 35.193742643395545, 47.90114209313048, 34.21710159517483, 24.457426345828512, 22.5154995267494, 23.465167986606993, 30.31983788412073, 54.84634013271911, 93.87790058913089, 228.90034667020655, 235.3684645076667, 119.48733254614548, 90.10834972754282, 56.815373067130345, 94.88328584930383, 64.54762682334861, 64.54260563837741, 63.6484626742465, 149.27786630575096, 70.52186048443147, 80.34420781176402, 152.19722812100986, 74.38791813973046], \"Category\": [\"Default\", \"Default\", \"Default\", \"Default\", \"Default\", \"Default\", \"Default\", \"Default\", \"Default\", \"Default\", \"Default\", \"Default\", \"Default\", \"Default\", \"Default\", \"Default\", \"Default\", \"Default\", \"Default\", \"Default\", \"Default\", \"Default\", \"Default\", \"Default\", \"Default\", \"Default\", \"Default\", \"Default\", \"Default\", \"Default\", \"Topic1\", \"Topic1\", \"Topic1\", \"Topic1\", \"Topic1\", \"Topic1\", \"Topic1\", \"Topic1\", \"Topic1\", \"Topic1\", \"Topic1\", \"Topic1\", \"Topic1\", \"Topic1\", \"Topic1\", \"Topic1\", \"Topic1\", \"Topic1\", \"Topic1\", \"Topic1\", \"Topic1\", \"Topic1\", \"Topic1\", \"Topic1\", \"Topic1\", \"Topic1\", \"Topic1\", \"Topic1\", \"Topic1\", \"Topic1\", \"Topic1\", \"Topic1\", \"Topic1\", \"Topic1\", \"Topic1\", \"Topic1\", \"Topic1\", \"Topic1\", \"Topic1\", \"Topic1\", \"Topic1\", \"Topic1\", \"Topic1\", \"Topic1\", \"Topic1\", \"Topic1\", \"Topic1\", \"Topic1\", \"Topic2\", \"Topic2\", \"Topic2\", \"Topic2\", \"Topic2\", \"Topic2\", \"Topic2\", \"Topic2\", \"Topic2\", \"Topic2\", \"Topic2\", \"Topic2\", \"Topic2\", \"Topic2\", \"Topic2\", \"Topic2\", \"Topic2\", \"Topic2\", \"Topic2\", \"Topic2\", \"Topic2\", \"Topic2\", \"Topic2\", \"Topic2\", \"Topic2\", \"Topic2\", \"Topic2\", \"Topic2\", \"Topic2\", \"Topic2\", \"Topic2\", \"Topic2\", \"Topic2\", \"Topic2\", \"Topic2\", \"Topic2\", \"Topic2\", \"Topic2\", \"Topic2\", \"Topic2\", \"Topic2\", \"Topic2\", \"Topic2\", \"Topic2\", \"Topic2\", \"Topic2\", \"Topic2\", \"Topic2\", \"Topic2\", \"Topic2\", \"Topic2\", \"Topic2\", \"Topic3\", \"Topic3\", \"Topic3\", \"Topic3\", \"Topic3\", \"Topic3\", \"Topic3\", \"Topic3\", \"Topic3\", \"Topic3\", \"Topic3\", \"Topic3\", \"Topic3\", \"Topic3\", \"Topic3\", \"Topic3\", \"Topic3\", \"Topic3\", \"Topic3\", \"Topic3\", \"Topic3\", \"Topic3\", \"Topic3\", \"Topic3\", \"Topic3\", \"Topic3\", \"Topic3\", \"Topic3\", \"Topic3\", \"Topic3\", \"Topic3\", \"Topic3\", \"Topic3\", \"Topic3\", \"Topic3\", \"Topic3\", \"Topic3\", \"Topic3\", \"Topic3\", \"Topic3\", \"Topic3\", \"Topic3\", \"Topic3\", \"Topic3\", \"Topic3\", \"Topic3\", \"Topic3\"], \"logprob\": [30.0, 29.0, 28.0, 27.0, 26.0, 25.0, 24.0, 23.0, 22.0, 21.0, 20.0, 19.0, 18.0, 17.0, 16.0, 15.0, 14.0, 13.0, 12.0, 11.0, 10.0, 9.0, 8.0, 7.0, 6.0, 5.0, 4.0, 3.0, 2.0, 1.0, -3.4103, -3.053, -3.9324, -4.1122, -4.0197, -4.4473, -3.2235, -4.8351, -4.9806, -5.091, -5.0639, -4.3016, -5.1824, -4.3292, -4.084, -5.285, -5.5668, -5.5418, -5.2851, -5.2897, -5.2923, -5.0516, -5.667, -5.3822, -5.5228, -5.7227, -5.1449, -4.9095, -5.2834, -5.798, -4.7845, -4.4915, -3.928, -4.6355, -4.0013, -4.172, -4.9443, -4.0684, -4.5374, -4.6906, -3.9145, -4.2777, -5.0415, -4.7132, -4.9054, -4.9136, -4.9408, -4.9813, -2.5973, -4.1031, -4.418, -4.7185, -4.7426, -5.1568, -4.4214, -5.159, -4.7674, -5.2408, -4.945, -4.7072, -4.6329, -5.0564, -4.9327, -5.2729, -5.4051, -5.2745, -5.5072, -5.2783, -5.5579, -5.4015, -5.4654, -5.073, -5.2547, -5.6448, -5.395, -4.6328, -4.9343, -5.4391, -4.3335, -4.781, -5.0743, -5.1326, -4.8553, -4.401, -4.6769, -3.7338, -4.3617, -4.2622, -4.3306, -4.267, -4.6207, -4.7032, -4.7608, -4.5764, -4.7258, -4.7806, -4.7113, -4.8957, -4.8834, -4.9248, -2.5331, -4.2512, -4.3949, -4.4482, -4.5622, -4.6251, -5.2287, -4.8996, -4.7696, -4.698, -5.0209, -4.7676, -5.2552, -4.8744, -5.4882, -4.8675, -5.5598, -5.255, -5.3193, -4.7152, -5.0019, -5.4373, -5.063, -5.0687, -5.2083, -4.9002, -5.2746, -5.6123, -5.7419, -5.7101, -5.4593, -4.903, -4.4936, -3.7394, -3.8038, -4.4276, -4.6388, -4.9447, -4.6446, -4.894, -4.8957, -4.9088, -4.5646, -4.8702, -4.8273, -4.8076, -4.9368], \"loglift\": [30.0, 29.0, 28.0, 27.0, 26.0, 25.0, 24.0, 23.0, 22.0, 21.0, 20.0, 19.0, 18.0, 17.0, 16.0, 15.0, 14.0, 13.0, 12.0, 11.0, 10.0, 9.0, 8.0, 7.0, 6.0, 5.0, 4.0, 3.0, 2.0, 1.0, 0.9839, 0.9818, 0.9816, 0.9805, 0.9797, 0.9776, 0.975, 0.9728, 0.9705, 0.9683, 0.9672, 0.9437, 0.8775, 0.8552, 0.8401, 0.834, 0.8299, 0.8156, 0.8041, 0.7997, 0.797, 0.7801, 0.7709, 0.768, 0.7609, 0.7577, 0.7574, 0.7552, 0.7492, 0.7272, 0.7209, 0.7178, 0.698, 0.6769, 0.5918, 0.5851, 0.7013, 0.5054, 0.5797, 0.5825, 0.2232, 0.377, 0.7037, 0.4379, 0.3058, 0.2857, 0.3592, 0.4615, 1.1536, 1.1476, 1.1417, 1.1405, 1.14, 1.1312, 1.1046, 1.094, 1.0913, 1.0834, 1.0644, 1.063, 1.055, 1.0376, 1.0238, 1.0153, 0.9963, 0.9776, 0.9775, 0.9749, 0.9712, 0.961, 0.9363, 0.936, 0.9318, 0.9313, 0.9286, 0.9272, 0.9251, 0.923, 0.9167, 0.9066, 0.9073, 0.9043, 0.8142, 0.6753, 0.7525, 0.4318, 0.6139, 0.5616, 0.5616, 0.5082, 0.6546, 0.6836, 0.6702, 0.4699, 0.5118, 0.5093, 0.3456, 0.2553, -0.0676, -0.2701, 1.1595, 1.1514, 1.1497, 1.1486, 1.1479, 1.1468, 1.1353, 1.0328, 1.0237, 0.9919, 0.99, 0.9828, 0.9647, 0.9624, 0.9139, 0.9041, 0.8837, 0.8702, 0.8682, 0.8622, 0.8582, 0.8522, 0.8445, 0.8384, 0.8297, 0.8296, 0.7916, 0.7897, 0.7428, 0.7333, 0.7278, 0.6914, 0.5633, 0.4263, 0.334, 0.3881, 0.4591, 0.6144, 0.4016, 0.5376, 0.5359, 0.5368, 0.0285, 0.4728, 0.3853, -0.2339, 0.3528]}, \"token.table\": {\"Topic\": [1, 2, 3, 1, 2, 3, 1, 2, 3, 1, 2, 3, 1, 2, 3, 1, 2, 3, 1, 2, 3, 1, 2, 3, 1, 2, 3, 1, 2, 3, 1, 2, 3, 2, 3, 2, 3, 1, 2, 3, 2, 3, 1, 2, 1, 2, 3, 1, 1, 1, 2, 3, 1, 2, 3, 1, 2, 3, 1, 2, 3, 1, 2, 3, 1, 2, 3, 1, 2, 3, 2, 3, 1, 2, 3, 1, 2, 3, 1, 2, 3, 1, 2, 3, 3, 2, 2, 3, 1, 2, 3, 1, 2, 3, 1, 2, 1, 2, 3, 1, 2, 3, 1, 2, 3, 1, 2, 3, 1, 2, 3, 1, 2, 3, 2, 1, 2, 3, 1, 2, 3, 1, 2, 3, 1, 2, 3, 1, 2, 3, 1, 3, 1, 3, 1, 2, 3, 1, 2, 3, 1, 1, 1, 1, 2, 3, 1, 2, 3, 1, 2, 2, 3, 1, 2, 3, 1, 2, 3, 1, 2, 3, 1, 2, 3, 1, 2, 3, 1, 3, 3, 2, 3, 1, 2, 3, 1, 2, 1, 2, 1, 2, 3, 1, 2, 3, 1, 1, 2, 2, 3, 1, 2, 3, 1, 2, 3, 2, 3, 1, 3, 1, 2, 3, 2, 3, 1, 2, 3, 2, 3, 1, 2, 3, 1, 2, 3, 1, 2, 3, 1, 2, 3, 1, 2, 3, 1, 2, 3, 1, 2, 3, 2, 3, 1, 2, 3, 1, 2, 3, 1, 2, 3, 2, 3, 2, 3, 1, 2, 3, 1, 2, 3, 3, 3, 1, 2, 3, 2, 3, 1, 2, 3, 1, 2, 3, 1, 2, 3, 1, 2, 3, 1, 2, 2, 3, 2, 3, 1, 2, 3, 1, 2, 3, 2, 3, 2, 2, 3, 1, 2, 3, 1, 2, 3, 3, 3, 1, 2, 3, 1, 1, 2, 3, 1, 2, 3, 1, 2, 3, 2, 3, 1, 2, 3, 1, 2, 3, 1, 2, 3, 2, 3, 2, 1, 2, 1, 2, 3, 1, 2, 3, 1, 2, 3, 2, 2, 3], \"Freq\": [0.16355289120212557, 0.04088822280053139, 0.7768762332100965, 0.02841414197212867, 0.25572727774915804, 0.7103535493032168, 0.23305781289564573, 0.5223709599385163, 0.24109428920239215, 0.028381445019778496, 0.7662990155340195, 0.19867011513844948, 0.8373519736127182, 0.1196217105161026, 0.02990542762902565, 0.03299424460763051, 0.19796546764578302, 0.7588676259755016, 0.16012247642012292, 0.7805970725480993, 0.0600459286575461, 0.7419624365381193, 0.04239785351646396, 0.19079034082408783, 0.8052556905541136, 0.04238187845021651, 0.12714563535064952, 0.06596341338115963, 0.2638536535246385, 0.6596341338115963, 0.04262276199186319, 0.10655690497965797, 0.8311438588413321, 0.9129826588871688, 0.0869507294178256, 0.8253184906405517, 0.15720352202677176, 0.24270355176604455, 0.29291807971764, 0.4602998395562914, 0.7785606126590732, 0.1946401531647683, 0.9927114094243833, 0.003832862584650129, 0.7691371077600713, 0.14886524666323958, 0.08683806055355643, 0.9932122901150678, 0.9867961609931921, 0.04441201358836973, 0.8438282581790248, 0.08882402717673946, 0.9002986296425798, 0.029041891278792895, 0.05808378255758579, 0.13940725103827312, 0.023234541839712186, 0.8132089643899265, 0.2694200049386739, 0.2268800041588833, 0.4963000090975572, 0.795978736506413, 0.13266312275106884, 0.04422104091702295, 0.25177882934857376, 0.6095697973702312, 0.14576669067549008, 0.020060581411915062, 0.12036348847149037, 0.8425444193004326, 0.34093086418840424, 0.639245370353258, 0.04643032422909954, 0.8357458361237917, 0.09286064845819908, 0.017616928901404445, 0.7927618005632, 0.17616928901404444, 0.8375134454771305, 0.02991119448132609, 0.11964477792530435, 0.17449117269527187, 0.09970924154015536, 0.7228920011661263, 0.9869190452075425, 0.9956557193318022, 0.7842512740149828, 0.19012152097332918, 0.7991996913503002, 0.07265451739548184, 0.10898177609322277, 0.6176196581271634, 0.13797885979436628, 0.24967603200885327, 0.0800816296885577, 0.9009183339962742, 0.04645460861543925, 0.61939478153919, 0.3406671298465545, 0.9876109511034361, 0.8757726084396176, 0.1094715760549522, 0.8581299264270035, 0.03730999680117407, 0.10260249120322869, 0.7288660806967772, 0.06876095100912992, 0.20628285302738977, 0.8019917559268276, 0.07824309813920269, 0.11736464720880403, 0.7911998705486885, 0.05651427646776346, 0.14128569116940864, 0.9728654068605312, 0.7861704302353903, 0.09249063885122238, 0.13873595827683358, 0.529698292924698, 0.353132195283132, 0.10865606008711755, 0.1276676926871081, 0.5794149129645675, 0.28479716060970267, 0.18461623462369395, 0.6190073749147386, 0.19547601313097007, 0.6708653033426117, 0.07103279682451183, 0.26045358835654336, 0.8541479111533316, 0.12202113016476165, 0.9956160025240308, 0.9990130507525362, 0.07134600257016385, 0.19025600685377025, 0.7372420265583598, 0.8373953098024193, 0.11962790140034561, 0.059813950700172806, 0.9972482513175419, 0.9849673610101793, 0.9936438273960022, 0.18798029178684414, 0.7787754945454972, 0.026854327398120593, 0.05237560183516921, 0.8641974302802921, 0.05237560183516921, 0.07564958746422752, 0.945619843302844, 0.9112104204736077, 0.08283731095214615, 0.8603134661654807, 0.11731547265892918, 0.039105157552976395, 0.12923306064699008, 0.7883216699466395, 0.07753983638819406, 0.034949706788894405, 0.4849271816959098, 0.48055846834729804, 0.46735232874163124, 0.09771912328234107, 0.43761172600352743, 0.5414552563291146, 0.24222998309460392, 0.21373233802465053, 0.1022656722816991, 0.8692582143944423, 0.9825265233183267, 0.8456346440662257, 0.14093910734437093, 0.8712326099842427, 0.10890407624803033, 0.012100452916447815, 0.9886646448811982, 0.00902890086649496, 0.04749996030169183, 0.9262492258829907, 0.032961440653706306, 0.7910745756889513, 0.16480720326853154, 0.24734135435409557, 0.6647298898266318, 0.09275300788278584, 0.9937371076281651, 0.7484786380587904, 0.24949287935293016, 0.2713922765082533, 0.7097951847138934, 0.040863936701147276, 0.8581426707240928, 0.12259181010344183, 0.04262007407952541, 0.21310037039762703, 0.7671613334314573, 0.13826820589477315, 0.829609235368639, 0.7673075889125177, 0.2335283966255489, 0.6698916756699883, 0.006698916756699883, 0.3215480043215944, 0.9511362662472438, 0.03522726912026829, 0.23566947840940256, 0.21995817984877572, 0.5341841510613125, 0.7075908105232394, 0.27517420409237087, 0.19875233236590442, 0.5510860124690986, 0.24392331699451908, 0.2663460164631567, 0.24415051509122698, 0.4993987808684188, 0.12266212959531957, 0.16354950612709276, 0.6950854010401442, 0.31681566147127216, 0.10560522049042405, 0.5808287126973323, 0.7946676767996573, 0.06357341414397258, 0.15893353535993146, 0.19405248749585097, 0.5484092037926223, 0.2531119402119795, 0.09974833414487055, 0.17455958475352346, 0.7231754225503115, 0.2557402646384171, 0.7306864703954774, 0.015492436348384432, 0.44928065410314855, 0.5422352721934551, 0.5096048378028667, 0.18644079431812197, 0.31073465719686993, 0.6674367996553867, 0.10181239316777085, 0.23756225072479864, 0.2922515214266472, 0.7014036514239532, 0.21767033195976077, 0.7836131950551387, 0.5734696736338677, 0.4096211954527626, 0.01170346272722179, 0.6611412744993709, 0.07933695293992452, 0.25123368430976095, 0.9933767314585022, 0.9840528019384781, 0.07857615710400541, 0.7857615710400542, 0.15715231420801082, 0.9014861005349312, 0.09014861005349312, 0.49127102689805374, 0.1350995323969648, 0.3684532701735403, 0.13632403672474278, 0.034081009181185694, 0.8179442203484567, 0.08067692599042525, 0.5244000189377641, 0.40338462995212626, 0.31116119855922575, 0.22403606296264253, 0.4605185738676541, 0.9516446396717736, 0.03858018809480163, 0.6222424971283751, 0.3703824387668899, 0.46480924814355223, 0.5422774561674776, 0.8090734801511685, 0.023116385147176243, 0.1618146960302337, 0.13443043238844207, 0.43017738364301467, 0.4436204268818589, 0.9534921310373432, 0.05107993559128624, 0.9862950342785877, 0.11122241192577817, 0.8675348130210697, 0.22206924585704974, 0.0888276983428199, 0.6662077375711493, 0.15122841225477898, 0.7939491643375897, 0.037807103063694746, 0.9887784652744553, 0.9799092108053414, 0.8626544968939491, 0.061618178349567794, 0.061618178349567794, 0.9897564576692368, 0.7938163705552828, 0.12403380789926292, 0.07442028473955775, 0.010652134248044521, 0.4473896384178699, 0.553910980898315, 0.2151077603302955, 0.03585129338838258, 0.7349515144618429, 0.24799946442035944, 0.7439983932610783, 0.7476203128793113, 0.02768964121775227, 0.22151712974201815, 0.30995687148609735, 0.07293102858496409, 0.6199137429721947, 0.21692599766777967, 0.5231744649634686, 0.26796740888372783, 0.8174904811469106, 0.16349809622938213, 0.9739974497574494, 0.14078687315322516, 0.844721238919351, 0.03161779203941862, 0.5058846726306979, 0.46372761657813977, 0.5954374458283058, 0.20370228409915728, 0.20370228409915728, 0.08280357852755467, 0.8004345924330284, 0.11040477137007289, 0.985019592348796, 0.9984388218670118, 0.0028856613348757568], \"Term\": [\"afirmar\", \"afirmar\", \"afirmar\", \"amor\", \"amor\", \"amor\", \"ano\", \"ano\", \"ano\", \"antiguo\", \"antiguo\", \"antiguo\", \"aprender\", \"aprender\", \"aprender\", \"arte\", \"arte\", \"arte\", \"articulo\", \"articulo\", \"articulo\", \"aspecto\", \"aspecto\", \"aspecto\", \"base\", \"base\", \"base\", \"camino\", \"camino\", \"camino\", \"caracter\", \"caracter\", \"caracter\", \"carta\", \"carta\", \"casa\", \"casa\", \"caso\", \"caso\", \"caso\", \"celebrar\", \"celebrar\", \"chomsky\", \"chomsky\", \"ciencia\", \"ciencia\", \"ciencia\", \"cognitiva\", \"cognitivo\", \"comun\", \"comun\", \"comun\", \"concepto\", \"concepto\", \"concepto\", \"consciente\", \"consciente\", \"consciente\", \"considerar\", \"considerar\", \"considerar\", \"consistir\", \"consistir\", \"consistir\", \"cosa\", \"cosa\", \"cosa\", \"cultura\", \"cultura\", \"cultura\", \"cultural\", \"cultural\", \"decidir\", \"decidir\", \"decidir\", \"dejar\", \"dejar\", \"dejar\", \"desarrollar\", \"desarrollar\", \"desarrollar\", \"desear\", \"desear\", \"desear\", \"deseo\", \"diccionario\", \"dio\", \"dio\", \"disciplina\", \"disciplina\", \"disciplina\", \"ejemplo\", \"ejemplo\", \"ejemplo\", \"escribir\", \"escribir\", \"escrito\", \"escrito\", \"escrito\", \"especifico\", \"espiritu\", \"espiritu\", \"estructura\", \"estructura\", \"estructura\", \"estudio\", \"estudio\", \"estudio\", \"explicar\", \"explicar\", \"explicar\", \"facultad\", \"facultad\", \"facultad\", \"fanatismo\", \"fenomeno\", \"fenomeno\", \"fenomeno\", \"filosofia\", \"filosofia\", \"filosofia\", \"filosofico\", \"filosofico\", \"filosofico\", \"filosofo\", \"filosofo\", \"filosofo\", \"forma\", \"forma\", \"forma\", \"formal\", \"formal\", \"frase\", \"freud\", \"fuerza\", \"fuerza\", \"fuerza\", \"fundamental\", \"fundamental\", \"fundamental\", \"generativo\", \"gramatica\", \"gramatico\", \"guerra\", \"guerra\", \"guerra\", \"habrio\", \"habrio\", \"habrio\", \"hacer\", \"hacer\", \"hijo\", \"hijo\", \"hipotesis\", \"hipotesis\", \"hipotesis\", \"historia\", \"historia\", \"historia\", \"hombre\", \"hombre\", \"hombre\", \"humano\", \"humano\", \"humano\", \"idea\", \"idea\", \"idea\", \"impulso\", \"impulso\", \"inconsciente\", \"joven\", \"joven\", \"lengua\", \"lengua\", \"lengua\", \"lenguaje\", \"lenguaje\", \"ley\", \"ley\", \"libertad\", \"libertad\", \"libertad\", \"libro\", \"libro\", \"libro\", \"linguistico\", \"luis\", \"luis\", \"madre\", \"madre\", \"mano\", \"mano\", \"mano\", \"mayorio\", \"mayorio\", \"mayorio\", \"medico\", \"medico\", \"mental\", \"mental\", \"mente\", \"mente\", \"mente\", \"mil\", \"mil\", \"momento\", \"momento\", \"momento\", \"moral\", \"moral\", \"mundo\", \"mundo\", \"mundo\", \"naturaleza\", \"naturaleza\", \"naturaleza\", \"necesidad\", \"necesidad\", \"necesidad\", \"nino\", \"nino\", \"nino\", \"nivel\", \"nivel\", \"nivel\", \"obra\", \"obra\", \"obra\", \"origen\", \"origen\", \"origen\", \"oscuro\", \"oscuro\", \"padre\", \"padre\", \"padre\", \"palabra\", \"palabra\", \"palabra\", \"pensamiento\", \"pensamiento\", \"pensamiento\", \"placer\", \"placer\", \"podiar\", \"podiar\", \"politico\", \"politico\", \"politico\", \"proceso\", \"proceso\", \"proceso\", \"psicoanalisis\", \"psique\", \"publicar\", \"publicar\", \"publicar\", \"pueblo\", \"pueblo\", \"punto\", \"punto\", \"punto\", \"racional\", \"racional\", \"racional\", \"razon\", \"razon\", \"razon\", \"realidad\", \"realidad\", \"realidad\", \"regla\", \"regla\", \"religion\", \"religion\", \"religioso\", \"religioso\", \"representacion\", \"representacion\", \"representacion\", \"resultar\", \"resultar\", \"resultar\", \"rey\", \"rey\", \"rousseau\", \"sentimiento\", \"sentimiento\", \"serie\", \"serie\", \"serie\", \"servir\", \"servir\", \"servir\", \"sexual\", \"sexualidad\", \"simple\", \"simple\", \"simple\", \"sintaxis\", \"sistema\", \"sistema\", \"sistema\", \"sociedad\", \"sociedad\", \"sociedad\", \"sujeto\", \"sujeto\", \"sujeto\", \"tenia\", \"tenia\", \"teoria\", \"teoria\", \"teoria\", \"termino\", \"termino\", \"termino\", \"tiempo\", \"tiempo\", \"tiempo\", \"tierra\", \"tierra\", \"tolerancia\", \"tratado\", \"tratado\", \"vida\", \"vida\", \"vida\", \"visto\", \"visto\", \"visto\", \"vivir\", \"vivir\", \"vivir\", \"voltairar\", \"voltaire\", \"voltaire\"]}, \"R\": 30, \"lambda.step\": 0.01, \"plot.opts\": {\"xlab\": \"PC1\", \"ylab\": \"PC2\"}, \"topic.order\": [2, 3, 1]};\n",
       "\n",
       "function LDAvis_load_lib(url, callback){\n",
       "  var s = document.createElement('script');\n",
       "  s.src = url;\n",
       "  s.async = true;\n",
       "  s.onreadystatechange = s.onload = callback;\n",
       "  s.onerror = function(){console.warn(\"failed to load library \" + url);};\n",
       "  document.getElementsByTagName(\"head\")[0].appendChild(s);\n",
       "}\n",
       "\n",
       "if(typeof(LDAvis) !== \"undefined\"){\n",
       "   // already loaded: just create the visualization\n",
       "   !function(LDAvis){\n",
       "       new LDAvis(\"#\" + \"ldavis_el48641285213242029124974156601\", ldavis_el48641285213242029124974156601_data);\n",
       "   }(LDAvis);\n",
       "}else if(typeof define === \"function\" && define.amd){\n",
       "   // require.js is available: use it to load d3/LDAvis\n",
       "   require.config({paths: {d3: \"https://d3js.org/d3.v5\"}});\n",
       "   require([\"d3\"], function(d3){\n",
       "      window.d3 = d3;\n",
       "      LDAvis_load_lib(\"https://cdn.jsdelivr.net/gh/bmabey/pyLDAvis@3.4.0/pyLDAvis/js/ldavis.v3.0.0.js\", function(){\n",
       "        new LDAvis(\"#\" + \"ldavis_el48641285213242029124974156601\", ldavis_el48641285213242029124974156601_data);\n",
       "      });\n",
       "    });\n",
       "}else{\n",
       "    // require.js not available: dynamically load d3 & LDAvis\n",
       "    LDAvis_load_lib(\"https://d3js.org/d3.v5.js\", function(){\n",
       "         LDAvis_load_lib(\"https://cdn.jsdelivr.net/gh/bmabey/pyLDAvis@3.4.0/pyLDAvis/js/ldavis.v3.0.0.js\", function(){\n",
       "                 new LDAvis(\"#\" + \"ldavis_el48641285213242029124974156601\", ldavis_el48641285213242029124974156601_data);\n",
       "            })\n",
       "         });\n",
       "}\n",
       "</script>"
      ],
      "text/plain": [
       "PreparedData(topic_coordinates=              x         y  topics  cluster       Freq\n",
       "topic                                                \n",
       "1     -0.179720 -0.035877       1        1  37.233113\n",
       "2      0.138162 -0.082179       2        1  31.464054\n",
       "0      0.041558  0.118056       3        1  31.302833, topic_info=            Term        Freq       Total Category  logprob  loglift\n",
       "269        freud  367.000000  367.000000  Default  30.0000  30.0000\n",
       "292     voltaire  346.000000  346.000000  Default  29.0000  29.0000\n",
       "7        chomsky  260.000000  260.000000  Default  28.0000  28.0000\n",
       "24      lenguaje  221.000000  221.000000  Default  27.0000  27.0000\n",
       "26   linguistico  182.000000  182.000000  Default  26.0000  26.0000\n",
       "..           ...         ...         ...      ...      ...      ...\n",
       "28         mente   48.078548  149.277866   Topic3  -4.5646   0.0285\n",
       "85    considerar   35.420878   70.521860   Topic3  -4.8702   0.4728\n",
       "79      realidad   36.973082   80.344208   Topic3  -4.8273   0.3853\n",
       "87       ejemplo   37.706921  152.197228   Topic3  -4.8076  -0.2339\n",
       "42      resultar   33.137432   74.387918   Topic3  -4.9368   0.3528\n",
       "\n",
       "[177 rows x 6 columns], token_table=      Topic      Freq       Term\n",
       "term                            \n",
       "201       1  0.163553    afirmar\n",
       "201       2  0.040888    afirmar\n",
       "201       3  0.776876    afirmar\n",
       "156       1  0.028414       amor\n",
       "156       2  0.255727       amor\n",
       "...     ...       ...        ...\n",
       "222       2  0.800435      vivir\n",
       "222       3  0.110405      vivir\n",
       "293       2  0.985020  voltairar\n",
       "292       2  0.998439   voltaire\n",
       "292       3  0.002886   voltaire\n",
       "\n",
       "[338 rows x 3 columns], R=30, lambda_step=0.01, plot_opts={'xlab': 'PC1', 'ylab': 'PC2'}, topic_order=[2, 3, 1])"
      ]
     },
     "execution_count": 14,
     "metadata": {},
     "output_type": "execute_result"
    }
   ],
   "source": [
    "# Visualizamos los resultados\n",
    "import pyLDAvis\n",
    "import pyLDAvis.gensim_models as gensimvis\n",
    "\n",
    "pyLDAvis.enable_notebook()\n",
    "LDA_visualization = gensimvis.prepare(Estimacion, corpus, dictionary)\n",
    "LDA_visualization"
   ]
  },
  {
   "cell_type": "markdown",
   "metadata": {},
   "source": [
    "Tenemos entonces una gráfica  interactiva donde cada burbuja en la gráfica del lado izquierdo representa un tema. Cuanto más grande es la burbuja, más frecuente es ese tema. Un buen modelo de temas tendrá burbujas grandes que no se superpongan y están dispersas por todo el gráfico en lugar de estar agrupadas en un cuadrante. Un modelo con demasiados temas normalmente tendrá muchas burbujas pequeñas, superpuestas y agrupadas en una región del gráfico.\n",
    "\n",
    "Cuando posamos el cursor sobre las burbujas, las palabras y las barras del lado derecho se actualizarán. Estas palabras son las palabras claves sobresalientes que forman el tema seleccionado. La gráfica de la derecha también contiene un parámetro $\\lambda$ que al deslizarlo cambia la distribución de frecuencia de las palabras. Los valores de $\\lambda$ que están muy cerca de cero mostrarán términos que son más específicos para un tema elegido. Lo que significa que verán términos que son \"importantes\" para ese tema específico, pero no necesariamente \"importantes\" para todo el corpus. Los valores de  $\\lambda$ que están muy cerca de uno mostrarán aquellos términos que tienen la relación más alta entre la frecuencia de los términos para ese tema específico y la frecuencia general de los términos del corpus. Utilizar diferentes valores del parámetro $\\lambda$ puede ayudar cuando estamos intentando asignar un  \"significado\" a cada tópico.\n",
    "\n",
    "El escenario ideal es como el que aparece por la gráfica anterior, donde los círculos se distribuyen por todo el gráfico, alejados entre si y tienen un tamaño razonable y consistente. Es decir, los tópicos son distintos y  aparecen de manera uniforme en todo el corpus.\n",
    "\n",
    "[pyLDAvis](https://pyldavis.readthedocs.io/en/latest/readme.html) permite también guardar la visualización como html, que permite una mejor interacción, para ello podemos utilizar la función  `save_html`. Por ahora la dejamos escrita pero comentada y los invito a que la prueben por su cuenta."
   ]
  },
  {
   "cell_type": "code",
   "execution_count": 15,
   "metadata": {},
   "outputs": [],
   "source": [
    "#pyLDAvis.save_html(LDA_visualization, 'visualizacion_LDA.html')"
   ]
  },
  {
   "cell_type": "markdown",
   "metadata": {},
   "source": [
    "### Eligiendo el número de temas\n",
    "\n",
    "Elegir el número de tópicos,  como el número de clusters en K-medias, es un paso clave. La pregunta natural que surge es si existe algún método para hacerlo. Desafortunadamente, no existe una forma objetiva aceptada en la literatura de responderla. Sin embargo, hay 2 métodos  que pueden servir de guía.\n",
    "\n",
    "#### Medida de Coherencia\n",
    "\n",
    "Decimos que hechos, documentos o enunciados son coherentes, si se apoyan entre sí.  Un ejemplo de un conjunto de hechos coherente es \"el juego es un deporte de equipo\", “el juego se juega con una pelota”, “el juego exige un gran esfuerzo físico”. El problema fundamental es cómo medir esta coherencia en los datos. Röder et al. (2015) proponen una forma de hacerlo que consiste en 4 pasos que se muestran en la figura y describimos brevemente (los invito a leer el artículo original para los detalles matemáticos):"
   ]
  },
  {
   "cell_type": "markdown",
   "metadata": {},
   "source": [
    "<center>\n",
    "<img src = \"figs/coherencia.jpeg\" alt = \"coherencia\" style = \"width: 600px;\"/>\n",
    "</center>\n"
   ]
  },
  {
   "cell_type": "markdown",
   "metadata": {},
   "source": [
    "Comenzando con el tópico  que queremos evaluar (t), elegimos un corpus de referencia, y las n-palabras más importantes del tópico  que llamamos $W$:\n",
    "\n",
    "1. En el primer paso segmentamos el conjunto $W$ creando pares de palabras. Por ejemplo si tenemos las palabras $W={perro, gato, conejo}$ y la segmentamos una a una vamos a tener: $S={(perro,gato),(perro,conejo),(gato,perro),(gato,conejo),(conejo,perro),(conejo,gato)}$. Existen múltiples formas de segmentar, pero la idea es que dependiendo la segmentación, la medida de coherencia va a estar interesada en estos conjuntos resultantes.\n",
    "\n",
    "2. Usando el corpus de referencia, en el segundo definimos y calculamos la probabilidad de ocurrencia de distintas palabras dentro del texto.  Al igual que en el paso anterior, se pueden definir distintas formas de calcular estas probabilidades.\n",
    "\n",
    "3. Con las palabras segmentadas y las probabilidades, utilizamos una medida de confirmación para evaluar la relación entre los subconjuntos creados en el paso de segmentación. Esto nos dice cuán fuerte es la relación de estos subconjuntos. Esto se pueden hacer por medidas de confirmación directa o indirecta, que están  más allá de este curso.\n",
    "\n",
    "4. Agregación, toma los valores calculados en el paso anterior y se los agrega en un solo resultado que da la medida de coherencia del tópico. Aquí también existen varias formas de hacer la agregación, por ejemplo, la media, la mediana, etc.\n",
    "\n",
    "\n",
    "[Gensim](https://radimrehurek.com/gensim/index.html) implementa esta medida a través de la función [CoherenceModel](https://radimrehurek.com/gensim/models/coherencemodel.html) que implementa los 4 pasos anteriores. La función requiere como insumos el modelo estimado, el corpus y el diccionario."
   ]
  },
  {
   "cell_type": "code",
   "execution_count": 16,
   "metadata": {},
   "outputs": [
    {
     "name": "stderr",
     "output_type": "stream",
     "text": [
      "/opt/conda/lib/python3.10/site-packages/scipy/sparse/_sputils.py:44: DeprecationWarning: np.find_common_type is deprecated.  Please use `np.result_type` or `np.promote_types`.\n",
      "See https://numpy.org/devdocs/release/1.25.0-notes.html and the docs for more information.  (Deprecated NumPy 1.25)\n",
      "  upcast = np.find_common_type(args, [])\n",
      "/opt/conda/lib/python3.10/site-packages/scipy/sparse/_sputils.py:44: DeprecationWarning: np.find_common_type is deprecated.  Please use `np.result_type` or `np.promote_types`.\n",
      "See https://numpy.org/devdocs/release/1.25.0-notes.html and the docs for more information.  (Deprecated NumPy 1.25)\n",
      "  upcast = np.find_common_type(args, [])\n",
      "/opt/conda/lib/python3.10/site-packages/scipy/sparse/_sputils.py:44: DeprecationWarning: np.find_common_type is deprecated.  Please use `np.result_type` or `np.promote_types`.\n",
      "See https://numpy.org/devdocs/release/1.25.0-notes.html and the docs for more information.  (Deprecated NumPy 1.25)\n",
      "  upcast = np.find_common_type(args, [])\n"
     ]
    },
    {
     "data": {
      "text/plain": [
       "0.6043466319744287"
      ]
     },
     "execution_count": 16,
     "metadata": {},
     "output_type": "execute_result"
    }
   ],
   "source": [
    "from gensim.models import CoherenceModel\n",
    "\n",
    "coherencemodel = CoherenceModel(model=Estimacion, texts=clean, dictionary=dictionary)\n",
    "coherencemodel.get_coherence() "
   ]
  },
  {
   "cell_type": "markdown",
   "metadata": {},
   "source": [
    "Obtuvimos una coherencia de 0.51, sin embargo, este número no tiene interpretación directa. Sirve sólo en un contexto donde se compara con otros modelos con diferentes números de temas, y escogeremos aquella con mayor coherencia.\n",
    "\n",
    "Ilustremos esto creando una función que itere a lo largo de distinto número de temas y devuelve la medida de coherencia. Adicionalmente, aprovecharemos que [Gensim](https://radimrehurek.com/gensim/index.html) tiene una implementación de LDA ([LdaMulticore](https://radimrehurek.com/gensim/models/ldamulticore.html)) que paraleliza y acelera la estimación del modelo:"
   ]
  },
  {
   "cell_type": "code",
   "execution_count": 17,
   "metadata": {},
   "outputs": [],
   "source": [
    "from gensim.models.ldamulticore import LdaMulticore\n",
    "\n",
    "def calcular_coherencia(dictionary, corpus, texts, start=1, limit=10, step=1):\n",
    " \n",
    "    coherence_values = []\n",
    "    model_list = []\n",
    "    \n",
    "    for num_topics in range(start, limit, step):\n",
    "        model = LdaMulticore(corpus=corpus,\n",
    "                        id2word=dictionary,\n",
    "                        num_topics=num_topics, \n",
    "                        random_state=123,\n",
    "                        passes=20)\n",
    "        model_list.append(model)\n",
    "        coherencemodel = CoherenceModel(model=model, texts=texts, dictionary=dictionary, coherence='c_v')\n",
    "        coherence_values.append(coherencemodel.get_coherence())\n",
    "\n",
    "    return model_list, coherence_values"
   ]
  },
  {
   "cell_type": "markdown",
   "metadata": {},
   "source": [
    "La función además de los insumos esenciales para la estimación de LDA, tiene además un punto de inicio, finalización y tamaño de paso para el rango de temas a estimar:"
   ]
  },
  {
   "cell_type": "code",
   "execution_count": 18,
   "metadata": {},
   "outputs": [],
   "source": [
    "modelos, valores_c = calcular_coherencia(dictionary=dictionary, corpus=corpus, texts=clean, start=1, limit=10, step=1)"
   ]
  },
  {
   "cell_type": "markdown",
   "metadata": {},
   "source": [
    "Graficamos los resultados:"
   ]
  },
  {
   "cell_type": "code",
   "execution_count": 19,
   "metadata": {},
   "outputs": [
    {
     "data": {
      "image/png": "[encoded data removed]",
      "text/plain": [
       "<Figure size 640x480 with 1 Axes>"
      ]
     },
     "metadata": {},
     "output_type": "display_data"
    }
   ],
   "source": [
    "import matplotlib.pyplot as plt\n",
    "# Show graph\n",
    "limit=10; start=1; step=1;\n",
    "x = range(start, limit, step)\n",
    "plt.plot(x, valores_c)\n",
    "plt.xlabel(\"Número de Temas\")\n",
    "plt.ylabel(\"Medida de Coherencia\")\n",
    "plt.show()"
   ]
  },
  {
   "cell_type": "markdown",
   "metadata": {},
   "source": [
    "La medida de coherencia sugiere que hay 4 tipos de temas en estas páginas, visualicemos entonces los resultados:"
   ]
  },
  {
   "cell_type": "code",
   "execution_count": 20,
   "metadata": {},
   "outputs": [
    {
     "data": {
      "text/html": [
       "\n",
       "<link rel=\"stylesheet\" type=\"text/css\" href=\"https://cdn.jsdelivr.net/gh/bmabey/pyLDAvis@3.4.0/pyLDAvis/js/ldavis.v1.0.0.css\">\n",
       "\n",
       "\n",
       "<div id=\"ldavis_el48641285272462781283589033551\" style=\"background-color:white;\"></div>\n",
       "<script type=\"text/javascript\">\n",
       "\n",
       "var ldavis_el48641285272462781283589033551_data = {\"mdsDat\": {\"x\": [0.02888249020754114, -0.009190759948864952, -0.003161721754765088, -0.016530008503911103], \"y\": [-0.003355488414141046, -0.015617217621153675, 0.01997262328027357, -0.0009999172449788507], \"topics\": [1, 2, 3, 4], \"cluster\": [1, 1, 1, 1], \"Freq\": [32.32931866538556, 27.165256193154075, 22.82719165783443, 17.67823348362593]}, \"tinfo\": {\"Term\": [\"freud\", \"hombre\", \"historia\", \"chomsky\", \"frase\", \"politico\", \"voltaire\", \"generativo\", \"linguistico\", \"diccionario\", \"estructura\", \"gramatico\", \"teoria\", \"inconsciente\", \"forma\", \"lengua\", \"caso\", \"tolerancia\", \"sociedad\", \"luis\", \"rey\", \"religion\", \"hijo\", \"lenguaje\", \"filosofo\", \"proceso\", \"gramatica\", \"articulo\", \"ciencia\", \"religioso\", \"inconsciente\", \"freud\", \"psique\", \"oscuro\", \"consciente\", \"muerte\", \"tenia\", \"religioso\", \"psicoanalisis\", \"deseo\", \"interno\", \"medico\", \"finalmente\", \"cultura\", \"habiar\", \"existencia\", \"habrio\", \"realidad\", \"pese\", \"caracter\", \"mayorio\", \"autor\", \"origen\", \"dudar\", \"sujeto\", \"ciudad\", \"completo\", \"casa\", \"sentimiento\", \"persona\", \"mundo\", \"mente\", \"ano\", \"razon\", \"humano\", \"lenguaje\", \"vida\", \"voltaire\", \"pensamiento\", \"estudio\", \"palabra\", \"lugar\", \"hombre\", \"obra\", \"idea\", \"ejemplo\", \"filosofico\", \"forma\", \"chomsky\", \"naturaleza\", \"linguistico\", \"teoria\", \"tiempo\", \"caso\", \"cognitiva\", \"cerebro\", \"ciencia\", \"capitulo\", \"proceso\", \"nombre\", \"gramatica\", \"chomsky\", \"teoria\", \"fundamental\", \"logico\", \"caber\", \"campo\", \"rousseau\", \"producir\", \"distinto\", \"intentar\", \"idea\", \"especifico\", \"servir\", \"investigacion\", \"natural\", \"humano\", \"orden\", \"estructura\", \"principio\", \"desarrollar\", \"aspecto\", \"general\", \"ser\", \"rey\", \"pensamiento\", \"gramatico\", \"generativo\", \"politico\", \"linguistico\", \"historia\", \"lenguaje\", \"mental\", \"voltaire\", \"mente\", \"filosofia\", \"ejemplo\", \"mundo\", \"forma\", \"filosofo\", \"lugar\", \"obra\", \"freud\", \"frase\", \"tolerancia\", \"hijo\", \"politico\", \"tierra\", \"diccionario\", \"antiguo\", \"moral\", \"articulo\", \"celebrar\", \"leer\", \"sociedad\", \"hecho\", \"creer\", \"convertir\", \"hombre\", \"fanatismo\", \"guerra\", \"lector\", \"dejar\", \"parecer\", \"preguntar\", \"cultural\", \"dio\", \"amigo\", \"tipo\", \"religion\", \"pequeno\", \"mostrar\", \"recibir\", \"ley\", \"caso\", \"visto\", \"chomsky\", \"naturaleza\", \"escribir\", \"filosofico\", \"determinado\", \"voltaire\", \"ejemplo\", \"ano\", \"linguistico\", \"frase\", \"freud\", \"obra\", \"resultar\", \"punto\", \"humano\", \"idea\", \"lenguaje\", \"generativo\", \"mente\", \"tiempo\", \"estructura\", \"teoria\", \"forma\", \"historia\", \"frase\", \"hacer\", \"querer\", \"justo\", \"nivel\", \"lengua\", \"luis\", \"concreto\", \"objeto\", \"gramatico\", \"generativo\", \"fenomeno\", \"significado\", \"momento\", \"especifico\", \"pese\", \"constituir\", \"pueblo\", \"rey\", \"forma\", \"conocimiento\", \"mantener\", \"llevar\", \"tomar\", \"filosofo\", \"expresar\", \"importante\", \"estructura\", \"nino\", \"intelectual\", \"voltaire\", \"linguistico\", \"hombre\", \"escrito\", \"caso\", \"lenguaje\", \"teoria\", \"profundo\", \"ejemplo\", \"obra\", \"razon\", \"palabra\", \"filosofia\", \"chomsky\", \"filosofico\", \"cosa\", \"humano\", \"ano\", \"vida\", \"idea\", \"freud\", \"mente\"], \"Freq\": [353.0, 219.0, 81.0, 269.0, 100.0, 85.0, 348.0, 111.0, 185.0, 76.0, 111.0, 93.0, 150.0, 48.0, 128.0, 83.0, 117.0, 39.0, 92.0, 52.0, 61.0, 64.0, 34.0, 224.0, 94.0, 79.0, 68.0, 49.0, 84.0, 61.0, 34.109717788016496, 239.0285539768633, 16.782806719351107, 17.15892080198232, 27.01248761364184, 21.247358216367324, 18.484765630255108, 36.62770666066188, 37.13407104113199, 29.945003315932855, 15.150501442773258, 18.50669420190334, 14.265751520701079, 25.147046937951462, 13.84713806325891, 14.177312276772874, 18.580728665701137, 39.39633537699136, 19.527666160721665, 22.696959811921577, 11.13309208412492, 26.110811658593306, 19.063327101797327, 11.539460090712492, 25.29476282353692, 13.252129052785513, 13.220178750868518, 11.028853655145785, 19.692456845413535, 19.826268648813773, 47.22245075654968, 61.959321297042635, 49.6755820372707, 31.1103927709904, 87.92067628428983, 80.99564401564983, 38.164574024028894, 105.81418647336795, 35.98890489820204, 30.00769380721639, 31.8601496421819, 31.261790063197243, 63.68499064257054, 39.33212613894725, 43.125835645791604, 44.070180835486156, 33.182107677758225, 37.00056121077186, 49.70517539520181, 30.36405530040019, 40.04110998855344, 35.389528380597, 28.10011901087019, 29.986688917808507, 24.130283012164, 15.684040750864076, 39.010735679781035, 14.271601929907233, 35.899132290218134, 15.721528667050954, 29.806691974916657, 118.08064104867728, 63.73057694981955, 14.585431927912536, 11.49176930389251, 10.415458636035156, 24.244220679690823, 24.143990458549556, 15.141993991006629, 12.237894137520392, 13.281903591375686, 56.4118379203691, 14.358231050714934, 10.568565233658399, 10.237625648463938, 17.48661006354934, 93.13467822058286, 19.714203500197385, 42.51313655604756, 30.947563092073402, 13.025334412346718, 18.312269616885004, 24.358052001165657, 9.849935518770677, 23.02152093982765, 33.532343065835335, 34.36122658369451, 40.380424320697664, 31.196127398539794, 61.55596436998526, 29.13570808990115, 68.69875105783653, 22.482434145083946, 90.4566234306239, 45.0648708934435, 25.698402191774285, 41.80256581960851, 32.92302496521283, 35.920099253942226, 28.951470084847745, 25.604129215264713, 30.745796645643612, 49.34666519326904, 25.330502689212476, 21.39335268798423, 17.368939111359772, 39.68925756467444, 10.722904524100857, 34.46216524801714, 14.609073587756077, 21.039597178978163, 20.556343019266325, 8.227841792266615, 9.453486161656159, 36.75258562057022, 15.954274529238187, 13.731887981713887, 10.08041640909958, 84.3836536569297, 15.523907869319432, 14.05994600423426, 12.435172213012972, 20.965100963656297, 8.51231944259578, 9.280527857840347, 8.242874453432382, 14.78281656559947, 11.389334211679953, 22.697192450254235, 23.1835476793498, 8.21758458981816, 14.396490421382602, 7.770281199589785, 14.83755091055637, 37.830792013458584, 20.815203923793955, 69.00003546994809, 26.56621234937259, 16.031241566273277, 28.340281152830663, 17.478384284569447, 70.75984374402579, 36.753466713084705, 30.738793704216185, 40.74451478989899, 23.60727322202413, 45.110506926134455, 25.30238233971773, 19.59054176874663, 20.459869660051076, 33.79051877157336, 25.923759509427498, 30.404975656965874, 23.117211760358728, 25.255664055306333, 19.87144723171946, 21.261238979779943, 21.64239144908968, 20.84423137558351, 30.950369871174477, 36.09703820501947, 9.447545489089821, 12.907371498954149, 8.608078806658009, 10.311613235327215, 25.977659785173145, 16.065033746690798, 12.722589122997428, 16.03650370043162, 26.9808275943831, 31.883743605179617, 6.124117456150319, 8.21015095381523, 17.982437891440618, 10.266471218137822, 10.887522414925897, 8.76707511050423, 9.069371214747926, 16.519768542224504, 34.57386058338135, 11.654945206180544, 6.371203829204234, 7.163217364007708, 9.708746330939505, 24.53670425616723, 6.435846882141002, 10.194168713467883, 28.382906109123166, 14.136839469967821, 16.103159203435396, 81.35355439357906, 43.04125000752669, 47.860251403583355, 15.930738066774136, 25.905835654757446, 43.91240594893223, 30.17851179781136, 12.520987156827564, 29.631455627800865, 23.175066578128195, 16.42472383411254, 16.944852633030344, 16.28638868428762, 32.76512267151078, 18.830084287960783, 16.087298790026438, 26.932655064151625, 19.039258894292296, 17.251689650245755, 18.832856187510092, 20.41190403677025, 17.37075384534152], \"Total\": [353.0, 219.0, 81.0, 269.0, 100.0, 85.0, 348.0, 111.0, 185.0, 76.0, 111.0, 93.0, 150.0, 48.0, 128.0, 83.0, 117.0, 39.0, 92.0, 52.0, 61.0, 64.0, 34.0, 224.0, 94.0, 79.0, 68.0, 49.0, 84.0, 61.0, 48.03671691063968, 353.897630133037, 25.124787927201915, 26.374389593104976, 41.67715238699625, 35.45998492491946, 30.857276907281893, 61.44638517889627, 65.42196149717661, 53.57799174652634, 28.059924002683555, 34.45364322771012, 27.308317956198483, 48.14161553643318, 26.602525367168106, 27.81137338520791, 37.016477974662216, 79.02681850171962, 39.37816825922257, 46.17290572911533, 22.889382675752767, 54.16261500282231, 39.56972564436358, 24.28766143856541, 54.645567101190466, 28.939929500124993, 29.091162117945096, 24.389622002294583, 43.7456080355741, 44.12611314245947, 110.81204172148047, 149.65061009113398, 121.24315708621518, 73.47842305275705, 241.7785283405977, 224.01177667938447, 94.2021415751072, 348.3842080415967, 90.65307976508227, 72.11528714493241, 78.53509616351201, 78.85649421527066, 219.40578110893497, 118.55537170243679, 144.2942892630983, 152.25766899598023, 99.85204416574659, 128.33875242367895, 269.55097458533794, 88.37411336715246, 185.38283915596438, 150.94100857731758, 77.76849860625586, 117.51738002479874, 46.93350463504198, 33.78000429893324, 84.65719652188989, 30.975813947300594, 79.73718400017242, 35.70366192636812, 68.00340930380607, 269.55097458533794, 150.94100857731758, 34.686350405431746, 27.382000449152113, 25.34756527803762, 59.241612176765315, 59.00462445856361, 37.48572920193406, 30.489718367368248, 33.58359674857261, 144.2942892630983, 36.854060621055865, 27.166573781358395, 26.382643635251334, 45.32994325672619, 241.7785283405977, 51.201620030280935, 111.12561380134234, 81.17314923663643, 34.27489548421251, 48.22739056737219, 64.37555123979415, 26.037855423517286, 61.1524718045946, 90.65307976508227, 93.90014055001988, 111.77386626773057, 85.2953087733724, 185.38283915596438, 81.46261485630508, 224.01177667938447, 61.39753944500471, 348.3842080415967, 149.65061009113398, 75.3278664958461, 152.25766899598023, 110.81204172148047, 128.33875242367895, 94.10788818457989, 78.85649421527066, 118.55537170243679, 353.897630133037, 100.34986866199112, 39.99178310863167, 34.048544259315335, 85.2953087733724, 23.141021307747422, 76.70155763658825, 33.649122496231094, 49.255877693767886, 49.103320151947244, 19.67728293102968, 22.916620262630644, 92.61316511170993, 40.252638279345334, 34.84277716048304, 25.643581386631784, 219.40578110893497, 40.3995550809023, 36.701941165950956, 32.46657664006859, 55.55011157209796, 22.975376037475208, 25.227660644881382, 22.443961760080413, 40.47184954579866, 31.394951057281, 63.21007128728533, 64.59735911426985, 22.952748379070588, 40.277831669468, 21.84164886532174, 41.83535170092972, 117.51738002479874, 63.528038111752856, 269.55097458533794, 88.37411336715246, 49.26951529851068, 99.85204416574659, 55.02452577445645, 348.3842080415967, 152.25766899598023, 121.24315708621518, 185.38283915596438, 100.34986866199112, 353.897630133037, 118.55537170243679, 73.84439792620569, 81.08181338387581, 241.7785283405977, 144.2942892630983, 224.01177667938447, 111.77386626773057, 149.65061009113398, 77.76849860625586, 111.12561380134234, 150.94100857731758, 128.33875242367895, 81.46261485630508, 100.34986866199112, 26.55437840877611, 40.39583737677758, 26.971203204957767, 32.76280974786475, 83.76248895974612, 52.73432226343928, 42.32661774402369, 54.07120983685394, 93.90014055001988, 111.77386626773057, 21.77462037016142, 29.263243728638912, 64.33630723481426, 36.854060621055865, 39.37816825922257, 31.968678048618784, 33.52033107615762, 61.1524718045946, 128.33875242367895, 43.5238391257859, 24.123924452540486, 27.303126069022813, 37.142058336424256, 94.10788818457989, 24.71139616665606, 39.379244366464775, 111.12561380134234, 56.32788946127465, 64.4209764799991, 348.3842080415967, 185.38283915596438, 219.40578110893497, 65.57593561997707, 117.51738002479874, 224.01177667938447, 150.94100857731758, 50.15887753502723, 152.25766899598023, 118.55537170243679, 73.47842305275705, 78.53509616351201, 75.3278664958461, 269.55097458533794, 99.85204416574659, 74.2662198242007, 241.7785283405977, 121.24315708621518, 94.2021415751072, 144.2942892630983, 353.897630133037, 149.65061009113398], \"Category\": [\"Default\", \"Default\", \"Default\", \"Default\", \"Default\", \"Default\", \"Default\", \"Default\", \"Default\", \"Default\", \"Default\", \"Default\", \"Default\", \"Default\", \"Default\", \"Default\", \"Default\", \"Default\", \"Default\", \"Default\", \"Default\", \"Default\", \"Default\", \"Default\", \"Default\", \"Default\", \"Default\", \"Default\", \"Default\", \"Default\", \"Topic1\", \"Topic1\", \"Topic1\", \"Topic1\", \"Topic1\", \"Topic1\", \"Topic1\", \"Topic1\", \"Topic1\", \"Topic1\", \"Topic1\", \"Topic1\", \"Topic1\", \"Topic1\", \"Topic1\", \"Topic1\", \"Topic1\", \"Topic1\", \"Topic1\", \"Topic1\", \"Topic1\", \"Topic1\", \"Topic1\", \"Topic1\", \"Topic1\", \"Topic1\", \"Topic1\", \"Topic1\", \"Topic1\", \"Topic1\", \"Topic1\", \"Topic1\", \"Topic1\", \"Topic1\", \"Topic1\", \"Topic1\", \"Topic1\", \"Topic1\", \"Topic1\", \"Topic1\", \"Topic1\", \"Topic1\", \"Topic1\", \"Topic1\", \"Topic1\", \"Topic1\", \"Topic1\", \"Topic1\", \"Topic1\", \"Topic1\", \"Topic1\", \"Topic1\", \"Topic1\", \"Topic1\", \"Topic2\", \"Topic2\", \"Topic2\", \"Topic2\", \"Topic2\", \"Topic2\", \"Topic2\", \"Topic2\", \"Topic2\", \"Topic2\", \"Topic2\", \"Topic2\", \"Topic2\", \"Topic2\", \"Topic2\", \"Topic2\", \"Topic2\", \"Topic2\", \"Topic2\", \"Topic2\", \"Topic2\", \"Topic2\", \"Topic2\", \"Topic2\", \"Topic2\", \"Topic2\", \"Topic2\", \"Topic2\", \"Topic2\", \"Topic2\", \"Topic2\", \"Topic2\", \"Topic2\", \"Topic2\", \"Topic2\", \"Topic2\", \"Topic2\", \"Topic2\", \"Topic2\", \"Topic2\", \"Topic2\", \"Topic2\", \"Topic2\", \"Topic2\", \"Topic2\", \"Topic2\", \"Topic2\", \"Topic2\", \"Topic2\", \"Topic2\", \"Topic3\", \"Topic3\", \"Topic3\", \"Topic3\", \"Topic3\", \"Topic3\", \"Topic3\", \"Topic3\", \"Topic3\", \"Topic3\", \"Topic3\", \"Topic3\", \"Topic3\", \"Topic3\", \"Topic3\", \"Topic3\", \"Topic3\", \"Topic3\", \"Topic3\", \"Topic3\", \"Topic3\", \"Topic3\", \"Topic3\", \"Topic3\", \"Topic3\", \"Topic3\", \"Topic3\", \"Topic3\", \"Topic3\", \"Topic3\", \"Topic3\", \"Topic3\", \"Topic3\", \"Topic3\", \"Topic3\", \"Topic3\", \"Topic3\", \"Topic3\", \"Topic3\", \"Topic3\", \"Topic3\", \"Topic3\", \"Topic3\", \"Topic3\", \"Topic3\", \"Topic3\", \"Topic3\", \"Topic3\", \"Topic3\", \"Topic3\", \"Topic3\", \"Topic3\", \"Topic3\", \"Topic3\", \"Topic3\", \"Topic4\", \"Topic4\", \"Topic4\", \"Topic4\", \"Topic4\", \"Topic4\", \"Topic4\", \"Topic4\", \"Topic4\", \"Topic4\", \"Topic4\", \"Topic4\", \"Topic4\", \"Topic4\", \"Topic4\", \"Topic4\", \"Topic4\", \"Topic4\", \"Topic4\", \"Topic4\", \"Topic4\", \"Topic4\", \"Topic4\", \"Topic4\", \"Topic4\", \"Topic4\", \"Topic4\", \"Topic4\", \"Topic4\", \"Topic4\", \"Topic4\", \"Topic4\", \"Topic4\", \"Topic4\", \"Topic4\", \"Topic4\", \"Topic4\", \"Topic4\", \"Topic4\", \"Topic4\", \"Topic4\", \"Topic4\", \"Topic4\", \"Topic4\", \"Topic4\", \"Topic4\", \"Topic4\", \"Topic4\", \"Topic4\", \"Topic4\", \"Topic4\", \"Topic4\", \"Topic4\"], \"logprob\": [30.0, 29.0, 28.0, 27.0, 26.0, 25.0, 24.0, 23.0, 22.0, 21.0, 20.0, 19.0, 18.0, 17.0, 16.0, 15.0, 14.0, 13.0, 12.0, 11.0, 10.0, 9.0, 8.0, 7.0, 6.0, 5.0, 4.0, 3.0, 2.0, 1.0, -4.9402, -2.9932, -5.6494, -5.6272, -5.1734, -5.4135, -5.5528, -4.8689, -4.8552, -5.0704, -5.7517, -5.5516, -5.8119, -5.245, -5.8417, -5.8181, -5.5476, -4.7961, -5.4979, -5.3475, -6.0598, -5.2074, -5.522, -6.024, -5.2391, -5.8856, -5.888, -6.0692, -5.4895, -5.4827, -4.6149, -4.3433, -4.5642, -5.0322, -3.9933, -4.0753, -4.8278, -3.8081, -4.8865, -5.0683, -5.0084, -5.0273, -4.3158, -4.7977, -4.7056, -4.684, -4.9677, -4.8588, -4.5636, -5.0565, -4.7798, -4.9033, -5.134, -5.069, -5.1122, -5.5431, -4.6319, -5.6374, -4.715, -5.5407, -4.901, -3.5243, -4.141, -5.6157, -5.8541, -5.9524, -5.1075, -5.1117, -5.5782, -5.7912, -5.7093, -4.263, -5.6314, -5.9378, -5.9696, -5.4343, -3.7617, -5.3144, -4.5459, -4.8634, -5.7288, -5.3881, -5.1028, -6.0082, -5.1593, -4.7832, -4.7588, -4.5974, -4.8554, -4.1758, -4.9237, -4.066, -5.183, -3.7908, -4.4876, -5.0493, -4.5627, -4.8015, -4.7144, -4.9301, -5.0529, -4.8699, -4.3968, -5.0637, -5.0586, -5.267, -4.4406, -5.7493, -4.5819, -5.4401, -5.0753, -5.0985, -6.0142, -5.8753, -4.5175, -5.352, -5.502, -5.8111, -3.6863, -5.3793, -5.4784, -5.6012, -5.0789, -5.9802, -5.8938, -6.0124, -5.4282, -5.689, -4.9995, -4.9783, -6.0154, -5.4547, -6.0714, -5.4246, -4.4886, -5.086, -3.8876, -4.8421, -5.3472, -4.7774, -5.2607, -3.8624, -4.5175, -4.6962, -4.4144, -4.9602, -4.3126, -4.8908, -5.1467, -5.1032, -4.6015, -4.8666, -4.7071, -4.9811, -4.8927, -5.1324, -5.0648, -5.0471, -5.0846, -4.4337, -4.2799, -5.6203, -5.3083, -5.7134, -5.5328, -4.6089, -5.0894, -5.3227, -5.0912, -4.571, -4.404, -6.0539, -5.7607, -4.9767, -5.5372, -5.4785, -5.6951, -5.6612, -5.0615, -4.323, -5.4104, -6.0143, -5.8971, -5.5931, -4.6659, -6.0042, -5.5443, -4.5203, -5.2173, -5.0871, -3.4673, -4.1039, -3.9978, -5.0978, -4.6116, -4.0839, -4.459, -5.3387, -4.4773, -4.723, -5.0673, -5.0361, -5.0758, -4.3767, -4.9306, -5.0881, -4.5728, -4.9196, -5.0182, -4.9305, -4.85, -5.0113], \"loglift\": [30.0, 29.0, 28.0, 27.0, 26.0, 25.0, 24.0, 23.0, 22.0, 21.0, 20.0, 19.0, 18.0, 17.0, 16.0, 15.0, 14.0, 13.0, 12.0, 11.0, 10.0, 9.0, 8.0, 7.0, 6.0, 5.0, 4.0, 3.0, 2.0, 1.0, 0.7868, 0.7368, 0.7257, 0.6993, 0.6955, 0.617, 0.6168, 0.6118, 0.5629, 0.5474, 0.5129, 0.5077, 0.4799, 0.4798, 0.4763, 0.4554, 0.44, 0.4331, 0.4278, 0.419, 0.4084, 0.3996, 0.3989, 0.385, 0.3589, 0.3481, 0.3405, 0.3356, 0.331, 0.3292, 0.2762, 0.2474, 0.2369, 0.2697, 0.1176, 0.1119, 0.2257, -0.0624, 0.2054, 0.2524, 0.227, 0.204, -0.1078, 0.0259, -0.0785, -0.1106, 0.0275, -0.1145, -0.5615, 0.0609, -0.4033, -0.3213, 0.1112, -0.2366, 0.638, 0.536, 0.5285, 0.5283, 0.5052, 0.483, 0.4784, 0.4778, 0.441, 0.4369, 0.435, 0.4138, 0.4098, 0.4097, 0.3967, 0.3904, 0.3756, 0.3641, 0.3606, 0.3591, 0.3566, 0.3507, 0.3493, 0.3488, 0.3424, 0.3389, 0.3357, 0.3349, 0.3314, 0.3311, 0.3263, 0.3087, 0.2979, 0.2851, 0.2974, 0.2008, 0.2751, 0.1213, 0.2986, -0.0452, 0.103, 0.2278, 0.0106, 0.0896, 0.0299, 0.1244, 0.1784, -0.0464, -0.6669, -0.0734, 0.8516, 0.8041, 0.7122, 0.708, 0.6772, 0.6429, 0.6266, 0.6065, 0.6053, 0.5917, 0.553, 0.5518, 0.5461, 0.5435, 0.5217, 0.5208, 0.5177, 0.5175, 0.5028, 0.4843, 0.4772, 0.4755, 0.4701, 0.4632, 0.453, 0.4525, 0.4501, 0.4484, 0.4437, 0.4406, 0.3438, 0.3614, 0.1146, 0.2753, 0.3545, 0.2178, 0.3304, -0.1168, 0.0559, 0.1049, -0.0379, 0.0301, -0.5827, -0.0673, 0.1503, 0.1002, -0.4906, -0.2395, -0.5199, -0.0987, -0.302, 0.1128, -0.1766, -0.465, -0.3404, 0.7651, 0.7104, 0.6994, 0.5919, 0.5908, 0.5768, 0.5621, 0.5442, 0.5308, 0.5174, 0.4857, 0.4785, 0.4643, 0.4619, 0.4581, 0.4548, 0.4472, 0.4391, 0.4256, 0.424, 0.4213, 0.4153, 0.4014, 0.3948, 0.3911, 0.3886, 0.3875, 0.3814, 0.368, 0.3504, 0.3464, 0.2783, 0.2726, 0.2102, 0.3179, 0.2207, 0.1033, 0.1231, 0.345, 0.0961, 0.1005, 0.2346, 0.1993, 0.2013, -0.3746, 0.0646, 0.2032, -0.4618, -0.1185, 0.0353, -0.3034, -1.1201, -0.4207]}, \"token.table\": {\"Topic\": [1, 2, 3, 4, 1, 2, 3, 4, 1, 2, 3, 4, 1, 2, 3, 4, 1, 2, 3, 4, 1, 2, 3, 4, 1, 2, 3, 4, 1, 2, 3, 4, 1, 2, 3, 4, 1, 2, 3, 4, 1, 2, 3, 4, 1, 2, 3, 4, 1, 2, 3, 4, 1, 2, 3, 4, 1, 2, 3, 4, 1, 2, 3, 4, 1, 2, 3, 4, 1, 2, 3, 4, 1, 2, 3, 4, 1, 2, 3, 4, 1, 2, 3, 4, 1, 2, 3, 4, 1, 2, 3, 4, 1, 2, 3, 4, 1, 2, 3, 4, 1, 2, 3, 4, 1, 2, 3, 4, 1, 2, 3, 4, 1, 2, 3, 4, 1, 2, 3, 4, 1, 2, 3, 4, 1, 2, 3, 4, 1, 2, 3, 4, 1, 2, 3, 4, 1, 2, 3, 4, 1, 2, 3, 4, 1, 2, 3, 4, 1, 2, 3, 4, 1, 2, 3, 4, 1, 2, 3, 4, 1, 2, 3, 4, 1, 2, 3, 4, 1, 2, 3, 4, 1, 2, 3, 4, 1, 2, 3, 4, 1, 2, 3, 4, 1, 2, 3, 4, 1, 2, 3, 4, 1, 2, 3, 4, 1, 2, 3, 4, 1, 2, 3, 4, 1, 2, 3, 4, 1, 2, 3, 4, 1, 2, 3, 4, 1, 2, 3, 4, 1, 2, 3, 4, 1, 2, 3, 4, 1, 2, 3, 4, 1, 2, 3, 4, 1, 2, 3, 4, 1, 2, 3, 4, 1, 2, 3, 4, 1, 2, 3, 4, 1, 2, 3, 4, 1, 2, 3, 4, 1, 2, 3, 4, 1, 2, 3, 4, 1, 2, 3, 4, 1, 2, 3, 4, 1, 2, 3, 4, 1, 2, 3, 4, 1, 2, 3, 4, 1, 2, 3, 4, 1, 2, 3, 4, 1, 2, 3, 4, 1, 2, 3, 4, 1, 2, 3, 4, 1, 2, 3, 4, 1, 2, 3, 4, 1, 2, 3, 4, 1, 2, 3, 4, 1, 2, 3, 4, 1, 2, 3, 4, 1, 2, 3, 4, 1, 2, 3, 4, 1, 2, 3, 4, 1, 2, 3, 4, 1, 2, 3, 4, 1, 2, 3, 4, 1, 2, 3, 4, 1, 2, 3, 4, 1, 2, 3, 4, 1, 2, 3, 4, 1, 2, 3, 4, 1, 2, 3, 4, 1, 2, 3, 4, 1, 2, 3, 4, 1, 2, 3, 4, 1, 2, 3, 4, 1, 2, 3, 4, 1, 2, 3, 4, 1, 2, 3, 4, 1, 2, 3, 4, 1, 2, 3, 4, 1, 2, 3, 4, 1, 2, 3, 4, 1, 2, 3, 4, 1, 2, 3, 4, 1, 2, 3, 4, 1, 2, 3, 4, 1, 2, 3, 4, 1, 2, 3, 4, 1, 2, 3, 4, 1, 2, 3, 4, 1, 2, 3, 4, 1, 2, 3, 4, 1, 2, 3, 4, 1, 2, 3, 4, 1, 2, 3, 4, 1, 2, 3, 4, 1, 2, 3, 4, 1, 2, 3, 4, 1, 2, 3, 4, 1, 2, 3, 4, 1, 2, 3, 4, 1, 2, 3, 4, 1, 2, 3, 4, 1, 2, 3, 4, 1, 2, 3, 4, 1, 2, 3, 4, 1, 2, 3, 4, 1, 2, 3, 4, 1, 2, 3, 4, 1, 2, 3, 4, 1, 2, 3, 4, 1, 2, 3, 4, 1, 2, 3, 4, 1, 2, 3, 4, 1, 2, 3, 4, 1, 2, 3, 4, 1, 2, 3, 4, 1, 2, 3, 4, 1, 2, 3, 4, 1, 2, 3, 4, 1, 2, 3, 4, 1, 2, 3, 4], \"Freq\": [0.2866702987871916, 0.19111353252479438, 0.3503748096287897, 0.15926127710399532, 0.41239440807735933, 0.1814535395540381, 0.2556845330079628, 0.15670987506939654, 0.267466113002146, 0.1188738280009538, 0.4457768550035767, 0.20802919900166914, 0.1629217734207073, 0.24438266013106097, 0.4276696552293567, 0.1832869950982957, 0.2488212581859756, 0.3732318872789634, 0.2280861533371443, 0.1451457339418191, 0.48003590666080637, 0.16616627538258683, 0.24001795333040318, 0.11077751692172455, 0.27616064593253636, 0.39451520847505195, 0.19725760423752597, 0.11835456254251558, 0.21944034813250116, 0.40512064270615594, 0.2869604552501938, 0.08440013389711583, 0.22598276229025516, 0.4519655245805103, 0.16141625877875368, 0.16141625877875368, 0.49812762781132164, 0.2165772294831833, 0.19491950653486498, 0.08663089179327332, 0.4510114998487929, 0.12300313632239807, 0.2870073180855955, 0.16400418176319742, 0.25528138896280145, 0.20422511117024114, 0.3233564260195485, 0.22124387043442792, 0.30492014680230195, 0.15246007340115098, 0.40656019573640256, 0.10164004893410064, 0.2664298062355254, 0.4736529888631563, 0.17761987082368363, 0.08880993541184182, 0.1854936717513902, 0.4377650653332809, 0.2559812670169185, 0.12242582335591753, 0.20080986258036898, 0.4606814494490818, 0.1653728280073627, 0.1653728280073627, 0.44920634654427377, 0.13821733739823808, 0.34554334349559523, 0.06910866869911904, 0.23437414455913158, 0.5113617699471962, 0.14914718290126555, 0.10653370207233254, 0.446871113202482, 0.24062290710902878, 0.17187350507787771, 0.13749880406230217, 0.18900636115980612, 0.3307611320296607, 0.18900636115980612, 0.3071353368846849, 0.25273505786586276, 0.27571097221730484, 0.20678322916297862, 0.27571097221730484, 0.6478369671058504, 0.14396377046796674, 0.11996980872330562, 0.09597584697864449, 0.250244942497572, 0.187683706873179, 0.2815255603097685, 0.2815255603097685, 0.27297279168849475, 0.194980565491782, 0.389961130983564, 0.11698833929506919, 0.3231617289369461, 0.2019760805855913, 0.26930144078078844, 0.21544115262463073, 0.31570388173522684, 0.17220211731012372, 0.4018049403902887, 0.11480141154008248, 0.5193012266295925, 0.14540434345628592, 0.207720490651837, 0.12463229439110221, 0.3564433091411281, 0.13366624092792304, 0.3564433091411281, 0.13366624092792304, 0.252024696328999, 0.2160211682819991, 0.37803704449349845, 0.14401411218799942, 0.23340698452851333, 0.37928634985883414, 0.20423111146244916, 0.17505523839638498, 0.5599314013471774, 0.16797942040415323, 0.13065066031434142, 0.14931504035924734, 0.23625828332054205, 0.30895313972686267, 0.30895313972686267, 0.14538971281264126, 0.11733790391378977, 0.28682598734481946, 0.44327652589653915, 0.14341299367240973, 0.34591945159702553, 0.14825119354158237, 0.3706279838539559, 0.14825119354158237, 0.19678764912507443, 0.39357529825014886, 0.22958559064592018, 0.19678764912507443, 0.49407803342258705, 0.20586584725941126, 0.12351950835564676, 0.20586584725941126, 0.28898380153949194, 0.27584817419678775, 0.2430091058400273, 0.19703441014056267, 0.24355831242290982, 0.22326178638766733, 0.32474441656387976, 0.22326178638766733, 0.274490936802074, 0.2897404332910781, 0.19824345435705346, 0.24399194382406578, 0.13567026036591867, 0.3798767290245723, 0.18993836451228616, 0.27134052073183734, 0.1709776832726074, 0.38694949372221676, 0.18897533414340817, 0.25196711219121093, 0.4160005622623125, 0.2218669665399, 0.15253353949618126, 0.20800028113115626, 0.503391177634047, 0.21573907612887724, 0.17978256344073104, 0.10786953806443862, 0.28327011362657617, 0.12140147726853263, 0.32373727271608704, 0.24280295453706527, 0.17326923492058563, 0.19802198276638358, 0.39604396553276716, 0.22277473061218153, 0.22962512847533673, 0.27555015417040407, 0.22962512847533673, 0.27555015417040407, 0.2522306934187197, 0.34515779099403743, 0.18585419515063553, 0.21240479445786917, 0.3304889777241073, 0.19028153262903147, 0.28041489019015164, 0.19028153262903147, 0.2656525449914027, 0.3081569521900271, 0.1700176287944977, 0.2656525449914027, 0.5126643106490658, 0.10985663799622838, 0.21971327599245677, 0.1464755173283045, 0.28829951438092183, 0.28050763561386993, 0.1636294541080908, 0.272715756846818, 0.1494770267266075, 0.24912837787767916, 0.239163242762572, 0.35874486414385803, 0.6753365370379995, 0.13845811847222583, 0.1271554149234727, 0.05651351774376565, 0.20180849003081708, 0.43244676435175083, 0.20180849003081708, 0.17297870574070034, 0.23300771350486948, 0.37281234160779114, 0.23300771350486948, 0.155338475669913, 0.14314616228515703, 0.3578654057128926, 0.20577260828491326, 0.28629232457031406, 0.17646174100462894, 0.44115435251157237, 0.17646174100462894, 0.2058720311720671, 0.20234261513036655, 0.36208678497012964, 0.1490945585171122, 0.28753950571157355, 0.24521863732781143, 0.27246515258645715, 0.38145121362104, 0.08173954577593714, 0.526265826524812, 0.15036166472137485, 0.18795208090171855, 0.11277124854103114, 0.5132849217314922, 0.10805998352241941, 0.16208997528362912, 0.24313496292544368, 0.1882928654186656, 0.22595143850239874, 0.22595143850239874, 0.3389271577535981, 0.17390164469273758, 0.34780328938547517, 0.3974894735834002, 0.09937236839585005, 0.26432848146034, 0.08810949382011334, 0.4992871316473089, 0.14684915636685555, 0.1718579746635327, 0.35599151894588915, 0.08592898733176635, 0.38054265818353666, 0.29169696293564845, 0.10482859605499865, 0.38285226385303855, 0.21877272220173632, 0.36396945834674305, 0.38464954120735345, 0.1406245634521507, 0.11167244744729615, 0.2980020915560709, 0.38809574714279, 0.18018731117343822, 0.13167534278058945, 0.3555172331321408, 0.22854679272780482, 0.1523645284852032, 0.253940880808672, 0.7077919180706814, 0.22899150290522047, 0.041634818710040086, 0.020817409355020043, 0.23284341249712473, 0.23284341249712473, 0.2794120949965497, 0.2483663066635997, 0.23821153106062176, 0.3870937379735103, 0.17865864829546632, 0.20843508967804403, 0.5345702290058039, 0.10691404580116076, 0.21382809160232152, 0.14255206106821436, 0.18951853609238836, 0.3790370721847767, 0.18951853609238836, 0.18951853609238836, 0.37076580989022506, 0.14830632395609003, 0.14830632395609003, 0.33368922890120256, 0.21560634734001977, 0.1848054405771598, 0.3696108811543196, 0.24640725410287972, 0.21818225997981608, 0.17454580798385286, 0.39272806796366894, 0.17454580798385286, 0.2745859188956664, 0.2745859188956664, 0.14326221855426072, 0.3104014735342316, 0.36158813255577527, 0.30801952032529006, 0.13392153057621306, 0.1964182448451125, 0.19122583352925926, 0.2629355211027315, 0.3585484378673611, 0.21512906272041668, 0.21576970221255276, 0.3344430384294568, 0.22116394476786658, 0.2319524298784942, 0.29300674141766225, 0.21975505606324666, 0.21975505606324666, 0.25638089874045444, 0.32868307108214534, 0.40172375354484435, 0.14608136492539794, 0.10956102369404845, 0.39311917564294674, 0.32971285699085856, 0.2029002196866822, 0.07608758238250582, 0.1517038554138469, 0.28444472890096295, 0.26548174697423205, 0.3034077108276938, 0.37307362729086196, 0.16581050101816086, 0.20726312627270108, 0.2487157515272413, 0.48057215678658494, 0.17475351155875815, 0.2184418894484477, 0.13106513366906863, 0.5514656280157572, 0.0870735202130143, 0.23219605390137146, 0.11609802695068573, 0.3746078459805652, 0.35832054832923627, 0.11401108355930245, 0.14658567886196028, 0.4142983444053007, 0.3007004112619118, 0.16705578403439544, 0.11359793314338891, 0.31086645876338725, 0.24869316701070981, 0.15543322938169363, 0.27977981288704856, 0.2436257470551236, 0.1827193102913427, 0.4263450573464663, 0.14211501911548877, 0.2731030828637775, 0.2234479768885452, 0.3475857418266259, 0.1489653179256968, 0.5922168338329517, 0.11280320644437175, 0.2256064128887435, 0.056401603222185875, 0.42414163000562455, 0.29780157000394913, 0.18048580000239342, 0.09024290000119671, 0.19854425912312507, 0.37502804501034737, 0.24266520559493063, 0.1544233126513195, 0.33946592341316345, 0.22631061560877563, 0.3055193310718471, 0.13578636936526536, 0.230791533720387, 0.21303833881881876, 0.3018043133266599, 0.24854472862195523, 0.15261206344873596, 0.36626895227696626, 0.15261206344873596, 0.3052241268974719, 0.2800833152807424, 0.4481333044491878, 0.16804998916844543, 0.11203332611229695, 0.25891782414784914, 0.22192956355529928, 0.20343543325902436, 0.29590608474039903, 0.3289602102373434, 0.26148119275276016, 0.2108719296393227, 0.1940021752681769, 0.2343675843245415, 0.3906126405409025, 0.2538982163515866, 0.13671442418931587, 0.4801650678795245, 0.2274466111008274, 0.17690291974508798, 0.10108738271147885, 0.6445646804445586, 0.11374670831374563, 0.11374670831374563, 0.11374670831374563, 0.40746114238372116, 0.16553108909338674, 0.21646373189135187, 0.21646373189135187, 0.26114915334632094, 0.21762429445526743, 0.39172373001948135, 0.17409943556421395, 0.39711833390867846, 0.3750562042470852, 0.09927958347716961, 0.13237277796955949, 0.3049743710161932, 0.217838836440138, 0.34854213830422076, 0.1307033018640828, 0.4532463563113018, 0.2266231781556509, 0.2266231781556509, 0.09064927126226036, 0.5078956407606872, 0.1269739101901718, 0.10157912815213743, 0.27934260241837794, 0.128963716272213, 0.3634432004035094, 0.4689589682625928, 0.04689589682625928, 0.1981951505683697, 0.23783418068204362, 0.3567512710230654, 0.15855612045469575, 0.30798361570425037, 0.38189968347327047, 0.12319344628170015, 0.18479016942255022, 0.25082400702734564, 0.45148321264922214, 0.11287080316230554, 0.18811800527050923, 0.18673773057184753, 0.4001522797968161, 0.24009136787808968, 0.16006091191872646, 0.33892305480975854, 0.29904975424390456, 0.09968325141463487, 0.25917645367805064, 0.5655593191224754, 0.213995418046342, 0.12228309602648114, 0.09171232201986086, 0.676622626597161, 0.23880798585782154, 0.03980133097630359, 0.07960266195260718, 0.14916320452325144, 0.2684937681418526, 0.29832640904650287, 0.2684937681418526, 0.30833054857369013, 0.27133088274484735, 0.24666443885895212, 0.1726651072012665, 0.27230528475994875, 0.22279523298541262, 0.19804020709814454, 0.3218153365344849, 0.4218925599116654, 0.1905321238310747, 0.16331324899806401, 0.21775099866408537, 0.4935033541702221, 0.215116846689584, 0.16450111805674072, 0.12653932158210823, 0.2747045352206113, 0.13735226761030564, 0.36627271362748165, 0.22892044601717604, 0.3405711982912952, 0.10836356309268483, 0.35605170730453584, 0.20124661717212897, 0.6021509628642505, 0.11392045243377712, 0.22784090486755423, 0.06509740139072978, 0.36563369406819035, 0.2708397733838447, 0.2708397733838447, 0.09479392068434564, 0.16352568759532407, 0.3761090814692454, 0.19623082511438888, 0.2779936689120509, 0.2711651865734033, 0.406747779860105, 0.1694782416083771, 0.15253041744753937, 0.45718875329692343, 0.1828755013187694, 0.2514538143133079, 0.13715662598907705, 0.3072449658344148, 0.3840562072930185, 0.23043372437581108, 0.11521686218790554, 0.18404970903732373, 0.4049093598821122, 0.294479534459718, 0.147239767229859, 0.3075530547282431, 0.20503536981882872, 0.20503536981882872, 0.27338049309177165, 0.20515441813355817, 0.24834482195114935, 0.39951123531271854, 0.15116641336156916, 0.4574936509251703, 0.18299746037006812, 0.20129720640707494, 0.14639796829605448, 0.5833307992174853, 0.09722179986958089, 0.19444359973916178, 0.09722179986958089, 0.23187866789741043, 0.4240067070124076, 0.14575230553551513, 0.19875314391206608, 0.3600429544328071, 0.2700322158246053, 0.2571735388805765, 0.11572809249625941, 0.3024931314356665, 0.1296399134724285, 0.47534634939890447, 0.1296399134724285, 0.2847647476648344, 0.22148369262820453, 0.3638660664606217, 0.12656211007325974, 0.17503595628595883, 0.12502568306139916, 0.5251078688578765, 0.17503595628595883, 0.32308387142432304, 0.21538924761621536, 0.18846559166418844, 0.2692365595202692, 0.4033878568429643, 0.22292486825532237, 0.19107845850456204, 0.18046298858764193, 0.20463405429161152, 0.26759837868903047, 0.33056270308644936, 0.18889297319225679, 0.3042617821165525, 0.25833547538197854, 0.20379798613467195, 0.2325019278437807], \"Term\": [\"amigo\", \"amigo\", \"amigo\", \"amigo\", \"ano\", \"ano\", \"ano\", \"ano\", \"antiguo\", \"antiguo\", \"antiguo\", \"antiguo\", \"articulo\", \"articulo\", \"articulo\", \"articulo\", \"aspecto\", \"aspecto\", \"aspecto\", \"aspecto\", \"autor\", \"autor\", \"autor\", \"autor\", \"caber\", \"caber\", \"caber\", \"caber\", \"campo\", \"campo\", \"campo\", \"campo\", \"capitulo\", \"capitulo\", \"capitulo\", \"capitulo\", \"caracter\", \"caracter\", \"caracter\", \"caracter\", \"casa\", \"casa\", \"casa\", \"casa\", \"caso\", \"caso\", \"caso\", \"caso\", \"celebrar\", \"celebrar\", \"celebrar\", \"celebrar\", \"cerebro\", \"cerebro\", \"cerebro\", \"cerebro\", \"chomsky\", \"chomsky\", \"chomsky\", \"chomsky\", \"ciencia\", \"ciencia\", \"ciencia\", \"ciencia\", \"ciudad\", \"ciudad\", \"ciudad\", \"ciudad\", \"cognitiva\", \"cognitiva\", \"cognitiva\", \"cognitiva\", \"completo\", \"completo\", \"completo\", \"completo\", \"concreto\", \"concreto\", \"concreto\", \"concreto\", \"conocimiento\", \"conocimiento\", \"conocimiento\", \"conocimiento\", \"consciente\", \"consciente\", \"consciente\", \"consciente\", \"constituir\", \"constituir\", \"constituir\", \"constituir\", \"convertir\", \"convertir\", \"convertir\", \"convertir\", \"cosa\", \"cosa\", \"cosa\", \"cosa\", \"creer\", \"creer\", \"creer\", \"creer\", \"cultura\", \"cultura\", \"cultura\", \"cultura\", \"cultural\", \"cultural\", \"cultural\", \"cultural\", \"dejar\", \"dejar\", \"dejar\", \"dejar\", \"desarrollar\", \"desarrollar\", \"desarrollar\", \"desarrollar\", \"deseo\", \"deseo\", \"deseo\", \"deseo\", \"determinado\", \"determinado\", \"determinado\", \"determinado\", \"diccionario\", \"diccionario\", \"diccionario\", \"diccionario\", \"dio\", \"dio\", \"dio\", \"dio\", \"distinto\", \"distinto\", \"distinto\", \"distinto\", \"dudar\", \"dudar\", \"dudar\", \"dudar\", \"ejemplo\", \"ejemplo\", \"ejemplo\", \"ejemplo\", \"escribir\", \"escribir\", \"escribir\", \"escribir\", \"escrito\", \"escrito\", \"escrito\", \"escrito\", \"especifico\", \"especifico\", \"especifico\", \"especifico\", \"estructura\", \"estructura\", \"estructura\", \"estructura\", \"estudio\", \"estudio\", \"estudio\", \"estudio\", \"existencia\", \"existencia\", \"existencia\", \"existencia\", \"expresar\", \"expresar\", \"expresar\", \"expresar\", \"fanatismo\", \"fanatismo\", \"fanatismo\", \"fanatismo\", \"fenomeno\", \"fenomeno\", \"fenomeno\", \"fenomeno\", \"filosofia\", \"filosofia\", \"filosofia\", \"filosofia\", \"filosofico\", \"filosofico\", \"filosofico\", \"filosofico\", \"filosofo\", \"filosofo\", \"filosofo\", \"filosofo\", \"finalmente\", \"finalmente\", \"finalmente\", \"finalmente\", \"forma\", \"forma\", \"forma\", \"forma\", \"frase\", \"frase\", \"frase\", \"frase\", \"freud\", \"freud\", \"freud\", \"freud\", \"fundamental\", \"fundamental\", \"fundamental\", \"fundamental\", \"general\", \"general\", \"general\", \"general\", \"generativo\", \"generativo\", \"generativo\", \"generativo\", \"gramatica\", \"gramatica\", \"gramatica\", \"gramatica\", \"gramatico\", \"gramatico\", \"gramatico\", \"gramatico\", \"guerra\", \"guerra\", \"guerra\", \"guerra\", \"habiar\", \"habiar\", \"habiar\", \"habiar\", \"habrio\", \"habrio\", \"habrio\", \"habrio\", \"hacer\", \"hacer\", \"hacer\", \"hacer\", \"hecho\", \"hecho\", \"hecho\", \"hecho\", \"hijo\", \"hijo\", \"hijo\", \"hijo\", \"historia\", \"historia\", \"historia\", \"historia\", \"hombre\", \"hombre\", \"hombre\", \"hombre\", \"humano\", \"humano\", \"humano\", \"humano\", \"idea\", \"idea\", \"idea\", \"idea\", \"importante\", \"importante\", \"importante\", \"importante\", \"inconsciente\", \"inconsciente\", \"inconsciente\", \"inconsciente\", \"intelectual\", \"intelectual\", \"intelectual\", \"intelectual\", \"intentar\", \"intentar\", \"intentar\", \"intentar\", \"interno\", \"interno\", \"interno\", \"interno\", \"investigacion\", \"investigacion\", \"investigacion\", \"investigacion\", \"justo\", \"justo\", \"justo\", \"justo\", \"lector\", \"lector\", \"lector\", \"lector\", \"leer\", \"leer\", \"leer\", \"leer\", \"lengua\", \"lengua\", \"lengua\", \"lengua\", \"lenguaje\", \"lenguaje\", \"lenguaje\", \"lenguaje\", \"ley\", \"ley\", \"ley\", \"ley\", \"linguistico\", \"linguistico\", \"linguistico\", \"linguistico\", \"llevar\", \"llevar\", \"llevar\", \"llevar\", \"logico\", \"logico\", \"logico\", \"logico\", \"lugar\", \"lugar\", \"lugar\", \"lugar\", \"luis\", \"luis\", \"luis\", \"luis\", \"mantener\", \"mantener\", \"mantener\", \"mantener\", \"mayorio\", \"mayorio\", \"mayorio\", \"mayorio\", \"medico\", \"medico\", \"medico\", \"medico\", \"mental\", \"mental\", \"mental\", \"mental\", \"mente\", \"mente\", \"mente\", \"mente\", \"momento\", \"momento\", \"momento\", \"momento\", \"moral\", \"moral\", \"moral\", \"moral\", \"mostrar\", \"mostrar\", \"mostrar\", \"mostrar\", \"muerte\", \"muerte\", \"muerte\", \"muerte\", \"mundo\", \"mundo\", \"mundo\", \"mundo\", \"natural\", \"natural\", \"natural\", \"natural\", \"naturaleza\", \"naturaleza\", \"naturaleza\", \"naturaleza\", \"nino\", \"nino\", \"nino\", \"nino\", \"nivel\", \"nivel\", \"nivel\", \"nivel\", \"nombre\", \"nombre\", \"nombre\", \"nombre\", \"objeto\", \"objeto\", \"objeto\", \"objeto\", \"obra\", \"obra\", \"obra\", \"obra\", \"orden\", \"orden\", \"orden\", \"orden\", \"origen\", \"origen\", \"origen\", \"origen\", \"oscuro\", \"oscuro\", \"oscuro\", \"oscuro\", \"palabra\", \"palabra\", \"palabra\", \"palabra\", \"parecer\", \"parecer\", \"parecer\", \"parecer\", \"pensamiento\", \"pensamiento\", \"pensamiento\", \"pensamiento\", \"pequeno\", \"pequeno\", \"pequeno\", \"pequeno\", \"persona\", \"persona\", \"persona\", \"persona\", \"pese\", \"pese\", \"pese\", \"pese\", \"politico\", \"politico\", \"politico\", \"politico\", \"preguntar\", \"preguntar\", \"preguntar\", \"preguntar\", \"principio\", \"principio\", \"principio\", \"principio\", \"proceso\", \"proceso\", \"proceso\", \"proceso\", \"producir\", \"producir\", \"producir\", \"producir\", \"profundo\", \"profundo\", \"profundo\", \"profundo\", \"psicoanalisis\", \"psicoanalisis\", \"psicoanalisis\", \"psicoanalisis\", \"psique\", \"psique\", \"psique\", \"psique\", \"pueblo\", \"pueblo\", \"pueblo\", \"pueblo\", \"punto\", \"punto\", \"punto\", \"punto\", \"querer\", \"querer\", \"querer\", \"querer\", \"razon\", \"razon\", \"razon\", \"razon\", \"realidad\", \"realidad\", \"realidad\", \"realidad\", \"recibir\", \"recibir\", \"recibir\", \"recibir\", \"religion\", \"religion\", \"religion\", \"religion\", \"religioso\", \"religioso\", \"religioso\", \"religioso\", \"resultar\", \"resultar\", \"resultar\", \"resultar\", \"rey\", \"rey\", \"rey\", \"rey\", \"rousseau\", \"rousseau\", \"rousseau\", \"rousseau\", \"sentimiento\", \"sentimiento\", \"sentimiento\", \"sentimiento\", \"ser\", \"ser\", \"ser\", \"ser\", \"servir\", \"servir\", \"servir\", \"servir\", \"significado\", \"significado\", \"significado\", \"significado\", \"sociedad\", \"sociedad\", \"sociedad\", \"sociedad\", \"sujeto\", \"sujeto\", \"sujeto\", \"sujeto\", \"tenia\", \"tenia\", \"tenia\", \"tenia\", \"teoria\", \"teoria\", \"teoria\", \"teoria\", \"tiempo\", \"tiempo\", \"tiempo\", \"tiempo\", \"tierra\", \"tierra\", \"tierra\", \"tierra\", \"tipo\", \"tipo\", \"tipo\", \"tipo\", \"tolerancia\", \"tolerancia\", \"tolerancia\", \"tolerancia\", \"tomar\", \"tomar\", \"tomar\", \"tomar\", \"vida\", \"vida\", \"vida\", \"vida\", \"visto\", \"visto\", \"visto\", \"visto\", \"voltaire\", \"voltaire\", \"voltaire\", \"voltaire\"]}, \"R\": 30, \"lambda.step\": 0.01, \"plot.opts\": {\"xlab\": \"PC1\", \"ylab\": \"PC2\"}, \"topic.order\": [1, 2, 3, 4]};\n",
       "\n",
       "function LDAvis_load_lib(url, callback){\n",
       "  var s = document.createElement('script');\n",
       "  s.src = url;\n",
       "  s.async = true;\n",
       "  s.onreadystatechange = s.onload = callback;\n",
       "  s.onerror = function(){console.warn(\"failed to load library \" + url);};\n",
       "  document.getElementsByTagName(\"head\")[0].appendChild(s);\n",
       "}\n",
       "\n",
       "if(typeof(LDAvis) !== \"undefined\"){\n",
       "   // already loaded: just create the visualization\n",
       "   !function(LDAvis){\n",
       "       new LDAvis(\"#\" + \"ldavis_el48641285272462781283589033551\", ldavis_el48641285272462781283589033551_data);\n",
       "   }(LDAvis);\n",
       "}else if(typeof define === \"function\" && define.amd){\n",
       "   // require.js is available: use it to load d3/LDAvis\n",
       "   require.config({paths: {d3: \"https://d3js.org/d3.v5\"}});\n",
       "   require([\"d3\"], function(d3){\n",
       "      window.d3 = d3;\n",
       "      LDAvis_load_lib(\"https://cdn.jsdelivr.net/gh/bmabey/pyLDAvis@3.4.0/pyLDAvis/js/ldavis.v3.0.0.js\", function(){\n",
       "        new LDAvis(\"#\" + \"ldavis_el48641285272462781283589033551\", ldavis_el48641285272462781283589033551_data);\n",
       "      });\n",
       "    });\n",
       "}else{\n",
       "    // require.js not available: dynamically load d3 & LDAvis\n",
       "    LDAvis_load_lib(\"https://d3js.org/d3.v5.js\", function(){\n",
       "         LDAvis_load_lib(\"https://cdn.jsdelivr.net/gh/bmabey/pyLDAvis@3.4.0/pyLDAvis/js/ldavis.v3.0.0.js\", function(){\n",
       "                 new LDAvis(\"#\" + \"ldavis_el48641285272462781283589033551\", ldavis_el48641285272462781283589033551_data);\n",
       "            })\n",
       "         });\n",
       "}\n",
       "</script>"
      ],
      "text/plain": [
       "PreparedData(topic_coordinates=              x         y  topics  cluster       Freq\n",
       "topic                                                \n",
       "0      0.028882 -0.003355       1        1  32.329319\n",
       "1     -0.009191 -0.015617       2        1  27.165256\n",
       "2     -0.003162  0.019973       3        1  22.827192\n",
       "3     -0.016530 -0.001000       4        1  17.678233, topic_info=         Term        Freq       Total Category  logprob  loglift\n",
       "269     freud  353.000000  353.000000  Default  30.0000  30.0000\n",
       "70     hombre  219.000000  219.000000  Default  29.0000  29.0000\n",
       "89   historia   81.000000   81.000000  Default  28.0000  28.0000\n",
       "7     chomsky  269.000000  269.000000  Default  27.0000  27.0000\n",
       "104     frase  100.000000  100.000000  Default  26.0000  26.0000\n",
       "..        ...         ...         ...      ...      ...      ...\n",
       "48        ano   19.039259  121.243157   Topic4  -4.9196  -0.1185\n",
       "97       vida   17.251690   94.202142   Topic4  -5.0182   0.0353\n",
       "22       idea   18.832856  144.294289   Topic4  -4.9305  -0.3034\n",
       "269     freud   20.411904  353.897630   Topic4  -4.8500  -1.1201\n",
       "28      mente   17.370754  149.650610   Topic4  -5.0113  -0.4207\n",
       "\n",
       "[242 rows x 6 columns], token_table=      Topic      Freq      Term\n",
       "term                           \n",
       "82        1  0.286670     amigo\n",
       "82        2  0.191114     amigo\n",
       "82        3  0.350375     amigo\n",
       "82        4  0.159261     amigo\n",
       "48        1  0.412394       ano\n",
       "...     ...       ...       ...\n",
       "63        4  0.188893     visto\n",
       "292       1  0.304262  voltaire\n",
       "292       2  0.258335  voltaire\n",
       "292       3  0.203798  voltaire\n",
       "292       4  0.232502  voltaire\n",
       "\n",
       "[584 rows x 3 columns], R=30, lambda_step=0.01, plot_opts={'xlab': 'PC1', 'ylab': 'PC2'}, topic_order=[1, 2, 3, 4])"
      ]
     },
     "execution_count": 20,
     "metadata": {},
     "output_type": "execute_result"
    }
   ],
   "source": [
    "lda_model_opt = LdaMulticore(corpus = corpus,\n",
    "    id2word = dictionary,\n",
    "    num_topics = 4,\n",
    "    random_state=123)\n",
    "pyLDAvis.enable_notebook()\n",
    "LDA_visualization = gensimvis.prepare(lda_model_opt, corpus, dictionary)\n",
    "LDA_visualization"
   ]
  },
  {
   "cell_type": "markdown",
   "metadata": {},
   "source": [
    "Los resultados sugieren que hay 4 tipos de temas en estas páginas. Los 3 encontrados anteriormente, y páginas que hablan sobre estos 3 autores simultáneamente.\n",
    "\n",
    "Es importante destacar que la medida de coherencia  no es sólo del tema en sí, sino también del conjunto de datos que se utiliza como referencia. Asimismo, parte de la literatura suele favorecerla ya que lleva a mejor interpretabilidad que otras medidas."
   ]
  },
  {
   "cell_type": "markdown",
   "metadata": {},
   "source": [
    "#### Medida de Perplejidad\n",
    "\n",
    "Otra de las medidas utilizadas, es la medida de Perplejidad. A diferencia de la medida de coherencia lo que buscaremos es minimizar la perplejidad.\n",
    "\n",
    "Esta medida calcula el número de palabras diferentes que son igualmente probables a seguir a cualquier palabra dada. Para aclarar qué queremos decir con esto, consideremos un ejemplo con 2 palabras: *el* y *anunciar*. La palabra *el* puede anteceder a una gran cantidad de palabras de igual probabilidad, mientras que el número de palabras de igual probabilidad que anteceden a *anunciar* será relativamente menor. \n",
    "\n",
    "La idea intuitiva es que palabras que, en promedio, pueden ir seguidas de un menor número de palabras de igual probabilidad, son más específicas y por lo tanto  pueden estar más estrechamente vinculadas a los tópicos. Entonces puntuaciones más bajas de perplejidad implican mejores modelos de lenguaje.\n",
    "\n",
    "El cálculo es sencillo usando  [gensim](https://radimrehurek.com/gensim/index.html); ya que tanto [LDAModel](https://radimrehurek.com/gensim/models/ldamodel.html?highlight=ldamodel#module-gensim.models.ldamode)  como  [LdaMulticore](https://radimrehurek.com/gensim/models/ldamulticore.html) retornan el límite por palabra de la verosimilitud, por lo que para convertirlo en perplejidad necesitamos hacer $perplejidad=2^{(-limite)}$:"
   ]
  },
  {
   "cell_type": "code",
   "execution_count": 21,
   "metadata": {},
   "outputs": [
    {
     "data": {
      "text/plain": [
       "47.556647229123485"
      ]
     },
     "execution_count": 21,
     "metadata": {},
     "output_type": "execute_result"
    }
   ],
   "source": [
    "np.exp2(-lda_model_opt.log_perplexity(corpus))"
   ]
  },
  {
   "cell_type": "markdown",
   "metadata": {},
   "source": [
    "Dado que nos interesa minimizar esta perplejidad comparemos esta medida para distinto números de temas. Crearemos entonces una función similar a la que construimos en la sección anterior:"
   ]
  },
  {
   "cell_type": "code",
   "execution_count": 22,
   "metadata": {},
   "outputs": [],
   "source": [
    "def perplejidad_ntemas(dictionary, corpus, texts, start=1, limit=10, step=1):\n",
    " \n",
    "    perplejidad_values = []\n",
    "    model_list = []\n",
    "    \n",
    "    for num_topics in range(start, limit, step):\n",
    "        model = LdaMulticore(corpus=corpus,\n",
    "                        id2word=dictionary,\n",
    "                        num_topics=num_topics, \n",
    "                        random_state=123,\n",
    "                        passes=20)\n",
    "        model_list.append(model)\n",
    "        perplejidad_values.append(np.exp2(-model.log_perplexity(corpus)))\n",
    "\n",
    "    return model_list, perplejidad_values"
   ]
  },
  {
   "cell_type": "code",
   "execution_count": 23,
   "metadata": {},
   "outputs": [],
   "source": [
    "modelos, valores_p = perplejidad_ntemas(dictionary=dictionary, corpus=corpus, texts=clean, start=1, limit=10, step=1)"
   ]
  },
  {
   "cell_type": "code",
   "execution_count": 24,
   "metadata": {},
   "outputs": [
    {
     "data": {
      "image/png": "[encoded data removed]",
      "text/plain": [
       "<Figure size 640x480 with 1 Axes>"
      ]
     },
     "metadata": {},
     "output_type": "display_data"
    }
   ],
   "source": [
    "import matplotlib.pyplot as plt\n",
    "# Show graph\n",
    "limit=10; start=1; step=1;\n",
    "x = range(start, limit, step)\n",
    "plt.plot(x, valores_p)\n",
    "plt.xlabel(\"Número de Temas\")\n",
    "plt.ylabel(\"Medida de Perplejidad\")\n",
    "\n",
    "plt.show()"
   ]
  },
  {
   "cell_type": "markdown",
   "metadata": {},
   "source": [
    "Tenemos entonces un resultado análogo al anterior. En este caso ambos indicadores coinciden, pero a priori esto no tiene que ser así. En la práctica se tienden a utilizar ambos e indican el rango de posibles valores. Por esta razón, es recomendable calcular los 2 y en función de los resultados unidos al conocimiento del investigador decidir. "
   ]
  },
  {
   "cell_type": "markdown",
   "metadata": {},
   "source": [
    "## Consideraciones Finales\n",
    "\n",
    "Cuando queremos extraer información de una colección de documentos, el modelado de temas o tópicos es un enfoque que puede ser potencialmente útil, ya que proporciona información sobre la estructura subyacente de los documentos. \n",
    "\n",
    "En este sentido los modelos de temas se pueden usar para predecir los temas que pertenecen a documentos no vistos. Si vamos a hacer predicciones, es importante reconocer que los modelos de temas sólo conocen las palabras que se usan para entrenarlos. Es decir, si los documentos no vistos tienen palabras que no estaban en los datos de entrenamiento, el modelo no podrá procesar esas palabras incluso si se vinculan a uno de los temas identificados en los datos de entrenamiento. Debido a este hecho, los modelos de temas tienden a usarse más para el análisis exploratorio y la inferencia que para la predicción.\n",
    "\n",
    "Cuando se analiza el modelado de temas, es importante reforzar continuamente el hecho de que los grupos de palabras que representan los temas no están relacionados conceptualmente; están relacionados solo por proximidad. La proximidad frecuente de ciertas palabras en los documentos es suficiente para definir temas debido a que estamos asumiendo que todas las palabras en el mismo documento están relacionadas.\n",
    "\n",
    "Sin embargo, esta suposición puede no ser cierta o las palabras pueden ser demasiado genéricas para formar temas coherentes. La interpretación de temas abstractos implica equilibrar las características innatas de los datos de texto con las agrupaciones de palabras generadas. Los datos de texto, y el lenguaje en general, son muy variables, complejos y contextuales, lo que significa que cualquier resultado generalizado debe interpretarse con cautela.\n",
    "\n",
    "Es importante tener en cuenta también que la naturaleza ruidosa de los datos de texto puede hacer que los modelos de tópico asignen palabras no relacionadas con uno de los temas a ese tópico en particular. Esto no es necesariamente una falla en el modelo. En cambio, es una característica que, dados datos ruidosos, el modelo podría extraer peculiaridades de los datos que podrían afectar negativamente los resultados. Las correlaciones espurias podrían ser el resultado de cómo, dónde o cuándo se recopilaron los datos. \n",
    "\n",
    "Esto no es para minimizar o invalidar los resultados del modelo. Dados documentos cuidadosamente limpios y una cantidad adecuada de temas, las agrupaciones de palabras, como vimos, pueden ser una buena guía sobre lo que contiene un corpus y pueden incorporarse de manera efectiva en sistemas de datos más grandes como ser los sistemas de recomendación vistos en este módulo."
   ]
  },
  {
   "cell_type": "markdown",
   "metadata": {},
   "source": [
    "## Referencias\n",
    "\n",
    "- Banik, R. (2018). Hands-on recommendation systems with Python: start building powerful and personalized, recommendation engines with Python. Packt Publishing Ltd.\n",
    "\n",
    "- Blei, D. M., Jordan, M. I., &; Ng, A. Y. (2003). Latent Dirichlet Allocation. JMLR.org, 3, 993–1022. https://doi.org/10.5555/944919.944937 \n",
    "\n",
    "- Fradejas Rueda, J. M. (2020). Cuentapalabras. Estilometrıa y análisis de texto con R para filólogos.\n",
    "\n",
    "- Hoffman, M., Bach, F., & Blei, D. (2010). Online learning for latent dirichlet allocation. advances in neural information processing systems, 23.\n",
    "\n",
    "- Murphy, K. P. (2012). Machine learning: a probabilistic perspective. MIT press.\n",
    "\n",
    "- Patel, A. A. (2019). Hands-on unsupervised learning using Python: how to build applied machine learning solutions from unlabeled data. O'Reilly Media.\n",
    "\n",
    "- Rehurek, R., & Sojka, P. (2011). Gensim–python framework for vector space modeling. NLP Centre, Faculty of Informatics, Masaryk University, Brno, Czech Republic, 3(2).\n",
    "\n",
    "- Röder, M., Both, A., & Hinneburg, A. (2015). Exploring the space of topic coherence measures. In Proceedings of the eighth ACM international conference on Web search and data mining (pp. 399-408)."
   ]
  },
  {
   "cell_type": "markdown",
   "metadata": {},
   "source": [
    "# Información de Sesión"
   ]
  },
  {
   "cell_type": "code",
   "execution_count": 25,
   "metadata": {},
   "outputs": [
    {
     "name": "stdout",
     "output_type": "stream",
     "text": [
      "-----\n",
      "gensim              4.3.3\n",
      "matplotlib          3.10.6\n",
      "numpy               1.25.2\n",
      "pandas              2.3.2\n",
      "pyLDAvis            3.4.0\n",
      "session_info        v1.0.1\n",
      "spacy               3.6.1\n",
      "unidecode           NA\n",
      "-----\n",
      "IPython             8.6.0\n",
      "jupyter_client      7.3.4\n",
      "jupyter_core        5.0.0\n",
      "jupyterlab          3.5.0\n",
      "notebook            6.5.2\n",
      "-----\n",
      "Python 3.10.6 | packaged by conda-forge | (main, Aug 22 2022, 20:36:39) [GCC 10.4.0]\n",
      "Linux-6.5.0-1020-aws-x86_64-with-glibc2.35\n",
      "-----\n",
      "Session information updated at 2025-09-15 07:05\n"
     ]
    }
   ],
   "source": [
    "import session_info\n",
    "\n",
    "session_info.show(html=False)"
   ]
  }
 ],
 "metadata": {
  "interpreter": {
   "hash": "fe36d3cf18f454bb22b210d1ce52ae8c21a1b2f0a9257a143474ae90bef14b60"
  },
  "kernelspec": {
   "display_name": "Python 3 (ipykernel)",
   "language": "python",
   "name": "python3"
  },
  "language_info": {
   "codemirror_mode": {
    "name": "ipython",
    "version": 3
   },
   "file_extension": ".py",
   "mimetype": "text/x-python",
   "name": "python",
   "nbconvert_exporter": "python",
   "pygments_lexer": "ipython3",
   "version": "3.10.6"
  },
  "toc": {
   "base_numbering": 1,
   "nav_menu": {},
   "number_sections": true,
   "sideBar": true,
   "skip_h1_title": false,
   "title_cell": "Table of Contents",
   "title_sidebar": "Contents",
   "toc_cell": false,
   "toc_position": {},
   "toc_section_display": true,
   "toc_window_display": false
  }
 },
 "nbformat": 4,
 "nbformat_minor": 4
}
